{
 "cells": [
  {
   "cell_type": "code",
   "execution_count": 1,
   "metadata": {},
   "outputs": [
    {
     "name": "stdout",
     "output_type": "stream",
     "text": [
      "Vocabulário possui 5022 palavras!\n"
     ]
    }
   ],
   "source": [
    "import matplotlib.pyplot as plt\n",
    "import numpy as np\n",
    "import pandas as pd\n",
    "import pre_processing as pp\n",
    "import analysis as anl\n",
    "import pca\n",
    "\n",
    "category = 'kitchen_&_housewares'\n",
    "\n",
    "hNeg = True #if true, add negative bigrams for negative reviews\n",
    "noun = False #if true, add nouns\n",
    "\n",
    "X, Y, vocabulary = pp.bow(category, hNeg, noun)\n",
    "\n",
    "print(\"Vocabulário possui \" + str(len(vocabulary)) + \" palavras!\")"
   ]
  },
  {
   "cell_type": "code",
   "execution_count": 2,
   "metadata": {},
   "outputs": [],
   "source": [
    "def normalizar(X):\n",
    "\n",
    "    m, n = X.shape # m = qtde de objetos e n = qtde de atributos por objeto\n",
    "    \n",
    "    # Inicializa as variaves de saída\n",
    "    X_norm = np.zeros( (m,n) ) #inicializa X_norm (base normalizada)\n",
    "    #X_norm = lil_matrix((m, n))\n",
    "    mu = 0 # inicializa a média\n",
    "    sigma = 1 # inicializa o desvio padrão\n",
    "      \n",
    "    mu = np.mean(X, axis=0)\n",
    "    sigma = np.std(X, axis=0, ddof=1)\n",
    "    \n",
    "    for i in range(m):\n",
    "        for j in range(n):\n",
    "            X_norm[i][j] = (X[i][j] - mu[j])/(sigma[j])\n",
    "        \n",
    "    return X_norm"
   ]
  },
  {
   "cell_type": "markdown",
   "metadata": {},
   "source": [
    "Separa os dados em treinamento e teste:"
   ]
  },
  {
   "cell_type": "code",
   "execution_count": 3,
   "metadata": {},
   "outputs": [],
   "source": [
    "# semente usada na randomizacao dos dados.\n",
    "randomSeed = 10 \n",
    "\n",
    "# gera os indices aleatorios que irao definir a ordem dos dados\n",
    "idx_perm = np.random.RandomState(randomSeed).permutation(range(len(Y)))\n",
    "\n",
    "# ordena os dados de acordo com os indices gerados aleatoriamente\n",
    "X2, Y2 = X[idx_perm, :], Y[idx_perm]\n",
    "\n",
    "#X2, Y2 = X[idx_perm, :], Y[idx_perm]\n",
    "\n",
    "pTrain = 0.8\n",
    "\n",
    "train_index, test_index = anl.stratified_holdOut(Y, pTrain)\n",
    "\n",
    "Xtrain, Xval = X2[train_index, :], X2[test_index, :]\n",
    "Ytrain, Yval = Y2[train_index], Y2[test_index]"
   ]
  },
  {
   "cell_type": "markdown",
   "metadata": {},
   "source": [
    "Seleciona features com chi-quadrado (a partir dos dados de treinamento):"
   ]
  },
  {
   "cell_type": "code",
   "execution_count": 4,
   "metadata": {},
   "outputs": [],
   "source": [
    "Xtrain, new_vocabulary, index = pp.chi2(Xtrain, Ytrain, vocabulary)\n",
    "Xval = Xval[:, index]\n",
    "\n",
    "Xtrain = Xtrain.toarray()\n",
    "Xval = Xval.toarray()"
   ]
  },
  {
   "cell_type": "code",
   "execution_count": 5,
   "metadata": {},
   "outputs": [
    {
     "name": "stdout",
     "output_type": "stream",
     "text": [
      "Número de features antes do chi-quadrado: 5022\n",
      "----------------------------------------\n",
      "Número de features após chi-quadrado: 195\n",
      "['recommend', 'fail', 'ok', 'spout', 'told', 'rememb', 'base', 'favorit', ('not', 'sure'), 'took', 'ware', 'evenli', 'well', 'easier', 'awesom', 'go', ('not', 'even'), ('not', 'expect'), ('not', 'tri'), ('not', 'know'), 'enjoy', 'ever', 'wast', 'effici', 'french', 'add', 'terribl', 'zest', 'bark', ('not', 'want'), 'provid', ('no', 'longer'), 'wors', 'kitchenaid', 'great', ('not', 'give'), 'warp', 'defect', 'poorli', 'stuck', 'not', ('not', 'good'), 'size', 'sturdi', 'sharpen', 'ring', 'bad', 'die', 'larg', ('not', 'fit'), 'send', 'replac', ('not', 'recommend'), 'hear', ('never', 'buy'), 'never', ('not', 'happi'), 'wrote', 'less', 'bread', 'broken', 'els', 'horribl', 'wine', ('not', 'work'), 'realli', ('not', 'buy'), ('not', 'purchas'), 'whisk', 'worst', 'griddl', ('not', 'get'), ('not', 'believ'), 'long', ('not', 'worth'), ('not', 'feel'), 'absolut', 'back', 'highli', ('not', 'wast'), 'power', ('not', 'go'), ('not', 'think'), 'kitchen', 'low', 'sent', 'broke', 'wooden', 'beat', 'slow', 'quiet', 'purchas', 'first', 'wonder', 'far', 'doubl', 'heavi', 'concern', 'everywher', 'second', 'depend', 'wait', 'thought', 'perfectli', 'come', ('not', 'not'), 'decid', 'eleg', 'rais', 'blender', 'bought', 'poor', 'best', 'start', 'cheap', 'plastic', 'disappoint', 'crush', 'rival', 'unfortun', ('not', 'use'), 'rowenta', 'durabl', 'fabul', 'crack', 'fit', 'feed', 'excit', 'aw', 'amaz', 'comfort', 'imposs', 'fantast', 'return', 'avoid', 'extra', 'need', 'safe', 'practic', 'pleas', 'dissapoint', 'dead', 'beauti', 'serv', 'even', 'tri', 'danger', 'littl', ('not', 'last'), 'fish', ('not', 'clean'), 'clean', 'notic', 'arriv', 'quick', 'toaster', ('not', 'well'), 'work', 'special', 'call', 'buy', 'gear', 'excel', ('not', 'hold'), 'leak', 'essenti', 'receiv', 'worri', 'bare', 'also', 'love', 'shop', 'difficult', 'impress', 'perfect', 'stop', 'black', 'larger', 'weak', 'no', 'end', 'warn', 'cook', ('not', 'make'), 'outstand', 'sharp', 'save', ('not', 'find'), 'easi', 'nice', 'almost', ('not', 'seem'), ('not', 'enough'), 'hold', 'refurbish']\n"
     ]
    }
   ],
   "source": [
    "print(\"Número de features antes do chi-quadrado: \" + str(len(vocabulary)))\n",
    "print(\"----------------------------------------\")\n",
    "print(\"Número de features após chi-quadrado: \" + str(len(new_vocabulary)))\n",
    "print(new_vocabulary)"
   ]
  },
  {
   "cell_type": "code",
   "execution_count": 6,
   "metadata": {},
   "outputs": [],
   "source": [
    "def distancia(x, X):\n",
    "               \n",
    "    m = X.shape[0] \n",
    "    D = np.zeros(m) \n",
    "\n",
    "    i = 0\n",
    "    for amostra in X:\n",
    "        D = np.linalg.norm(amostra - x)\n",
    "        i += 1\n",
    "                    \n",
    "    return D"
   ]
  },
  {
   "cell_type": "code",
   "execution_count": 7,
   "metadata": {},
   "outputs": [],
   "source": [
    "def knn(x, X, Y, K):\n",
    "        \n",
    "    y = 0 \n",
    "    \n",
    "    ind_viz = np.ones(K, dtype=int)\n",
    "    \n",
    "    D = distancia(x, X)\n",
    "    \n",
    "    votos = np.zeros(len(set(Y)))\n",
    "\n",
    "    ind_viz = np.argsort(D)[:K]\n",
    "            \n",
    "    for indice in ind_viz:\n",
    "        votos[Y[indice]] += 1    \n",
    "            \n",
    "    y = np.argmax(votos)\n",
    "        \n",
    "    return y"
   ]
  },
  {
   "cell_type": "code",
   "execution_count": 8,
   "metadata": {},
   "outputs": [
    {
     "name": "stdout",
     "output_type": "stream",
     "text": [
      "K = 3\n",
      "0.4875\n",
      "\n",
      "\tRevocacao   Precisao   F-medida   Classe\n",
      "\t0.000       nan      nan      0\n",
      "\t1.000       0.487      0.655      1\n",
      "\t------------------------------------------------\n",
      "\t0.500       nan      nan      Média macro\n",
      "\t0.487       0.487      0.487      Média micro\n",
      "\n",
      "\tAcuracia: 0.487\n",
      "K = 5\n"
     ]
    },
    {
     "name": "stderr",
     "output_type": "stream",
     "text": [
      "/home/caroline/Dropbox/AM/Projeto/am/analysis.py:53: RuntimeWarning: invalid value encountered in true_divide\n",
      "  precisao = vp/(vp + fp)\n"
     ]
    },
    {
     "name": "stdout",
     "output_type": "stream",
     "text": [
      "0.4875\n",
      "\n",
      "\tRevocacao   Precisao   F-medida   Classe\n",
      "\t0.000       nan      nan      0\n",
      "\t1.000       0.487      0.655      1\n",
      "\t------------------------------------------------\n",
      "\t0.500       nan      nan      Média macro\n",
      "\t0.487       0.487      0.487      Média micro\n",
      "\n",
      "\tAcuracia: 0.487\n",
      "K = 7\n",
      "0.4875\n",
      "\n",
      "\tRevocacao   Precisao   F-medida   Classe\n",
      "\t0.000       nan      nan      0\n",
      "\t1.000       0.487      0.655      1\n",
      "\t------------------------------------------------\n",
      "\t0.500       nan      nan      Média macro\n",
      "\t0.487       0.487      0.487      Média micro\n",
      "\n",
      "\tAcuracia: 0.487\n",
      "K = 9\n",
      "0.4875\n",
      "\n",
      "\tRevocacao   Precisao   F-medida   Classe\n",
      "\t0.000       nan      nan      0\n",
      "\t1.000       0.487      0.655      1\n",
      "\t------------------------------------------------\n",
      "\t0.500       nan      nan      Média macro\n",
      "\t0.487       0.487      0.487      Média micro\n",
      "\n",
      "\tAcuracia: 0.487\n",
      "K = 11\n",
      "0.4875\n",
      "\n",
      "\tRevocacao   Precisao   F-medida   Classe\n",
      "\t0.000       nan      nan      0\n",
      "\t1.000       0.487      0.655      1\n",
      "\t------------------------------------------------\n",
      "\t0.500       nan      nan      Média macro\n",
      "\t0.487       0.487      0.487      Média micro\n",
      "\n",
      "\tAcuracia: 0.487\n"
     ]
    }
   ],
   "source": [
    "def predicao(K, Xtrain, Ytrain, Xval, Yval):\n",
    "    \n",
    "    Ypred = []\n",
    "\n",
    "    for i in range(Xval.shape[0]):\n",
    "        y = knn(Xval[i], Xtrain, Ytrain, K)\n",
    "        Ypred.append(y)\n",
    "        \n",
    "    acuracia = np.sum(Ypred==Yval)/len(Yval)\n",
    "    \n",
    "    return Ypred, acuracia\n",
    "\n",
    "\n",
    "classes = np.unique(Y)\n",
    "\n",
    "for k in range(3, 12, 2):\n",
    "    print(\"K = \" + str(k))\n",
    "    Ypred, acuracia = predicao(k, Xtrain, Ytrain, Xval, Yval)\n",
    "    print(acuracia)\n",
    "    auxResults = anl.relatorioDesempenho(Yval, Ypred, classes, imprimeRelatorio=True)"
   ]
  },
  {
   "cell_type": "code",
   "execution_count": 9,
   "metadata": {},
   "outputs": [],
   "source": [
    "def curva_aprendizado(X, Y, Xval, Yval):\n",
    "   \n",
    "    \"\"\"\n",
    "    Funcao usada gerar a curva de aprendizado.\n",
    "  \n",
    "    Parametros\n",
    "    ----------\n",
    "  \n",
    "    X : matriz com os dados de treinamento\n",
    "  \n",
    "    Y : vetor com as classes dos dados de treinamento\n",
    "  \n",
    "    Xval : matriz com os dados de validação\n",
    "  \n",
    "    Yval : vetor com as classes dos dados de validação\n",
    "  \n",
    "    \"\"\"\n",
    "    \n",
    "    k = 5\n",
    "\n",
    "    # inicializa as listas que guardarao a performance no treinamento e na validacao\n",
    "    perf_train = []\n",
    "    perf_val = []\n",
    "\n",
    "    classes = np.unique(Y)\n",
    "    \n",
    "    for i in range(10, len(Y)):\n",
    "        \n",
    "        Ypred, acuracia = predicao(k, X[:i], Y[:i], X[:i], Y[:i])\n",
    "        perf_train.append(acuracia)\n",
    "\n",
    "        Ypred, acuracia = predicao(k, X[:i], Y[:i], Xval, Yval)\n",
    "        perf_val.append(acuracia)\n",
    "\n",
    "\n",
    "    ##################################################################################\n",
    "       \n",
    "    # Define o tamanho da figura \n",
    "    plt.figure(figsize=(20,12))\n",
    "\n",
    "    # Plota os dados\n",
    "    plt.plot(perf_train, color='blue', linestyle='-', linewidth=1.5, label='Treino') \n",
    "    plt.plot(perf_val, color='red', linestyle='-', linewidth=1.5, label='Validação')\n",
    "\n",
    "    # Define os nomes do eixo x e do eixo y\n",
    "    plt.xlabel(r'# Qtd. de dados de treinamento',fontsize='x-large') \n",
    "    plt.ylabel(r'Acuracia',fontsize='x-large') \n",
    "\n",
    "    # Define o título do gráfico\n",
    "    plt.title(r'Curva de aprendizado', fontsize='x-large')\n",
    "\n",
    "    # Acrescenta um grid no gráfico\n",
    "    plt.grid(axis='both')\n",
    "\n",
    "    # Plota a legenda\n",
    "    plt.legend()\n",
    "    \n",
    "    plt.show()"
   ]
  },
  {
   "cell_type": "code",
   "execution_count": 10,
   "metadata": {},
   "outputs": [],
   "source": [
    "#curva_aprendizado(Xtrain, Ytrain, Xval, Yval)"
   ]
  }
 ],
 "metadata": {
  "kernelspec": {
   "display_name": "Python 3",
   "language": "python",
   "name": "python3"
  },
  "language_info": {
   "codemirror_mode": {
    "name": "ipython",
    "version": 3
   },
   "file_extension": ".py",
   "mimetype": "text/x-python",
   "name": "python",
   "nbconvert_exporter": "python",
   "pygments_lexer": "ipython3",
   "version": "3.6.8"
  }
 },
 "nbformat": 4,
 "nbformat_minor": 2
}
