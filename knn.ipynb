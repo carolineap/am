{
 "cells": [
  {
   "cell_type": "markdown",
   "metadata": {},
   "source": [
    "# <img src=\"assets/ufscar.png\" alt=\"Logo UFScar\" width=\"200\" align=\"left\"/><p><center>Universidade Federal de São Carlos (UFSCar)</center><br/><font size=\"4\"><center> Departamento de Computação, campus Sorocaba </center> </font>\n",
    "\n",
    "\n",
    "<font size=\"4\"><center><b>Disciplina: Aprendizado de Máquina</b></center></font>\n",
    "<font size=\"3\"><center>Prof. Dr. Tiago A. Almeida</center></font>\n",
    "</p>\n",
    "\n",
    "<br>\n",
    "<font size = \"4\"><center><b> Grupo 5: Análise de sentimento de reviews na Amazon </b></center></font>\n",
    "<br>"
   ]
  },
  {
   "cell_type": "markdown",
   "metadata": {},
   "source": [
    "# KNN - K Nearest Neighbors"
   ]
  },
  {
   "cell_type": "code",
   "execution_count": 1,
   "metadata": {},
   "outputs": [
    {
     "name": "stdout",
     "output_type": "stream",
     "text": [
      "Vocabulário possui 1509 palavras!\n"
     ]
    }
   ],
   "source": [
    "import matplotlib.pyplot as plt\n",
    "import numpy as np\n",
    "import pandas as pd\n",
    "import pre_processing as pp\n",
    "import analysis as anl\n",
    "import pca\n",
    "\n",
    "# Categoria da base de dados a ser lida (do disco) e processada\n",
    "# [books, kitchen_&_housewares, electronics, dvd, all]\n",
    "category = 'test'\n",
    "\n",
    "# Se positivo, adiciona bigramas para reviews negativas\n",
    "# ex: ('not', 'good') equivale a uma única feature\n",
    "hNeg = True\n",
    "\n",
    "# Se positivo, adiciona substantivos\n",
    "noun = False\n",
    "\n",
    "# Guarda as features já pré processadas em X, a classe da amostra em Y e o vocabulário em vocabulary\n",
    "# hNeg e noun são opcionais, por padrão hNeg=True, noun=False\n",
    "X, Y, vocabulary = pp.bow(category, hNeg, noun)\n",
    "\n",
    "print(\"Vocabulário possui \" + str(len(vocabulary)) + \" palavras!\")"
   ]
  },
  {
   "cell_type": "markdown",
   "metadata": {},
   "source": [
    "#### Função auxiliar para normalizar os dados:"
   ]
  },
  {
   "cell_type": "code",
   "execution_count": 2,
   "metadata": {},
   "outputs": [],
   "source": [
    "def normalizar(X):\n",
    "\n",
    "    m, n = X.shape # m = qtde de objetos e n = qtde de atributos por objeto\n",
    "    \n",
    "    # Inicializa as variáveis de saída\n",
    "    X_norm = np.zeros( (m,n) ) #inicializa X_norm (base normalizada)\n",
    "\n",
    "    mu = 0 # inicializa a média\n",
    "    sigma = 1 # inicializa o desvio padrão\n",
    "      \n",
    "    mu = np.mean(X, axis=0)\n",
    "    sigma = np.std(X, axis=0, ddof=1)\n",
    "    \n",
    "    for i in range(m):\n",
    "        for j in range(n):\n",
    "            X_norm[i][j] = (X[i][j] - mu[j])/(sigma[j])\n",
    "        \n",
    "    return X_norm"
   ]
  },
  {
   "cell_type": "markdown",
   "metadata": {},
   "source": [
    "#### Separa os dados em treinamento e teste:"
   ]
  },
  {
   "cell_type": "code",
   "execution_count": 3,
   "metadata": {},
   "outputs": [],
   "source": [
    "# semente usada na randomizacao dos dados.\n",
    "randomSeed = 10 \n",
    "\n",
    "# gera os indices aleatorios que irao definir a ordem dos dados\n",
    "idx_perm = np.random.RandomState(randomSeed).permutation(range(len(Y)))\n",
    "\n",
    "# ordena os dados de acordo com os indices gerados aleatoriamente\n",
    "X2, Y2 = X[idx_perm, :], Y[idx_perm]\n",
    "\n",
    "# Porcentagem de amostras destinadas à base de treino\n",
    "pTrain = 0.8\n",
    "\n",
    "# Executa o holdout e retorna os índices de treino e teste, mantendo a proporção original entre as classes\n",
    "train_index, test_index = anl.stratified_holdOut(Y, pTrain)\n",
    "\n",
    "# Guarda as amostras de treino e teste\n",
    "Xtrain, Xval = X2[train_index, :], X2[test_index, :]\n",
    "Ytrain, Yval = Y2[train_index], Y2[test_index]"
   ]
  },
  {
   "cell_type": "markdown",
   "metadata": {},
   "source": [
    "#### Seleciona features com chi-quadrado (a partir dos dados de treinamento):"
   ]
  },
  {
   "cell_type": "code",
   "execution_count": 4,
   "metadata": {},
   "outputs": [],
   "source": [
    "# Seta o valor de alpha para o chi-quadrado. \n",
    "# alpha é opcional, por padrão alpha = 0.05\n",
    "alpha = 0.05\n",
    "\n",
    "# Chama a função para executar o chi-quadrado e retorna a nova base de dados reduzida\n",
    "# o novo vocabulário e os índices das features mantidas\n",
    "Xtrain, new_vocabulary, index = pp.chi2(Xtrain, Ytrain, vocabulary, alpha)\n",
    "\n",
    "# Seleciona apenas as features do índice retornado pelo chi-quadrado para a base de teste\n",
    "Xval = Xval[:, index]\n",
    "\n",
    "# Converte as bases de matriz esparsa para array\n",
    "Xtrain = Xtrain.toarray()\n",
    "Xval = Xval.toarray()"
   ]
  },
  {
   "cell_type": "code",
   "execution_count": 5,
   "metadata": {},
   "outputs": [
    {
     "name": "stdout",
     "output_type": "stream",
     "text": [
      "Número de features antes do chi-quadrado: 1509\n",
      "----------------------------------------\n",
      "Número de features após chi-quadrado: 26\n",
      "['good', 'true', 'love', 'eat', 'said', 'well', 'whole', 'tri', 'pain', 'explain', 'entir', 'less', 'arab', 'not', 'written', 'die', 'heal', 'wast', 'wish', 'legal', 'bad', 'wild', 'mean', 'hormon', 'paleolith', 'horribl']\n"
     ]
    }
   ],
   "source": [
    "print(\"Número de features antes do chi-quadrado: \" + str(len(vocabulary)))\n",
    "print(\"----------------------------------------\")\n",
    "print(\"Número de features após chi-quadrado: \" + str(len(new_vocabulary)))\n",
    "print(new_vocabulary)"
   ]
  },
  {
   "cell_type": "markdown",
   "metadata": {},
   "source": [
    "#### Função auxiliar para calcular as distâncias de uma amostra x à base X:"
   ]
  },
  {
   "cell_type": "code",
   "execution_count": 6,
   "metadata": {},
   "outputs": [],
   "source": [
    "def distancia(x, X):\n",
    "    \n",
    "    # m = número de amostras da base X\n",
    "    m = X.shape[0] \n",
    "    \n",
    "    # Inicializa variável para guardas as distâncias, que será retornada pela função\n",
    "    D = np.zeros(m) \n",
    "\n",
    "    i = 0\n",
    "    \n",
    "    # Para cada amostra em X, calcula a distância para x e guarda em D[i]\n",
    "    for amostra in X:\n",
    "        D[i] = np.linalg.norm(amostra - x)\n",
    "        i += 1\n",
    "             \n",
    "            \n",
    "    return D"
   ]
  },
  {
   "cell_type": "markdown",
   "metadata": {},
   "source": [
    "#### Implementação do KNN:"
   ]
  },
  {
   "cell_type": "code",
   "execution_count": 7,
   "metadata": {},
   "outputs": [],
   "source": [
    "def knn(x, X, Y, K):\n",
    "    \n",
    "    # Inicializa a variável de retorno (classe predita da amostra)\n",
    "    y = 0 \n",
    "    \n",
    "    # Inicializa vetor para guardar os índices dos k vizinhos mais próximos\n",
    "    ind_viz = np.ones(K, dtype=int)\n",
    "    \n",
    "    # Guarda as distâncias de cada amostra da base X para a amostra x\n",
    "    D = distancia(x, X)\n",
    "    \n",
    "    # Vetor com as classes da base, que receberá os votos \n",
    "    votos = np.zeros(len(set(Y)))\n",
    "\n",
    "    # Guarda os índices dos k vizinhos mais próximos\n",
    "    ind_viz = np.argsort(D)[:K]\n",
    "    \n",
    "    # Para cada amostra nos vizinhos mais próximos, acrescenta um voto para a classe pertencente\n",
    "    for indice in ind_viz:\n",
    "        votos[Y[indice]] += 1 \n",
    "        \n",
    "    # A classe que tiver mais votos é a escolhida para a predição\n",
    "    y = np.argmax(votos)\n",
    "        \n",
    "    return y"
   ]
  },
  {
   "cell_type": "markdown",
   "metadata": {},
   "source": [
    "#### Função auxiliar para predizer um conjunto de amostras:"
   ]
  },
  {
   "cell_type": "code",
   "execution_count": 13,
   "metadata": {},
   "outputs": [],
   "source": [
    "def predicao(K, Xtrain, Ytrain, Xval, Yval):\n",
    "    \n",
    "    # Inicializa a variável de retorno, com as predições para cada amostra\n",
    "    Ypred = []\n",
    "\n",
    "    # Executa o KNN para cada amostra e guarda em Ypred\n",
    "    for i in range(Xval.shape[0]):\n",
    "        y = knn(Xval[i], Xtrain, Ytrain, K)\n",
    "        Ypred.append(y)\n",
    "        \n",
    "    # Calcula a acurácia da predição para o conjunto Xval    \n",
    "    acuracia = np.sum(Ypred==Yval)/len(Yval)\n",
    "    \n",
    "    return Ypred, acuracia"
   ]
  },
  {
   "cell_type": "markdown",
   "metadata": {},
   "source": [
    "## Curva de Aprendizado:"
   ]
  },
  {
   "cell_type": "code",
   "execution_count": 16,
   "metadata": {},
   "outputs": [],
   "source": [
    "def curva_aprendizado(X, Y, Xval, Yval, k = 1, num_iteracoes = 0):\n",
    "   \n",
    "    \"\"\"\n",
    "    Funcao usada gerar a curva de aprendizado.\n",
    "  \n",
    "    Parametros\n",
    "    ----------\n",
    "  \n",
    "    X : matriz com os dados de treinamento\n",
    "  \n",
    "    Y : vetor com as classes dos dados de treinamento\n",
    "  \n",
    "    Xval : matriz com os dados de validação\n",
    "  \n",
    "    Yval : vetor com as classes dos dados de validação\n",
    "    \n",
    "    k : escalar indicando o número de vizinhos\n",
    "    \n",
    "    passo : escalar indicando a quantidade de iterações\n",
    "  \n",
    "    \"\"\"\n",
    "\n",
    "    # Define a quantidade de iterações, por padrão, itera por cada amostra da base de treino\n",
    "    if (num_iteracoes <= 0 or num_it):\n",
    "        num_iteracoes = len (Y)\n",
    "    \n",
    "    # inicializa as listas que guardarao a performance no treinamento e na validacao\n",
    "    perf_train = []\n",
    "    perf_val = []\n",
    "\n",
    "    classes = np.unique(Y)\n",
    "    \n",
    "    for i in range(10, len(Y), int (len(Y)/num_iteracoes)):\n",
    "        \n",
    "        Ypred, acuracia = predicao(k, X[:i], Y[:i], X[:i], Y[:i])\n",
    "        perf_train.append(acuracia)\n",
    "\n",
    "        Ypred, acuracia = predicao(k, X[:i], Y[:i], Xval, Yval)\n",
    "        perf_val.append(acuracia)\n",
    "\n",
    "\n",
    "    ##################################################################################\n",
    "       \n",
    "    # Define o tamanho da figura \n",
    "    plt.figure(figsize=(20,12))\n",
    "\n",
    "    # Plota os dados\n",
    "    plt.plot(perf_train, color='blue', linestyle='-', linewidth=1.5, label='Treino') \n",
    "    plt.plot(perf_val, color='red', linestyle='-', linewidth=1.5, label='Validação')\n",
    "\n",
    "    # Define os nomes do eixo x e do eixo y\n",
    "    plt.xlabel(r'# Qtd. de dados de treinamento',fontsize='x-large') \n",
    "    plt.ylabel(r'Acuracia',fontsize='x-large') \n",
    "\n",
    "    # Define o título do gráfico\n",
    "    plt.title(r'Curva de aprendizado', fontsize='x-large')\n",
    "\n",
    "    # Acrescenta um grid no gráfico\n",
    "    plt.grid(axis='both')\n",
    "\n",
    "    # Plota a legenda\n",
    "    plt.legend()\n",
    "    \n",
    "    plt.show()"
   ]
  },
  {
   "cell_type": "code",
   "execution_count": 15,
   "metadata": {},
   "outputs": [
    {
     "ename": "ValueError",
     "evalue": "range() arg 3 must not be zero",
     "output_type": "error",
     "traceback": [
      "\u001b[0;31m---------------------------------------------------------------------------\u001b[0m",
      "\u001b[0;31mValueError\u001b[0m                                Traceback (most recent call last)",
      "\u001b[0;32m<ipython-input-15-5704da5fbcd9>\u001b[0m in \u001b[0;36m<module>\u001b[0;34m\u001b[0m\n\u001b[1;32m      1\u001b[0m \u001b[0;31m# k = quantidade de vizinhos utilizado na votação do KNN\u001b[0m\u001b[0;34m\u001b[0m\u001b[0;34m\u001b[0m\u001b[0;34m\u001b[0m\u001b[0m\n\u001b[1;32m      2\u001b[0m \u001b[0;31m# num_iteracoes = número de iterações da curva de aprendizado, por padrão o passo é equivalente ao\u001b[0m\u001b[0;34m\u001b[0m\u001b[0;34m\u001b[0m\u001b[0;34m\u001b[0m\u001b[0m\n\u001b[0;32m----> 3\u001b[0;31m \u001b[0mcurva_aprendizado\u001b[0m\u001b[0;34m(\u001b[0m\u001b[0mXtrain\u001b[0m\u001b[0;34m,\u001b[0m \u001b[0mYtrain\u001b[0m\u001b[0;34m,\u001b[0m \u001b[0mXval\u001b[0m\u001b[0;34m,\u001b[0m \u001b[0mYval\u001b[0m\u001b[0;34m,\u001b[0m \u001b[0mk\u001b[0m \u001b[0;34m=\u001b[0m \u001b[0;36m5\u001b[0m\u001b[0;34m,\u001b[0m \u001b[0mnum_iteracoes\u001b[0m \u001b[0;34m=\u001b[0m \u001b[0;36m100\u001b[0m\u001b[0;34m)\u001b[0m\u001b[0;34m\u001b[0m\u001b[0;34m\u001b[0m\u001b[0m\n\u001b[0m",
      "\u001b[0;32m<ipython-input-14-3a478f8157fa>\u001b[0m in \u001b[0;36mcurva_aprendizado\u001b[0;34m(X, Y, Xval, Yval, k, num_iteracoes)\u001b[0m\n\u001b[1;32m     31\u001b[0m     \u001b[0mclasses\u001b[0m \u001b[0;34m=\u001b[0m \u001b[0mnp\u001b[0m\u001b[0;34m.\u001b[0m\u001b[0munique\u001b[0m\u001b[0;34m(\u001b[0m\u001b[0mY\u001b[0m\u001b[0;34m)\u001b[0m\u001b[0;34m\u001b[0m\u001b[0;34m\u001b[0m\u001b[0m\n\u001b[1;32m     32\u001b[0m \u001b[0;34m\u001b[0m\u001b[0m\n\u001b[0;32m---> 33\u001b[0;31m     \u001b[0;32mfor\u001b[0m \u001b[0mi\u001b[0m \u001b[0;32min\u001b[0m \u001b[0mrange\u001b[0m\u001b[0;34m(\u001b[0m\u001b[0;36m10\u001b[0m\u001b[0;34m,\u001b[0m \u001b[0mlen\u001b[0m\u001b[0;34m(\u001b[0m\u001b[0mY\u001b[0m\u001b[0;34m)\u001b[0m\u001b[0;34m,\u001b[0m \u001b[0mint\u001b[0m \u001b[0;34m(\u001b[0m\u001b[0mlen\u001b[0m\u001b[0;34m(\u001b[0m\u001b[0mY\u001b[0m\u001b[0;34m)\u001b[0m\u001b[0;34m/\u001b[0m\u001b[0mnum_iteracoes\u001b[0m\u001b[0;34m)\u001b[0m\u001b[0;34m)\u001b[0m\u001b[0;34m:\u001b[0m\u001b[0;34m\u001b[0m\u001b[0;34m\u001b[0m\u001b[0m\n\u001b[0m\u001b[1;32m     34\u001b[0m \u001b[0;34m\u001b[0m\u001b[0m\n\u001b[1;32m     35\u001b[0m         \u001b[0mYpred\u001b[0m\u001b[0;34m,\u001b[0m \u001b[0macuracia\u001b[0m \u001b[0;34m=\u001b[0m \u001b[0mpredicao\u001b[0m\u001b[0;34m(\u001b[0m\u001b[0mk\u001b[0m\u001b[0;34m,\u001b[0m \u001b[0mX\u001b[0m\u001b[0;34m[\u001b[0m\u001b[0;34m:\u001b[0m\u001b[0mi\u001b[0m\u001b[0;34m]\u001b[0m\u001b[0;34m,\u001b[0m \u001b[0mY\u001b[0m\u001b[0;34m[\u001b[0m\u001b[0;34m:\u001b[0m\u001b[0mi\u001b[0m\u001b[0;34m]\u001b[0m\u001b[0;34m,\u001b[0m \u001b[0mX\u001b[0m\u001b[0;34m[\u001b[0m\u001b[0;34m:\u001b[0m\u001b[0mi\u001b[0m\u001b[0;34m]\u001b[0m\u001b[0;34m,\u001b[0m \u001b[0mY\u001b[0m\u001b[0;34m[\u001b[0m\u001b[0;34m:\u001b[0m\u001b[0mi\u001b[0m\u001b[0;34m]\u001b[0m\u001b[0;34m)\u001b[0m\u001b[0;34m\u001b[0m\u001b[0;34m\u001b[0m\u001b[0m\n",
      "\u001b[0;31mValueError\u001b[0m: range() arg 3 must not be zero"
     ]
    }
   ],
   "source": [
    "# k = quantidade de vizinhos utilizado na votação do KNN\n",
    "# num_iteracoes = número de iterações da curva de aprendizado, por padrão o passo é equivalente ao \n",
    "curva_aprendizado(Xtrain, Ytrain, Xval, Yval, k = 5, num_iteracoes = 20)"
   ]
  },
  {
   "cell_type": "markdown",
   "metadata": {},
   "source": [
    "## K-Folds"
   ]
  },
  {
   "cell_type": "code",
   "execution_count": null,
   "metadata": {},
   "outputs": [],
   "source": [
    "# Importa o arquivo local k_folds.py\n",
    "import k_folds as kf\n",
    "\n",
    "# Guarda todos os tipos de classes \n",
    "classes = np.unique(Y)\n",
    "\n",
    "# semente usada na randomização dos dados.\n",
    "randomSeed = 10 \n",
    "\n",
    "# gera os indices aleatorios que irao definir a ordem dos dados\n",
    "idx_perm = np.random.RandomState(randomSeed).permutation(range(len(Y)))\n",
    "\n",
    "# ordena os dados de acordo com os indices gerados aleatoriamente\n",
    "X3, Y3 = X[idx_perm, :], Y[idx_perm]\n",
    "\n",
    "# Quantidade de Folds a ser executado\n",
    "nFolds = 5\n",
    "\n",
    "# Guarda os índices dos nFolds\n",
    "folds = kf.stratified_kfolds(Y3, nFolds, classes)\n",
    "\n",
    "# K's a serem testados\n",
    "K = [3, 5, 7, 9, 11]\n",
    "\n",
    "for k in K:\n",
    "    # Apenas para controle das iterações\n",
    "    kfolds = 1\n",
    "    \n",
    "    # Cria uma lista vazia para guardar os resultados obtidos em cada fold\n",
    "    resultados=[] \n",
    "    \n",
    "    # Itera sobre os folds, guardando os índices de treino e teste\n",
    "    for train_index, test_index in folds:\n",
    "\n",
    "        print('\\n-----------\\n%d-fold: \\n-----------\\n' % (kfolds) )\n",
    "\n",
    "        # se train_index ou test_index forem vazios, interrompe o laco de repeticao\n",
    "        if len(train_index)==0 or len(test_index)==0: \n",
    "            print('\\tErro: o vetor com os indices de treinamento ou o vetor com os indices de teste esta vazio')      \n",
    "            break\n",
    "\n",
    "        # Guarda as bases de treino e teste baseado nos índices de cada fold\n",
    "        Xtrain, Xtest = X3[train_index, :], X3[test_index, :];\n",
    "        Ytrain, Ytest = Y3[train_index], Y3[test_index];\n",
    "\n",
    "        # Executa o chi-quadrado na base do fold atual\n",
    "        Xtrain, new_vocabulary, index = pp.chi2(Xtrain, Ytrain, vocabulary)\n",
    "        Xtest = Xtest[:,index]\n",
    "\n",
    "        # Converte as bases para array para serem usadas no KNN\n",
    "        Xtrain = Xtrain.toarray()\n",
    "        Xtest = Xtest.toarray()\n",
    "           \n",
    "        print(\"K = \" + str(k))\n",
    "        Ypred, acuracia = predicao(k, Xtrain, Ytrain, Xtest, Ytest)\n",
    "        auxResults = anl.relatorioDesempenho(Ytest, Ypred, classes, imprimeRelatorio=True)\n",
    "        \n",
    "        # Adiciona os resultados do fold atual na lista de resultados\n",
    "        resultados.append( auxResults )\n",
    "        \n",
    "        # Incrementa um na variável de controle do loop\n",
    "        kfolds += 1\n",
    "        \n",
    "    kf.mediaFolds( resultados, classes )\n",
    "   \n",
    "       \n",
    "    "
   ]
  },
  {
   "cell_type": "code",
   "execution_count": null,
   "metadata": {},
   "outputs": [],
   "source": []
  },
  {
   "cell_type": "code",
   "execution_count": null,
   "metadata": {},
   "outputs": [],
   "source": []
  }
 ],
 "metadata": {
  "kernelspec": {
   "display_name": "Python 3",
   "language": "python",
   "name": "python3"
  },
  "language_info": {
   "codemirror_mode": {
    "name": "ipython",
    "version": 3
   },
   "file_extension": ".py",
   "mimetype": "text/x-python",
   "name": "python",
   "nbconvert_exporter": "python",
   "pygments_lexer": "ipython3",
   "version": "3.7.3"
  }
 },
 "nbformat": 4,
 "nbformat_minor": 2
}
