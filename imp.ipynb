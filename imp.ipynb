{
 "cells": [
  {
   "cell_type": "markdown",
   "metadata": {},
   "source": [
    "# Pré processamento: \n",
    "Funções do arquivo pre_processing.py"
   ]
  },
  {
   "cell_type": "code",
   "execution_count": null,
   "metadata": {},
   "outputs": [],
   "source": [
    "import numpy as np\n",
    "import pandas as pd\n",
    "import nltk\n",
    "import pre_processing as pp\n",
    "\n",
    "category = 'test'\n",
    "\n",
    "df, df_chi2, Y = pp.bow(category)\n",
    "\n",
    "X = df.values\n",
    "X_chi = df_chi2.values\n"
   ]
  },
  {
   "cell_type": "markdown",
   "metadata": {},
   "source": [
    "Holdout estratificado para separar dados para treino e teste:"
   ]
  },
  {
   "cell_type": "code",
   "execution_count": null,
   "metadata": {},
   "outputs": [],
   "source": [
    "train_index, test_index = pp.stratified_holdOut(Y, 0.3)"
   ]
  },
  {
   "cell_type": "code",
   "execution_count": null,
   "metadata": {},
   "outputs": [],
   "source": [
    "Xtrain = X[train_index]\n",
    "Xtrain_chi = X_chi[train_index]\n",
    "Ytrain = Y[train_index]\n",
    "\n",
    "Xval =  X[test_index]\n",
    "Xval_chi = X_chi[test_index]\n",
    "Yval = Y[test_index]"
   ]
  },
  {
   "cell_type": "markdown",
   "metadata": {},
   "source": [
    "# K-vizinhos:"
   ]
  },
  {
   "cell_type": "code",
   "execution_count": null,
   "metadata": {},
   "outputs": [],
   "source": [
    "%load_ext autoreload\n",
    "%autoreload 2\n",
    "\n",
    "import k_neighbors\n",
    "from k_neighbors import knn\n",
    "\n",
    "\n",
    "for j in range(3, 8, 2):\n",
    "    \n",
    "    K = j\n",
    "    \n",
    "    print(\"K = \" + str(K))\n",
    "    \n",
    "    classes = []\n",
    "\n",
    "    for i in range(Xval.shape[0]):\n",
    "        y = knn(Xval[i], Xtrain, Ytrain, K)\n",
    "        classes.append(y)\n",
    "\n",
    "    print(\"Sem chi-squared:\")    \n",
    "        \n",
    "    print(str(np.sum(Yval == classes)) + \" de \" + str(len(classes)))\n",
    "\n",
    "    classes = []\n",
    "    \n",
    "    for i in range(Xval.shape[0]):\n",
    "        y = knn(Xval_chi[i], Xtrain_chi, Ytrain, K)\n",
    "        classes.append(y)\n",
    "        \n",
    "    print(\"Com chi-squared:\")    \n",
    "\n",
    "    print(str(np.sum(Yval == classes)) + \" de \" + str(len(classes)))\n",
    "    \n",
    "    print(\"-------------------------------------\")\n"
   ]
  },
  {
   "cell_type": "code",
   "execution_count": null,
   "metadata": {},
   "outputs": [],
   "source": []
  },
  {
   "cell_type": "markdown",
   "metadata": {},
   "source": [
    "# Regressão Logística"
   ]
  },
  {
   "cell_type": "code",
   "execution_count": null,
   "metadata": {},
   "outputs": [],
   "source": []
  },
  {
   "cell_type": "markdown",
   "metadata": {},
   "source": [
    "# Naive Bayes"
   ]
  },
  {
   "cell_type": "code",
   "execution_count": null,
   "metadata": {},
   "outputs": [],
   "source": []
  },
  {
   "cell_type": "markdown",
   "metadata": {},
   "source": [
    "# Redes Neurais Artificiais"
   ]
  },
  {
   "cell_type": "code",
   "execution_count": null,
   "metadata": {},
   "outputs": [],
   "source": []
  },
  {
   "cell_type": "markdown",
   "metadata": {},
   "source": [
    "# SVM"
   ]
  },
  {
   "cell_type": "code",
   "execution_count": null,
   "metadata": {},
   "outputs": [],
   "source": []
  },
  {
   "cell_type": "markdown",
   "metadata": {},
   "source": [
    "# INVENTAR +++"
   ]
  }
 ],
 "metadata": {
  "kernelspec": {
   "display_name": "Python 3",
   "language": "python",
   "name": "python3"
  },
  "language_info": {
   "codemirror_mode": {
    "name": "ipython",
    "version": 3
   },
   "file_extension": ".py",
   "mimetype": "text/x-python",
   "name": "python",
   "nbconvert_exporter": "python",
   "pygments_lexer": "ipython3",
   "version": "3.6.8"
  }
 },
 "nbformat": 4,
 "nbformat_minor": 2
}
