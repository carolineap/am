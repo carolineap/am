{
 "cells": [
  {
   "cell_type": "code",
   "execution_count": 1,
   "metadata": {},
   "outputs": [
    {
     "name": "stdout",
     "output_type": "stream",
     "text": [
      "Vocabulário possui 10766 palavras!\n"
     ]
    }
   ],
   "source": [
    "import matplotlib.pyplot as plt\n",
    "import numpy as np\n",
    "import pandas as pd\n",
    "import pre_processing as pp\n",
    "import analysis as anl\n",
    "import pca\n",
    "\n",
    "category = 'books'\n",
    "\n",
    "hNeg = True #if true, add negative bigrams for negative reviews\n",
    "noun = False #if true, add nouns\n",
    "\n",
    "X, Y, vocabulary = pp.bow(category, hNeg, noun)\n",
    "\n",
    "print(\"Vocabulário possui \" + str(len(vocabulary)) + \" palavras!\")"
   ]
  },
  {
   "cell_type": "code",
   "execution_count": 2,
   "metadata": {},
   "outputs": [],
   "source": [
    "# semente usada na randomizacao dos dados.\n",
    "randomSeed = 10 \n",
    "\n",
    "# gera os indices aleatorios que irao definir a ordem dos dados\n",
    "idx_perm = np.random.RandomState(randomSeed).permutation(range(len(Y)))\n",
    "\n",
    "# ordena os dados de acordo com os indices gerados aleatoriamente\n",
    "X2, Y2 = X[idx_perm, :], Y[idx_perm]\n",
    "\n",
    "pTrain = 0.8\n",
    "\n",
    "train_index, test_index = anl.stratified_holdOut(Y, pTrain)\n",
    "\n",
    "Xtrain, Xval = X2[train_index, :], X2[test_index, :];\n",
    "Ytrain, Yval = Y2[train_index], Y2[test_index];"
   ]
  },
  {
   "cell_type": "code",
   "execution_count": 3,
   "metadata": {},
   "outputs": [],
   "source": [
    "Xtrain, new_vocabulary, index = pp.chi2(Xtrain, Ytrain, vocabulary)\n",
    "Xval = Xval[:, index]\n",
    "\n",
    "#converte para outro tipo de matriz esparsa que facilita os cálculos do svm\n",
    "Xtrain = Xtrain.tolil() \n",
    "Xval = Xval.tolil()"
   ]
  },
  {
   "cell_type": "code",
   "execution_count": 4,
   "metadata": {},
   "outputs": [
    {
     "name": "stdout",
     "output_type": "stream",
     "text": [
      "Número de features antes do chi-quadrado: 10766\n",
      "----------------------------------------\n",
      "Número de features após chi-quadrado: 258\n",
      "[('not', 'enough'), 'elsewher', 'wast', ('not', 'understand'), 'nicklebi', 'expand', ('not', 'much'), 'comprehens', 'also', 'determin', 'histor', ('not', 'take'), 'beauti', 'even', 'pretti', 'simpl', 'gray', 'seem', 'europ', 'poorli', ('not', 'say'), ('not', 'read'), 'depress', 'danni', 'great', 'name', 'worst', 'sadli', 'edit', 'barber', ('not', 'help'), 'script', 'highli', 'poor', 'weather', 'actual', 'vagu', 'program', 'remark', 'awesom', ('not', 'buy'), 'narbi', ('never', 'read'), ('not', 'feel'), 'wisdom', 'advanc', 'bread', 'obviou', 'get', 'british', ('not', 'seem'), 'charli', 'go', ('not', 'alreadi'), 'paid', 'stare', 'drew', 'fantast', 'much', 'sean', 'badli', 'got', 'eve', 'prospect', 'instead', 'finish', 'hate', ('not', 'best'), 'gotten', 'hard', ('not', 'wait'), ('not', 'sure'), 'neutral', 'time', 'hendrix', ('not', 'good'), ('no', 'longer'), 'pay', ('not', 'make'), 'asid', ('not', 'alway'), ('not', 'happen'), 'skip', 'entertain', ('not', 'expect'), 'human', 'enjoy', 'wors', 'extraordinari', 'certain', 'less', 'alex', 'info', 'shallow', 'tri', 'ridicul', 'went', 'vivid', 'unseen', 'interest', 'terribl', ('not', 'see'), 'hardli', ('not', 'come'), 'darl', 'half', 'mislead', 'lie', 'believ', 'bias', ('not', 'think'), 'mention', 'accid', 'later', 'wonder', ('not', 'bad'), 'say', 'dull', 'straight', 'repetit', 'endless', ('never', 'seem'), 'insult', 'tire', ('not', 'bother'), 'fascin', ('not', 'thought'), ('not', 'give'), 'pp', 'ok', 'justifi', 'provid', 'fail', 'no', 'frustrat', 'point', 'secondari', 'left', ('not', 'not'), 'illumin', 'focu', ('not', 'know'), 'smith', 'pathet', 'easi', 'outstand', ('not', 'recommend'), 'silli', 'unfortun', 'becki', ('not', 'need'), 'shaara', 'aw', 'save', 'not', 'swisher', ('not', 'want'), 'insight', 'best', 'better', 'reinhart', 'write', 'flat', 'wrong', 'familiar', 'horribl', 'steve', 'twentieth', 'expect', ('not', 'complet'), 'rambl', 'recycl', 'rather', ('not', 'true'), 'bad', 'amaz', 'intens', 'quot', ('not', 'go'), 'dna', 'bore', 'predict', 'decent', 'pain', 'soon', 'weak', 'realli', ('not', 'finish'), 'unforgett', ('not', 'write'), 'challeng', ('not', 'get'), 'disjoint', 'useless', 'appli', 'super', 'strateg', 'illustr', ('not', 'use'), 'lack', 'masterpiec', ('not', 'find'), ('not', 'wast'), 'unrealist', 'favorit', 'hiaasen', ('not', 'even'), 'israel', 'notic', 'buy', 'suppos', 'help', 'famou', 'alreadi', 'accept', 'slow', 'includ', ('not', 'tell'), ('not', 'work'), 'love', 'trotski', 'master', 'repress', 'stun', ('not', 'care'), 'sad', 'stupid', 'ny', 'bare', 'never', 'inform', 'excel', 'formula', ('not', 'realli'), 'sorri', 'anderson', 'superfici', 'kagan', ('not', 'mention'), 'appreci', 'whine', 'sensit', 'seriou', 'import', 'recommend', 'evil', 'solid', 'bake', ('not', 'worth'), ('not', 'believ'), 'anni', 'care', 'disappoint', 'think', 'gpu', ('not', 'interest'), 'stick', 'spend']\n"
     ]
    }
   ],
   "source": [
    "print(\"Número de features antes do chi-quadrado: \" + str(len(vocabulary)))\n",
    "print(\"----------------------------------------\")\n",
    "print(\"Número de features após chi-quadrado: \" + str(len(new_vocabulary)))\n",
    "print(new_vocabulary)"
   ]
  },
  {
   "cell_type": "code",
   "execution_count": 5,
   "metadata": {},
   "outputs": [],
   "source": [
    "import svmutil\n",
    "from svmutil import svm_read_problem\n",
    "from svmutil import svm_problem\n",
    "from svmutil import svm_parameter\n",
    "from svmutil import svm_train\n",
    "from svmutil import svm_predict\n",
    "from svmutil import svm_save_model\n",
    "\n",
    "def gridSearch(X, Y, Xval, Yval):\n",
    "    #inicializa as variáveis que deverão ser retornadas pela função\n",
    "    custo = 1000\n",
    "    gamma = 1000\n",
    "    \n",
    "    values = []\n",
    "    for i in range(1, 10):\n",
    "         for j in range(-1, 3):\n",
    "            values.append(i/(10 ** j))\n",
    "    \n",
    "    acr = 0\n",
    "    \n",
    "    for i in values:\n",
    "        for j in values:\n",
    "            print(i)\n",
    "            print(j)\n",
    "            model = svm_train(Y, X, '-c %f -g %f -q' %(i, j))\n",
    "            classes = svm_predict([], Xval, model, '-q')\n",
    "            acuracia = np.sum(np.array(classes[0])==Yval)/len(Yval)\n",
    "            if acr < acuracia:\n",
    "                custo = i\n",
    "                gamma = j\n",
    "                acr = acuracia\n",
    "                print(acr)\n",
    "    \n",
    "    return custo, gamma"
   ]
  },
  {
   "cell_type": "code",
   "execution_count": 6,
   "metadata": {},
   "outputs": [],
   "source": [
    "def svm(Xtrain,Ytrain,Xval,Yval) :\n",
    "\n",
    "    #bestC, bestGamma = gridSearch(Xtrain, Ytrain, Xval, Yval)\n",
    "\n",
    "    bestC = 10\n",
    "    bestGamma = 0.01\n",
    "    \n",
    "    kernel = 2 #kernel radial\n",
    "    model = svm_train(Ytrain, Xtrain, '-c %f -t %d -g %f -q' %(bestC, kernel, bestGamma))\n",
    "    classes = svm_predict([], Xval, model, '-q')\n",
    "    acuracia = np.sum(np.array(classes[0])==Yval)/len(Yval)\n",
    "\n",
    "    return np.array(classes[0], dtype=\"int\"), acuracia"
   ]
  },
  {
   "cell_type": "code",
   "execution_count": 7,
   "metadata": {},
   "outputs": [
    {
     "name": "stdout",
     "output_type": "stream",
     "text": [
      "Acurácia é 0.9275\n"
     ]
    }
   ],
   "source": [
    "Ypred, acuracia = svm(Xtrain,Ytrain,Xval,Yval)\n",
    "print(\"Acurácia é \"+ str(acuracia*100))"
   ]
  },
  {
   "cell_type": "code",
   "execution_count": 8,
   "metadata": {},
   "outputs": [
    {
     "name": "stdout",
     "output_type": "stream",
     "text": [
      "\n",
      "\tRevocacao   Precisao   F-medida   Classe\n",
      "\t0.946       0.915      0.930      0\n",
      "\t0.908       0.941      0.924      1\n",
      "\t------------------------------------------------\n",
      "\t0.927       0.928      0.928      Média macro\n",
      "\t0.927       0.927      0.927      Média micro\n",
      "\n",
      "\tAcuracia: 0.927\n"
     ]
    }
   ],
   "source": [
    "classes = np.unique(Y)\n",
    "auxResults = anl.relatorioDesempenho(Yval, Ypred, classes, imprimeRelatorio=True)"
   ]
  },
  {
   "cell_type": "code",
   "execution_count": 9,
   "metadata": {},
   "outputs": [],
   "source": [
    "def curva_aprendizado(X, Y, Xval, Yval):\n",
    "   \n",
    "    \"\"\"\n",
    "    Funcao usada gerar a curva de aprendizado.\n",
    "  \n",
    "    Parametros\n",
    "    ----------\n",
    "  \n",
    "    X : matriz com os dados de treinamento\n",
    "  \n",
    "    Y : vetor com as classes dos dados de treinamento\n",
    "  \n",
    "    Xval : matriz com os dados de validação\n",
    "  \n",
    "    Yval : vetor com as classes dos dados de validação\n",
    "  \n",
    "    \"\"\"\n",
    "\n",
    "    # inicializa as listas que guardarao a performance no treinamento e na validacao\n",
    "    perf_train = []\n",
    "    perf_val = []\n",
    "\n",
    "    classes = np.unique(Y)\n",
    "    \n",
    "    for i in range(10, len(Y), 1):\n",
    "           \n",
    "        Ypred, acuracia = svm(X[:i],Y[:i],X[:i],Y[:i])\n",
    "        perf_train.append(acuracia)\n",
    "\n",
    "        Ypred, acuracia = svm(X[:i],Y[:i],Xval,Yval)\n",
    "        perf_val.append(acuracia)\n",
    "\n",
    "    ##################################################################################\n",
    "       \n",
    "    # Define o tamanho da figura \n",
    "    plt.figure(figsize=(20,12))\n",
    "\n",
    "    # Plota os dados\n",
    "    plt.plot(perf_train, color='blue', linestyle='-', linewidth=1.5, label='Treino') \n",
    "    plt.plot(perf_val, color='red', linestyle='-', linewidth=1.5, label='Validação')\n",
    "\n",
    "    # Define os nomes do eixo x e do eixo y\n",
    "    plt.xlabel(r'# Qtd. de dados de treinamento',fontsize='x-large') \n",
    "    plt.ylabel(r'Acuracia',fontsize='x-large') \n",
    "\n",
    "    # Define o título do gráfico\n",
    "    plt.title(r'Curva de aprendizado', fontsize='x-large')\n",
    "\n",
    "    # Acrescenta um grid no gráfico\n",
    "    plt.grid(axis='both')\n",
    "\n",
    "    # Plota a legenda\n",
    "    plt.legend()\n",
    "    \n",
    "    plt.show()\n",
    "\n"
   ]
  },
  {
   "cell_type": "code",
   "execution_count": 10,
   "metadata": {},
   "outputs": [],
   "source": [
    "#curva_aprendizado(Xtrain, Ytrain, Xval, Yval)"
   ]
  }
 ],
 "metadata": {
  "kernelspec": {
   "display_name": "Python 3",
   "language": "python",
   "name": "python3"
  },
  "language_info": {
   "codemirror_mode": {
    "name": "ipython",
    "version": 3
   },
   "file_extension": ".py",
   "mimetype": "text/x-python",
   "name": "python",
   "nbconvert_exporter": "python",
   "pygments_lexer": "ipython3",
   "version": "3.6.8"
  }
 },
 "nbformat": 4,
 "nbformat_minor": 2
}
