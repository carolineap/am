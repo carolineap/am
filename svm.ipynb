{
 "cells": [
  {
   "cell_type": "markdown",
   "metadata": {},
   "source": [
    "# <img src=\"assets/ufscar.png\" alt=\"Logo UFScar\" width=\"200\" align=\"left\"/><p><center>Universidade Federal de São Carlos (UFSCar)</center><br/><font size=\"4\"><center> Departamento de Computação, campus Sorocaba </center> </font>\n",
    "\n",
    "\n",
    "<font size=\"4\"><center><b>Disciplina: Aprendizado de Máquina</b></center></font>\n",
    "<font size=\"3\"><center>Prof. Dr. Tiago A. Almeida</center></font>\n",
    "</p>\n",
    "\n",
    "<br>\n",
    "<font size = \"4\"><center><b> Grupo 5: Análise de sentimento de reviews na Amazon </b></center></font>\n",
    "<br>"
   ]
  },
  {
   "cell_type": "markdown",
   "metadata": {},
   "source": [
    "# Support Vector Machine"
   ]
  },
  {
   "cell_type": "code",
   "execution_count": 1,
   "metadata": {},
   "outputs": [
    {
     "name": "stdout",
     "output_type": "stream",
     "text": [
      "Vocabulário possui 1509 palavras!\n"
     ]
    }
   ],
   "source": [
    "import matplotlib.pyplot as plt\n",
    "import numpy as np\n",
    "import pandas as pd\n",
    "import pre_processing as pp\n",
    "import analysis as anl\n",
    "import pca\n",
    "\n",
    "# SVM\n",
    "import svmutil\n",
    "from svmutil import svm_read_problem\n",
    "from svmutil import svm_problem\n",
    "from svmutil import svm_parameter\n",
    "from svmutil import svm_train\n",
    "from svmutil import svm_predict\n",
    "from svmutil import svm_save_model\n",
    "\n",
    "# Categoria da base de dados a ser lida (do disco) e processada\n",
    "# [books, kitchen_&_housewares, electronics, dvd, all]\n",
    "category = 'test'\n",
    "\n",
    "# Se positivo, adiciona bigramas para reviews negativas\n",
    "# ex: ('not', 'good') equivale a uma única feature\n",
    "hNeg = True\n",
    "\n",
    "# Se positivo, adiciona substantivos\n",
    "noun = False\n",
    "\n",
    "# Guarda as features ja processadas em X, a classe da amostra em Y e o vocabulario em vocabulary\n",
    "# hNeg e noun sao opcionais, por padrao hNeg=True, noun=False\n",
    "X, Y, vocabulary = pp.bow(category, hNeg, noun)\n",
    "\n",
    "print(\"Vocabulário possui \" + str(len(vocabulary)) + \" palavras!\")"
   ]
  },
  {
   "cell_type": "markdown",
   "metadata": {},
   "source": [
    "#### Separa os dados em treinamento e teste:"
   ]
  },
  {
   "cell_type": "code",
   "execution_count": 2,
   "metadata": {},
   "outputs": [],
   "source": [
    "# semente usada na randomizacao dos dados.\n",
    "randomSeed = 10 \n",
    "\n",
    "# gera os indices aleatorios que irao definir a ordem dos dados\n",
    "idx_perm = np.random.RandomState(randomSeed).permutation(range(len(Y)))\n",
    "\n",
    "# ordena os dados de acordo com os indices gerados aleatoriamente\n",
    "X2, Y2 = X[idx_perm, :], Y[idx_perm]\n",
    "\n",
    "# Porcentagem de amostras destinadas a base de treino\n",
    "pTrain = 0.8\n",
    "\n",
    "# Executa o holdout e retorna os indices de treino e teste, mantendo a proporcao original entre as classes\n",
    "train_index, test_index = anl.stratified_holdOut(Y, pTrain)\n",
    "\n",
    "# Guarda as amostras de treino e teste\n",
    "Xtrain, Xval = X2[train_index, :], X2[test_index, :]\n",
    "Ytrain, Yval = Y2[train_index], Y2[test_index]"
   ]
  },
  {
   "cell_type": "markdown",
   "metadata": {},
   "source": [
    "#### Seleciona features com chi-quadrado (a partir dos dados de treinamento):"
   ]
  },
  {
   "cell_type": "code",
   "execution_count": 3,
   "metadata": {},
   "outputs": [],
   "source": [
    "# Seta o valor de alpha para o chi-quadrado. \n",
    "# alpha e opcional, por padrão alpha = 0.05\n",
    "alpha = 0.05\n",
    "\n",
    "# Chama a funcao para executar o chi-quadrado e retorna a nova base de dados reduzida\n",
    "# o novo vocabulario e os indices das features mantidas\n",
    "Xtrain, new_vocabulary, index = pp.chi2(Xtrain, Ytrain, vocabulary, alpha)\n",
    "\n",
    "# Seleciona apenas as features do indice retornado pelo chi-quadrado para a base de teste\n",
    "Xval = Xval[:, index]\n",
    "\n",
    "#converte para outro tipo de matriz esparsa que facilita os cálculos do svm\n",
    "Xtrain = Xtrain.tolil() \n",
    "Xval = Xval.tolil()"
   ]
  },
  {
   "cell_type": "code",
   "execution_count": 4,
   "metadata": {},
   "outputs": [
    {
     "name": "stdout",
     "output_type": "stream",
     "text": [
      "Número de features antes do chi-quadrado: 1509\n",
      "----------------------------------------\n",
      "Número de features após chi-quadrado: 26\n",
      "['bad', 'wild', 'heal', 'well', 'hormon', 'not', 'arab', 'whole', 'explain', 'said', 'less', 'true', 'good', 'eat', 'paleolith', 'tri', 'love', 'wish', 'pain', 'mean', 'entir', 'die', 'written', 'wast', 'legal', 'horribl']\n"
     ]
    }
   ],
   "source": [
    "print(\"Número de features antes do chi-quadrado: \" + str(len(vocabulary)))\n",
    "print(\"----------------------------------------\")\n",
    "print(\"Número de features após chi-quadrado: \" + str(len(new_vocabulary)))\n",
    "print(new_vocabulary)"
   ]
  },
  {
   "cell_type": "markdown",
   "metadata": {},
   "source": [
    "### Gridsearch\n",
    "Itera sobre uma lista de possíveis valores para custo e gamma, e retorna a melhor combinação"
   ]
  },
  {
   "cell_type": "code",
   "execution_count": 5,
   "metadata": {},
   "outputs": [],
   "source": [
    "def gridSearch(X, Y, Xval, Yval):\n",
    "    #inicializa as variáveis que deverão ser retornadas pela função\n",
    "    custo = 1000\n",
    "    gamma = 1000\n",
    "    \n",
    "    values = [0.01, 0.05, 0.1, 0.5, 10, 50, 100, 500]\n",
    "    \n",
    "    acr = 0\n",
    "    \n",
    "    for i in values:\n",
    "        for j in values:\n",
    "            model = svm_train(Y, X, '-c %f -g %f -q' %(i, j))\n",
    "            classes = svm_predict([], Xval, model, '-q')\n",
    "            acuracia = np.sum(np.array(classes[0])==Yval)/len(Yval)\n",
    "            if acr < acuracia:\n",
    "                custo = i\n",
    "                gamma = j\n",
    "                acr = acuracia\n",
    "                    \n",
    "    return custo, gamma"
   ]
  },
  {
   "cell_type": "markdown",
   "metadata": {},
   "source": [
    "## Treinamento e predição SVM:\n",
    "Treina e retorna o modelo de predição da SVM, de acordo com os valores de custo e gamma encontrados no GridSearch"
   ]
  },
  {
   "cell_type": "code",
   "execution_count": 6,
   "metadata": {},
   "outputs": [],
   "source": [
    "def svm(Xtrain, Ytrain, Xval, Yval) :\n",
    "\n",
    "    # Executa o gridSearch para retornar os melhores valores de custo e gamma\n",
    "    bestC, bestGamma = gridSearch(Xtrain, Ytrain, Xval, Yval)\n",
    "    \n",
    "    kernel = 2 #kernel radial\n",
    "    \n",
    "    # Treina a svm com os melhores valores de custo e gamma e guarda o modelo\n",
    "    model = svm_train(Ytrain, Xtrain, '-c %f -t %d -g %f -q' %(bestC, kernel, bestGamma))\n",
    "    \n",
    "    # Realiza a predição\n",
    "    classes = svm_predict([], Xval, model, '-q')\n",
    "    \n",
    "    # Calcula a acurácia\n",
    "    acuracia = np.sum(np.array(classes[0])==Yval)/len(Yval)\n",
    "\n",
    "    return np.array(classes[0], dtype=\"int\"), acuracia"
   ]
  },
  {
   "cell_type": "markdown",
   "metadata": {},
   "source": [
    "#### Predição da base de teste do Holdout:"
   ]
  },
  {
   "cell_type": "code",
   "execution_count": 7,
   "metadata": {},
   "outputs": [
    {
     "name": "stdout",
     "output_type": "stream",
     "text": [
      "Acurácia é 75.0\n",
      "\n",
      "\tRevocacao   Precisao   F-medida   Classe\n",
      "\t0.750       0.750      0.750      0\n",
      "\t0.750       0.750      0.750      1\n",
      "\t------------------------------------------------\n",
      "\t0.750       0.750      0.750      Média macro\n",
      "\t0.750       0.750      0.750      Média micro\n",
      "\n",
      "\tAcuracia: 0.750\n"
     ]
    }
   ],
   "source": [
    "Ypred, acuracia = svm(Xtrain,Ytrain,Xval,Yval)\n",
    "print(\"Acurácia é \"+ str(acuracia*100))\n",
    "\n",
    "classes = np.unique(Y)\n",
    "auxResults = anl.relatorioDesempenho(Yval, Ypred, classes, imprimeRelatorio=True)"
   ]
  },
  {
   "cell_type": "markdown",
   "metadata": {},
   "source": [
    "## Curva de Aprendizado:"
   ]
  },
  {
   "cell_type": "code",
   "execution_count": 8,
   "metadata": {},
   "outputs": [],
   "source": [
    "def curva_aprendizado(X, Y, Xval, Yval, num_iteracoes = 0):\n",
    "   \n",
    "    \"\"\"\n",
    "    Funcao usada gerar a curva de aprendizado.\n",
    "  \n",
    "    Parametros\n",
    "    ----------\n",
    "  \n",
    "    X : matriz com os dados de treinamento\n",
    "  \n",
    "    Y : vetor com as classes dos dados de treinamento\n",
    "  \n",
    "    Xval : matriz com os dados de validação\n",
    "  \n",
    "    Yval : vetor com as classes dos dados de validação\n",
    "    \n",
    "    num_iteracoes : escalar indicando a quantidade de iterações\n",
    "  \n",
    "    \"\"\"\n",
    "\n",
    "    # Define a quantidade de iteracoes, por padrão, itera por cada amostra da base de treino\n",
    "    if (num_iteracoes <= 0 or num_iteracoes > len (Y)):\n",
    "        num_iteracoes = len (Y)    \n",
    "    \n",
    "    # inicializa as listas que guardarao a performance no treinamento e na validacao\n",
    "    perf_train = []\n",
    "    perf_val = []\n",
    "\n",
    "    # Guarda a quantidade de classes da base\n",
    "    classes = np.unique(Y)\n",
    "    \n",
    "    \n",
    "    # Itera e executa o classificador naive bayes com i amostras da base de treino para cada iteracao\n",
    "    for i in range(10, len(Y), int (len(Y)/num_iteracoes)):\n",
    "        \n",
    "        # Treina e faz a predicao\n",
    "        Ypred, acuracia = svm(X[:i],Y[:i],X[:i],Y[:i])\n",
    "        \n",
    "        # Guarda a acuracia da iteracao usando a base de treino como teste\n",
    "        perf_train.append(acuracia)\n",
    "\n",
    "        # Treina e faz a predicao\n",
    "        Ypred, acuracia = svm(X[:i],Y[:i],Xval,Yval)\n",
    "        \n",
    "        # Guarda a acuracia da iteracao usando a base de validacao como teste\n",
    "        perf_val.append(acuracia)\n",
    "\n",
    "    ##################################################################################\n",
    "       \n",
    "    # Define o tamanho da figura \n",
    "    plt.figure(figsize=(20,12))\n",
    "\n",
    "    # Plota os dados\n",
    "    plt.plot(perf_train, color='blue', linestyle='-', linewidth=1.5, label='Treino') \n",
    "    plt.plot(perf_val, color='red', linestyle='-', linewidth=1.5, label='Validação')\n",
    "\n",
    "    # Define os nomes do eixo x e do eixo y\n",
    "    plt.xlabel(r'# Qtd. de dados de treinamento',fontsize='x-large') \n",
    "    plt.ylabel(r'Acuracia',fontsize='x-large') \n",
    "\n",
    "    # Define o título do gráfico\n",
    "    plt.title(r'Curva de aprendizado', fontsize='x-large')\n",
    "\n",
    "    # Acrescenta um grid no gráfico\n",
    "    plt.grid(axis='both')\n",
    "\n",
    "    # Plota a legenda\n",
    "    plt.legend()\n",
    "    \n",
    "    plt.show()\n",
    "\n"
   ]
  },
  {
   "cell_type": "code",
   "execution_count": 9,
   "metadata": {},
   "outputs": [
    {
     "data": {
      "image/png": "[encoded data removed]",
      "text/plain": [
       "<Figure size 1440x864 with 1 Axes>"
      ]
     },
     "metadata": {
      "needs_background": "light"
     },
     "output_type": "display_data"
    }
   ],
   "source": [
    "# num_iteracoes = numero de iterações da curva de aprendizado, por padrao e igual ao numero de amostras da base\n",
    "curva_aprendizado(Xtrain, Ytrain, Xval, Yval, num_iteracoes = 100)"
   ]
  },
  {
   "cell_type": "markdown",
   "metadata": {},
   "source": [
    "## K-Folds"
   ]
  },
  {
   "cell_type": "code",
   "execution_count": 10,
   "metadata": {},
   "outputs": [
    {
     "name": "stdout",
     "output_type": "stream",
     "text": [
      "\n",
      "-----------\n",
      "1-fold: \n",
      "-----------\n",
      "\n",
      "\n",
      "\tRevocacao   Precisao   F-medida   Classe\n",
      "\t0.500       1.000      0.667      0\n",
      "\t1.000       0.692      0.818      1\n",
      "\t------------------------------------------------\n",
      "\t0.750       0.846      0.795      Média macro\n",
      "\t0.765       0.765      0.765      Média micro\n",
      "\n",
      "\tAcuracia: 0.765\n",
      "\n",
      "-----------\n",
      "2-fold: \n",
      "-----------\n",
      "\n",
      "\n",
      "\tRevocacao   Precisao   F-medida   Classe\n",
      "\t1.000       0.615      0.762      0\n",
      "\t0.375       1.000      0.545      1\n",
      "\t------------------------------------------------\n",
      "\t0.688       0.808      0.743      Média macro\n",
      "\t0.688       0.688      0.688      Média micro\n",
      "\n",
      "\tAcuracia: 0.688\n",
      "\n",
      "-----------\n",
      "3-fold: \n",
      "-----------\n",
      "\n",
      "\n",
      "\tRevocacao   Precisao   F-medida   Classe\n",
      "\t0.750       0.667      0.706      0\n",
      "\t0.625       0.714      0.667      1\n",
      "\t------------------------------------------------\n",
      "\t0.688       0.690      0.689      Média macro\n",
      "\t0.688       0.688      0.688      Média micro\n",
      "\n",
      "\tAcuracia: 0.688\n",
      "\n",
      "-----------\n",
      "4-fold: \n",
      "-----------\n",
      "\n",
      "\n",
      "\tRevocacao   Precisao   F-medida   Classe\n",
      "\t1.000       0.571      0.727      0\n",
      "\t0.250       1.000      0.400      1\n",
      "\t------------------------------------------------\n",
      "\t0.625       0.786      0.696      Média macro\n",
      "\t0.625       0.625      0.625      Média micro\n",
      "\n",
      "\tAcuracia: 0.625\n",
      "\n",
      "-----------\n",
      "5-fold: \n",
      "-----------\n",
      "\n",
      "\n",
      "\tRevocacao   Precisao   F-medida   Classe\n",
      "\t1.000       0.778      0.875      0\n",
      "\t0.750       1.000      0.857      1\n",
      "\t------------------------------------------------\n",
      "\t0.875       0.889      0.882      Média macro\n",
      "\t0.867       0.867      0.867      Média micro\n",
      "\n",
      "\tAcuracia: 0.867\n",
      "\n",
      "-----------\n",
      "Media-fold: \n",
      "-----------\n",
      "\n",
      "\n",
      "\tRevocacao   Precisao   F-medida   Classe\n",
      "\t0.850       0.726      0.747      0\n",
      "\t0.600       0.881      0.657      1\n",
      "\t---------------------------------------------------------------------\n",
      "\t0.725       0.804      0.761      Média macro\n",
      "\t0.726       0.726      0.726      Média micro\n",
      "\n",
      "\tAcuracia: 0.726\n"
     ]
    }
   ],
   "source": [
    "import k_folds as kf\n",
    "\n",
    "#Pega todos os tipos de classes \n",
    "classes = classes = np.unique(Y)\n",
    "\n",
    "# semente usada na randomizacao dos dados.\n",
    "randomSeed = 10 \n",
    "\n",
    "# gera os indices aleatorios que irao definir a ordem dos dados\n",
    "idx_perm = np.random.RandomState(randomSeed).permutation(range(len(Y)))\n",
    "\n",
    "# ordena os dados de acordo com os indices gerados aleatoriamente\n",
    "X3, Y3 = X[idx_perm, :], Y[idx_perm]\n",
    "\n",
    "# separa os dados em k folds\n",
    "nFolds = 5\n",
    "folds = kf.stratified_kfolds(Y3, nFolds, classes)\n",
    "\n",
    "k = 1\n",
    "\n",
    "# cria uma lista vazia para guardar os resultados obtidos em cada fold\n",
    "resultados=[] \n",
    "\n",
    "for train_index, test_index in folds:\n",
    "\n",
    "    print('\\n-----------\\n%d-fold: \\n-----------\\n' % (k) )\n",
    "\n",
    "    # se train_index ou test_index forem vazios, interrompe o laco de repeticao\n",
    "    if len(train_index)==0 or len(test_index)==0: \n",
    "        print('\\tErro: o vetor com os indices de treinamento ou o vetor com os indices de teste esta vazio')      \n",
    "        break\n",
    "        \n",
    "        \n",
    "    # Guarda as bases de treino e teste baseado nos índices de cada fold\n",
    "    Xtrain, Xval = X3[train_index, :], X3[test_index, :];\n",
    "    Ytrain, Yval= Y3[train_index], Y3[test_index];\n",
    "\n",
    "    \n",
    "    # Executa o chi-quadrado na base do fold atual\n",
    "    Xtrain, new_vocabulary, index = pp.chi2(Xtrain, Ytrain, vocabulary)\n",
    "    Xval = Xval[:, index]\n",
    "    \n",
    "    # Converte para outro tipo de matriz esparsa que facilita os cálculos do svm\n",
    "    Xtrain = Xtrain.tolil() \n",
    "    Xval = Xval.tolil()\n",
    "\n",
    "    # Execucao da SVM\n",
    "    Ypred, acuracia = svm(Xtrain, Ytrain, Xval, Yval)\n",
    "    \n",
    "    # Relatorio do fold\n",
    "    auxResults = anl.relatorioDesempenho(Yval, Ypred, classes, imprimeRelatorio=True)\n",
    "\n",
    "    # adiciona os resultados do fold atual na lista de resultados\n",
    "    resultados.append( auxResults )\n",
    "    \n",
    "    k = k + 1\n",
    "    \n",
    "kf.mediaFolds( resultados, classes )"
   ]
  },
  {
   "cell_type": "code",
   "execution_count": null,
   "metadata": {},
   "outputs": [],
   "source": []
  }
 ],
 "metadata": {
  "kernelspec": {
   "display_name": "Python 3",
   "language": "python",
   "name": "python3"
  },
  "language_info": {
   "codemirror_mode": {
    "name": "ipython",
    "version": 3
   },
   "file_extension": ".py",
   "mimetype": "text/x-python",
   "name": "python",
   "nbconvert_exporter": "python",
   "pygments_lexer": "ipython3",
   "version": "3.7.3"
  }
 },
 "nbformat": 4,
 "nbformat_minor": 2
}
