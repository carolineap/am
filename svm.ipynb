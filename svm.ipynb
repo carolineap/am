{
 "cells": [
  {
   "cell_type": "code",
   "execution_count": 1,
   "metadata": {},
   "outputs": [
    {
     "name": "stdout",
     "output_type": "stream",
     "text": [
      "Vocabulário possui 10766 palavras!\n"
     ]
    }
   ],
   "source": [
    "import matplotlib.pyplot as plt\n",
    "import numpy as np\n",
    "import pandas as pd\n",
    "import pre_processing as pp\n",
    "import analysis as anl\n",
    "import pca\n",
    "\n",
    "category = 'books'\n",
    "\n",
    "hNeg = True #if true, add negative bigrams for negative reviews\n",
    "noun = False #if true, add nouns\n",
    "\n",
    "X, Y, vocabulary = pp.bow(category, hNeg, noun)\n",
    "\n",
    "print(\"Vocabulário possui \" + str(len(vocabulary)) + \" palavras!\")"
   ]
  },
  {
   "cell_type": "code",
   "execution_count": 2,
   "metadata": {},
   "outputs": [],
   "source": [
    "# semente usada na randomizacao dos dados.\n",
    "randomSeed = 10 \n",
    "\n",
    "# gera os indices aleatorios que irao definir a ordem dos dados\n",
    "idx_perm = np.random.RandomState(randomSeed).permutation(range(len(Y)))\n",
    "\n",
    "# ordena os dados de acordo com os indices gerados aleatoriamente\n",
    "X2, Y2 = X[idx_perm, :], Y[idx_perm]\n",
    "\n",
    "pTrain = 0.8\n",
    "\n",
    "train_index, test_index = anl.stratified_holdOut(Y, pTrain)\n",
    "\n",
    "Xtrain, Xval = X2[train_index, :], X2[test_index, :];\n",
    "Ytrain, Yval = Y2[train_index], Y2[test_index];"
   ]
  },
  {
   "cell_type": "code",
   "execution_count": 3,
   "metadata": {},
   "outputs": [],
   "source": [
    "Xtrain, new_vocabulary, index = pp.chi2(Xtrain, Ytrain, vocabulary)\n",
    "Xval = Xval[:, index]\n",
    "\n",
    "#converte para outro tipo de matriz esparsa que facilita os cálculos do svm\n",
    "Xtrain = Xtrain.tolil() \n",
    "Xval = Xval.tolil()"
   ]
  },
  {
   "cell_type": "code",
   "execution_count": 4,
   "metadata": {},
   "outputs": [
    {
     "name": "stdout",
     "output_type": "stream",
     "text": [
      "Número de features antes do chi-quadrado: 10766\n",
      "----------------------------------------\n",
      "Número de features após chi-quadrado: 258\n",
      "['bare', ('not', 'come'), 'bias', ('not', 'enough'), 'darl', 'write', ('not', 'work'), 'familiar', ('not', 'sure'), ('not', 'alway'), 'amaz', 'danni', 'provid', 'better', 'swisher', ('not', 'know'), 'advanc', 'superfici', 'buy', ('not', 'recommend'), ('no', 'longer'), ('not', 'expect'), 'trotski', 'not', 'becki', ('not', 'believ'), 'believ', 'bore', 'unfortun', 'even', 'british', 'info', ('not', 'get'), 'twentieth', 'whine', 'stare', 'slow', 'super', 'prospect', 'actual', 'expand', 'highli', 'lie', ('not', 'find'), ('not', 'read'), ('not', 'complet'), 'seem', 'secondari', 'entertain', 'unseen', 'enjoy', 'sean', 'poorli', 'save', ('not', 'go'), 'spend', 'comprehens', 'famou', 'simpl', ('not', 'want'), 'aw', 'inform', ('not', 'thought'), 'gpu', 'shaara', 'left', 'great', 'think', 'evil', 'love', 'half', 'suppos', 'determin', 'disjoint', 'ridicul', ('not', 'bother'), 'weak', ('never', 'read'), 'drew', 'sorri', 'vagu', 'instead', 'remark', 'wrong', ('not', 'think'), 'stick', 'repetit', 'includ', 'unrealist', ('not', 'seem'), 'mislead', ('not', 'true'), 'finish', 'useless', 'terribl', 'straight', 'weather', 'get', 'fantast', ('not', 'say'), 'soon', 'point', 'badli', 'obviou', 'israel', 'nicklebi', 'wisdom', ('not', 'wait'), ('not', 'wast'), ('not', 'make'), 'tire', 'rambl', 'poor', ('not', 'take'), 'challeng', 'hardli', 'hiaasen', 'beauti', ('not', 'mention'), 'kagan', 'illustr', 'sensit', 'care', 'also', 'pay', 'narbi', 'eve', 'go', 'excel', ('not', 'understand'), 'bake', 'disappoint', 'europ', ('not', 'care'), 'later', 'expect', ('not', 'much'), 'best', 'sad', 'masterpiec', ('not', 'worth'), 'notic', 'depress', ('not', 'use'), 'mention', 'reinhart', 'never', 'favorit', 'time', 'pathet', 'got', 'dull', 'interest', 'wast', 'hendrix', 'master', 'seriou', 'bad', 'alreadi', 'silli', 'lack', ('not', 'realli'), 'no', 'awesom', 'bread', ('not', 'bad'), 'anderson', ('not', 'see'), 'went', 'skip', ('not', 'alreadi'), 'recommend', 'hard', ('not', 'happen'), ('not', 'even'), 'elsewher', 'script', 'paid', 'less', ('not', 'buy'), 'program', 'appreci', 'charli', ('not', 'not'), 'wonder', 'flat', ('never', 'seem'), ('not', 'interest'), ('not', 'best'), ('not', 'finish'), 'realli', 'ok', 'quot', 'predict', 'appli', 'smith', 'repress', 'wors', 'pretti', ('not', 'give'), 'endless', ('not', 'write'), 'much', 'alex', 'fascin', 'decent', 'say', 'neutral', 'pain', 'horribl', 'stupid', 'gray', ('not', 'good'), 'name', 'insight', 'illumin', 'certain', 'barber', 'outstand', 'tri', 'unforgett', 'justifi', 'dna', ('not', 'feel'), 'formula', ('not', 'tell'), 'accept', ('not', 'need'), 'pp', 'edit', 'rather', 'accid', 'steve', 'fail', 'histor', 'focu', 'import', 'frustrat', 'help', 'solid', 'sadli', 'extraordinari', 'stun', 'easi', 'intens', 'hate', 'ny', 'gotten', 'worst', 'anni', 'insult', 'human', 'shallow', 'vivid', 'asid', 'recycl', 'strateg', ('not', 'help')]\n"
     ]
    }
   ],
   "source": [
    "print(\"Número de features antes do chi-quadrado: \" + str(len(vocabulary)))\n",
    "print(\"----------------------------------------\")\n",
    "print(\"Número de features após chi-quadrado: \" + str(len(new_vocabulary)))\n",
    "print(new_vocabulary)\n",
    "# with open('app/vocabulary.txt', 'w') as out_file:\n",
    "#     for word in new_vocabulary:\n",
    "#         if isinstance(word, tuple):\n",
    "#             s = '('+word[0]+\",\"+word[1]+')'+'\\n'\n",
    "#             out_file.write(s)\n",
    "#         else:\n",
    "#             out_file.write(word+'\\n')"
   ]
  },
  {
   "cell_type": "code",
   "execution_count": 5,
   "metadata": {},
   "outputs": [],
   "source": [
    "import svmutil\n",
    "from svmutil import svm_read_problem\n",
    "from svmutil import svm_problem\n",
    "from svmutil import svm_parameter\n",
    "from svmutil import svm_train\n",
    "from svmutil import svm_predict\n",
    "from svmutil import svm_save_model\n",
    "\n",
    "def gridSearch(X, Y, Xval, Yval):\n",
    "    #inicializa as variáveis que deverão ser retornadas pela função\n",
    "    custo = 1000\n",
    "    gamma = 1000\n",
    "    \n",
    "    values = []\n",
    "    for i in range(1, 10):\n",
    "         for j in range(-1, 3):\n",
    "            values.append(i/(10 ** j))\n",
    "    \n",
    "    acr = 0\n",
    "    \n",
    "    for i in values:\n",
    "        for j in values:\n",
    "            print(i)\n",
    "            print(j)\n",
    "            model = svm_train(Y, X, '-c %f -g %f -q' %(i, j))\n",
    "            classes = svm_predict([], Xval, model, '-q')\n",
    "            acuracia = np.sum(np.array(classes[0])==Yval)/len(Yval)\n",
    "            if acr < acuracia:\n",
    "                custo = i\n",
    "                gamma = j\n",
    "                acr = acuracia\n",
    "                print(acr)\n",
    "    \n",
    "    return custo, gamma"
   ]
  },
  {
   "cell_type": "code",
   "execution_count": 6,
   "metadata": {},
   "outputs": [],
   "source": [
    "def svm(Xtrain,Ytrain,Xval,Yval) :\n",
    "\n",
    "    #bestC, bestGamma = gridSearch(Xtrain, Ytrain, Xval, Yval)\n",
    "\n",
    "    bestC = 10\n",
    "    bestGamma = 0.01\n",
    "    \n",
    "    kernel = 2 #kernel radial\n",
    "    model = svm_train(Ytrain, Xtrain, '-c %f -t %d -g %f -q' %(bestC, kernel, bestGamma))\n",
    "    \n",
    "    #svm_save_model('app/test.model', model)\n",
    "    \n",
    "    classes = svm_predict([], Xval, model, '-q')\n",
    "    acuracia = np.sum(np.array(classes[0])==Yval)/len(Yval)\n",
    "\n",
    "    return np.array(classes[0], dtype=\"int\"), acuracia"
   ]
  },
  {
   "cell_type": "code",
   "execution_count": 7,
   "metadata": {},
   "outputs": [
    {
     "name": "stdout",
     "output_type": "stream",
     "text": [
      "Acurácia é 92.75\n"
     ]
    }
   ],
   "source": [
    "Ypred, acuracia = svm(Xtrain,Ytrain,Xval,Yval)\n",
    "print(\"Acurácia é \"+ str(acuracia*100))"
   ]
  },
  {
   "cell_type": "code",
   "execution_count": 8,
   "metadata": {},
   "outputs": [
    {
     "name": "stdout",
     "output_type": "stream",
     "text": [
      "\n",
      "\tRevocacao   Precisao   F-medida   Classe\n",
      "\t0.946       0.915      0.930      0\n",
      "\t0.908       0.941      0.924      1\n",
      "\t------------------------------------------------\n",
      "\t0.927       0.928      0.928      Média macro\n",
      "\t0.927       0.927      0.927      Média micro\n",
      "\n",
      "\tAcuracia: 0.927\n"
     ]
    }
   ],
   "source": [
    "classes = np.unique(Y)\n",
    "auxResults = anl.relatorioDesempenho(Yval, Ypred, classes, imprimeRelatorio=True)"
   ]
  },
  {
   "cell_type": "code",
   "execution_count": 9,
   "metadata": {},
   "outputs": [],
   "source": [
    "def curva_aprendizado(X, Y, Xval, Yval):\n",
    "   \n",
    "    \"\"\"\n",
    "    Funcao usada gerar a curva de aprendizado.\n",
    "  \n",
    "    Parametros\n",
    "    ----------\n",
    "  \n",
    "    X : matriz com os dados de treinamento\n",
    "  \n",
    "    Y : vetor com as classes dos dados de treinamento\n",
    "  \n",
    "    Xval : matriz com os dados de validação\n",
    "  \n",
    "    Yval : vetor com as classes dos dados de validação\n",
    "  \n",
    "    \"\"\"\n",
    "\n",
    "    # inicializa as listas que guardarao a performance no treinamento e na validacao\n",
    "    perf_train = []\n",
    "    perf_val = []\n",
    "\n",
    "    classes = np.unique(Y)\n",
    "    \n",
    "    for i in range(10, len(Y), 1):\n",
    "           \n",
    "        Ypred, acuracia = svm(X[:i],Y[:i],X[:i],Y[:i])\n",
    "        perf_train.append(acuracia)\n",
    "\n",
    "        Ypred, acuracia = svm(X[:i],Y[:i],Xval,Yval)\n",
    "        perf_val.append(acuracia)\n",
    "\n",
    "    ##################################################################################\n",
    "       \n",
    "    # Define o tamanho da figura \n",
    "    plt.figure(figsize=(20,12))\n",
    "\n",
    "    # Plota os dados\n",
    "    plt.plot(perf_train, color='blue', linestyle='-', linewidth=1.5, label='Treino') \n",
    "    plt.plot(perf_val, color='red', linestyle='-', linewidth=1.5, label='Validação')\n",
    "\n",
    "    # Define os nomes do eixo x e do eixo y\n",
    "    plt.xlabel(r'# Qtd. de dados de treinamento',fontsize='x-large') \n",
    "    plt.ylabel(r'Acuracia',fontsize='x-large') \n",
    "\n",
    "    # Define o título do gráfico\n",
    "    plt.title(r'Curva de aprendizado', fontsize='x-large')\n",
    "\n",
    "    # Acrescenta um grid no gráfico\n",
    "    plt.grid(axis='both')\n",
    "\n",
    "    # Plota a legenda\n",
    "    plt.legend()\n",
    "    \n",
    "    plt.show()\n",
    "\n"
   ]
  },
  {
   "cell_type": "code",
   "execution_count": 10,
   "metadata": {},
   "outputs": [],
   "source": [
    "#curva_aprendizado(Xtrain, Ytrain, Xval, Yval)"
   ]
  }
 ],
 "metadata": {
  "kernelspec": {
   "display_name": "Python 3",
   "language": "python",
   "name": "python3"
  },
  "language_info": {
   "codemirror_mode": {
    "name": "ipython",
    "version": 3
   },
   "file_extension": ".py",
   "mimetype": "text/x-python",
   "name": "python",
   "nbconvert_exporter": "python",
   "pygments_lexer": "ipython3",
   "version": "3.6.8"
  }
 },
 "nbformat": 4,
 "nbformat_minor": 2
}
