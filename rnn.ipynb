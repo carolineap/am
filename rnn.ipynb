{
 "cells": [
  {
   "cell_type": "code",
   "execution_count": 1,
   "metadata": {},
   "outputs": [
    {
     "name": "stdout",
     "output_type": "stream",
     "text": [
      "Vocabulário possui 18953 palavras!\n"
     ]
    }
   ],
   "source": [
    "import matplotlib.pyplot as plt\n",
    "import numpy as np\n",
    "import pandas as pd\n",
    "import pre_processing as pp\n",
    "import analysis as anl\n",
    "import pca\n",
    "\n",
    "category = 'all'\n",
    "\n",
    "hNeg = True #if true, add negative bigrams for negative reviews\n",
    "noun = False #if true, add nouns\n",
    "\n",
    "X, Y, vocabulary = pp.bow(category, hNeg, noun)\n",
    "\n",
    "print(\"Vocabulário possui \" + str(len(vocabulary)) + \" palavras!\")"
   ]
  },
  {
   "cell_type": "code",
   "execution_count": 2,
   "metadata": {},
   "outputs": [],
   "source": [
    "# semente usada na randomizacao dos dados.\n",
    "randomSeed = 10 \n",
    "\n",
    "# gera os indices aleatorios que irao definir a ordem dos dados\n",
    "idx_perm = np.random.RandomState(randomSeed).permutation(range(len(Y)))\n",
    "\n",
    "# ordena os dados de acordo com os indices gerados aleatoriamente\n",
    "X2, Y2 = X[idx_perm, :], Y[idx_perm]\n",
    "\n",
    "pTrain = 0.8\n",
    "\n",
    "train_index, test_index = anl.stratified_holdOut(Y, pTrain)\n",
    "\n",
    "Xtrain, Xval = X2[train_index, :], X2[test_index, :];\n",
    "Ytrain, Yval = Y2[train_index], Y2[test_index];"
   ]
  },
  {
   "cell_type": "code",
   "execution_count": 3,
   "metadata": {},
   "outputs": [],
   "source": [
    "Xtrain, new_vocabulary, index = pp.chi2(Xtrain, Ytrain, vocabulary)\n",
    "Xval = Xval[:, index]\n",
    "\n",
    "#Converte matrizes esparsas para np arrays, para os cálculos da rede neural\n",
    "Xtrain = Xtrain.toarray()\n",
    "Xval = Xval.toarray()"
   ]
  },
  {
   "cell_type": "code",
   "execution_count": 4,
   "metadata": {},
   "outputs": [
    {
     "name": "stdout",
     "output_type": "stream",
     "text": [
      "Número de features antes do chi-quadrado: 18953\n",
      "----------------------------------------\n",
      "Número de features após chi-quadrado: 711\n",
      "['smoke', 'vagu', 'weather', 'terribl', 'longer', 'aw', 'unfortun', 'badli', 'kelli', 'come', 'leak', 'smith', 'beat', 'felt', 'atroci', 'newer', 'rivet', ('not', 'set'), 'resist', 'subtl', ('not', 'easi'), ('not', 'replac'), ('not', 'allow'), ('not', 'notic'), ('never', 'use'), ('not', 'call'), ('not', 'bother'), 'cool', 'recycl', 'annoy', 'shallow', ('not', 'compat'), 'bet', 'wors', ('never', 'read'), ('not', 'realiz'), ('not', 'seem'), 'need', 'swisher', 'provid', ('not', 'not'), ('never', 'seen'), 'much', 'kagan', 'martin', 'itrip', 'pose', ('not', 'tell'), 'dress', ('not', 'imagin'), 'eve', 'tomlin', 'doc', 'endless', 'lap', 'regret', 'pp', 'nat', ('not', 'includ'), 'heavi', 'incid', 'carri', 'european', 'le', 'neil', 'end', 'unfunni', 'defect', 'tech', ('not', 'bad'), ('never', 'buy'), 'cheat', 'warp', ('not', 'use'), 'quit', 'tediou', 'poorli', 'lame', 'nonsens', ('not', 'done'), 'moral', 'awaken', 'nauseat', 'dutch', 'pro', 'piti', ('not', 'high'), 'unforgett', 'asham', ('not', 'fool'), ('not', 'got'), 'freez', 'childish', 'fatal', 'adventur', 'remark', 'pancak', ('not', 'handl'), 'stare', 'fast', 'fish', 'delici', 'turn', ('not', 'singl'), 'incorrect', ('not', 'fall'), 'easi', 'bother', 'sturdi', 'dread', ('not', 'recommend'), ('not', 'listen'), 'insipid', 'unreli', ('not', 'add'), 'classic', ('never', 'seem'), 'durabl', 'extraordinari', 'care', ('not', 'impress'), ('not', 'bought'), 'dlink', 'skip', ('not', 'turn'), 'hardli', 'quiet', ('not', 'wast'), 'wast', 'learn', 'unsatisfactori', 'pitcher', 'redeem', 'wick', 'nicklebi', ('not', 'read'), ('not', 'yet'), 'throw', 'power', 'truli', 'frustrat', 'broken', 'perfectli', 'danger', ('not', 'true'), ('not', 'write'), ('no', 'longer'), 'sharp', 'pan', 'save', ('not', 'show'), 'amaz', 'accustom', 'linksi', 'insult', 'corrupt', 'least', ('not', 'tri'), 'comment', 'round', 'finest', 'see', 'back', 'soviet', 'start', 'pathet', 'also', 'terrif', 'superbl', 'pain', 'focus', 'stupid', 'went', 'hilari', 'stay', 'easili', 'unpleas', 'never', 'viewson', ('not', 'terribl'), ('not', 'first'), 'music', ('not', 'like'), 'includ', 'superfici', 'purchas', ('not', 'fan'), ('not', 'great'), 'altogeth', 'especi', ('not', 'hard'), 'get', ('not', 'see'), 'noir', 'hire', 'plot', ('not', 'believ'), 'toaster', ('not', 'understand'), ('not', 'enough'), 'dude', 'bad', ('not', 'purchas'), 'hearst', 'fabul', ('not', 'miss'), 'keep', 'gorgeou', 'safe', 'bose', 'immens', ('not', 'look'), 'familiar', 'gotten', 'illumin', 'magnet', 'accept', 'away', 'advis', 'afford', 'alway', ('not', 'sit'), 'pointless', 'hold', ('not', 'watch'), 'strong', 'best', 'attempt', 'impress', 'ebola', ('not', 'live'), 'rick', 'beauti', 'graphic', 'kern', 'record', 'bias', 'random', 'overr', 'illustr', 'send', 'half', ('not', 'talk'), 'useless', 'reagan', 'excel', 'nice', 'lid', 'toast', ('not', 'open'), 'bore', ('not', 'ship'), ('not', 'thought'), 'crazi', 'awesom', 'fix', ('not', 'know'), 'un', ('not', 'realist'), 'expand', 'widescreen', ('not', 'scari'), 'entertain', 'pleas', 'young', 'live', ('not', 'even'), 'sent', 'larger', 'remain', ('not', 'ever'), ('not', 'support'), ('not', 'explain'), 'littl', ('not', 'mention'), ('not', 'present'), 'predict', 'confus', 'hate', 'passion', 'use', ('not', 'wait'), 'perform', 'lopez', 'twin', 'rare', ('not', 'better'), 'intact', 'rambl', ('not', 'qualiti'), 'tri', 'bare', 'featur', ('not', 'put'), 'complet', ('not', 'deserv'), ('not', 'test'), 'lack', 'favorit', 'climb', 'paragraph', 'tomtom', 'threw', 'eb', 'slow', 'arrest', 'devast', 'easier', ('not', 'seriou'), ('never', 'even'), ('not', 'worth'), 'horrid', 'incred', 'fantast', 'actual', 'cookbook', ('not', 'need'), ('not', 'start'), 'illog', 'unaccept', 'disgust', 'grossli', 'teeth', 'worthless', 'mani', 'leaphorn', 'awsom', ('not', 'deliv'), 'lock', 'plastic', 'size', 'abl', 'solid', 'contact', ('not', 'help'), 'go', 'hugh', ('not', 'last'), ('not', 'function'), ('not', 'particularli'), 'pg', 'reset', ('not', 'sure'), 'sad', ('not', 'realli'), 'microwav', 'carl', 'unusu', 'weak', 'becki', 'cheap', 'error', 'obvious', 'irrit', 'ok', 'poor', ('not', 'let'), 'minor', 'everyday', 'els', ('not', 'stand'), 'uniqu', 'join', 'narbi', 'cord', ('not', 'excit'), ('not', 'cut'), ('not', 'want'), ('not', 'appear'), 'scatter', 'confirm', ('not', 'usual'), ('not', 'reliabl'), ('not', 'consid'), ('not', 'expect'), 'silli', 'blix', 'uninspir', 'agre', 'highli', 'explod', 'seem', 'uncomfort', 'germani', 'far', 'comfort', 'said', 'avoid', 'bought', 'name', 'whisk', 'bit', 'larg', 'kidnap', 'help', 'unrealist', ('not', 'play'), 'mislead', 'marvel', ('not', 'rememb'), 'stuck', 'insight', ('not', 'big'), 'heartwarm', ('not', 'well'), 'devoid', 'even', 'worri', 'masterpiec', ('not', 'finish'), 'no', 'spew', 'dull', ('not', 'surpris'), 'mayb', 'anim', 'slightest', 'er', 'expertli', 'refund', ('not', 'mani'), 'suggest', ('never', 'realli'), 'convert', 'intens', ('not', 'right'), 'expect', ('not', 'known'), ('not', 'possibl'), ('never', 'heard'), 'pouch', 'repetit', ('not', 'figur'), ('not', 'think'), 'super', 'adrian', 'gospel', 'burn', 'ineffect', ('not', 'fit'), 'static', 'add', 'spoken', 'unus', 'crisp', 'check', 'idiot', ('not', 'make'), 'probe', 'compar', 'overal', 'appar', 'exceed', 'downsid', 'broke', 'potti', ('not', 'cover'), 'bring', 'ip', ('not', 'happen'), 'eleg', 'perfect', 'contriv', ('not', 'enjoy'), ('not', 'fix'), 'vivian', 'laughabl', 'sting', 'left', ('not', 'find'), 'verhoeven', 'access', 'decor', 'delay', ('not', 'alway'), 'rip', ('not', 'best'), 'sadi', 'precinct', 'love', ('not', 'inspir'), 'dumb', 'enjoy', 'dna', 'sweet', 'utterli', 'thought', 'memor', 'imposs', 'gpu', 'preced', 'die', 'vietnam', ('not', 'receiv'), 'inferior', 'ruin', 'tan', 'fascin', 'simpl', 'ledwith', 'raw', 'histor', 'crack', 'suppos', 'receiv', 'pretenti', ('not', 'throw'), 'think', 'skim', 'lennon', 'strateg', ('not', 'hold'), ('not', 'work'), ('not', 'effect'), 'preston', 'small', 'particularli', 'ideal', 'portabl', 'stun', 'fool', 'unfold', ('not', 'worri'), 'asleep', 'dream', 'play', 'sadli', 'return', 'wisdom', ('not', 'accept'), 'unhappi', 'act', 'replac', 'wrong', 'gehri', 'litter', 'got', 'rob', ('not', 'abl'), 'financi', 'import', 'disapoint', 'blown', 'work', 'memoir', 'human', 'lie', 'pay', 'unorigin', 'fail', 'extra', 'ridicul', 'sorri', 'not', 'appli', 'unseen', ('not', 'seen'), 'helen', 'valuabl', 'well', 'quick', ('not', 'mean'), 'warranti', 'wave', 'superb', 'refurbish', ('not', 'much'), 'legendari', ('not', 'long'), 'write', 'maintain', 'erin', 'wonder', 'dissapoint', ('not', 'worst'), 'soup', 'offer', 'chomski', 'mesmer', ('not', 'becom'), ('not', 'hear'), ('not', 'recogn'), 'eas', 'kid', 'schari', ('not', 'chang'), 'cook', ('not', 'come'), 'crappi', 'satisfi', 'hesit', ('not', 'good'), 'lisbon', 'pat', ('not', 'avail'), ('not', 'charg'), 'reliv', 'glossi', 'flimsi', 'hook', 'yuck', 'blender', 'huge', ('not', 'new'), 'trotski', 'call', ('not', 'go'), ('not', 'made'), 'song', 'nathan', 'superbit', 'newst', 'gave', 'touch', 'literari', 'say', 'lili', ('not', 'funni'), ('not', 'matter'), 'given', 'sociolog', 'ador', 'better', ('not', 'return'), 'drew', ('not', 'give'), 'fell', 'suspens', 'good', 'horribl', 'relev', 'properli', ('not', 'pay'), 'time', ('not', 'interest'), 'revis', 'twentieth', 'disjoint', 'rowenta', 'subsequ', ('not', 'feel'), 'spoke', ('never', 'receiv'), 'daniel', ('not', 'mind'), 'indispens', ('never', 'made'), ('not', 'stop'), 'butt', 'took', 'happi', ('not', 'complet'), 'san', 'spectacular', ('not', 'stay'), ('not', 'count'), 'great', 'practic', 'recov', 'caus', 'worst', ('not', 'alreadi'), 'recommend', ('not', 'found'), 'freestyl', ('not', 'say'), 'doesnt', ('not', 'care'), ('not', 'agre'), 'handi', 'told', 'special', 'introduc', ('not', 'take'), 'stop', 'plenti', 'shame', 'crap', ('not', 'given'), ('not', 'get'), ('not', 'buy'), ('not', 'happi'), 'spindl', 'outstand', 'fu', 'buy', ('not', 'keep'), 'disappoint', 'younger', 'vs', 'text', 'rather', 'broadway', ('not', 'quit'), 'detail', 'hayden', 'instead', 'person', 'episod', 'challeng', 'evenli', ('never', 'work'), 'unexpect', ('not', 'retract'), 'pleasantli', ('never', 'get'), 'glori', ('not', 'actual'), 'appreci', 'clean', 'reinhart']\n"
     ]
    }
   ],
   "source": [
    "print(\"Número de features antes do chi-quadrado: \" + str(len(vocabulary)))\n",
    "print(\"----------------------------------------\")\n",
    "print(\"Número de features após chi-quadrado: \" + str(len(new_vocabulary)))\n",
    "print(new_vocabulary)"
   ]
  },
  {
   "cell_type": "code",
   "execution_count": 5,
   "metadata": {},
   "outputs": [],
   "source": [
    "def sigmoid(z):\n",
    "    \n",
    "    z = 1/(1+np.exp(-z))\n",
    "    \n",
    "    return z"
   ]
  },
  {
   "cell_type": "code",
   "execution_count": 6,
   "metadata": {},
   "outputs": [],
   "source": [
    "def sigmoidGradient(z):\n",
    "\n",
    "    g = np.zeros(z.shape)\n",
    "    g = sigmoid(z)*(1 - sigmoid(z))    \n",
    "\n",
    "    return g"
   ]
  },
  {
   "cell_type": "code",
   "execution_count": 7,
   "metadata": {},
   "outputs": [],
   "source": [
    "import scipy.optimize\n",
    "\n",
    "def funcaoCusto_backp(nn_params, input_layer_size, hidden_layer_size, num_labels, X, y, flagreg = False,lambda_reg = 1):\n",
    "    \n",
    "    # Extrai os parametros de nn_params e alimenta as variaveis Theta1 e Theta2.\n",
    "    Theta1 = np.reshape( nn_params[0:hidden_layer_size*(input_layer_size + 1)], (hidden_layer_size, input_layer_size+1) )\n",
    "    Theta2 = np.reshape( nn_params[ hidden_layer_size*(input_layer_size + 1):], (num_labels, hidden_layer_size+1) )\n",
    "\n",
    "    # Qtde de amostras\n",
    "    m = X.shape[0]\n",
    "         \n",
    "    #Custo\n",
    "    J = 0\n",
    "    \n",
    "    #Theta das redes neurais\n",
    "    Theta1_grad = np.zeros(Theta1.shape)\n",
    "    Theta2_grad = np.zeros(Theta2.shape)\n",
    "    \n",
    "    eps = 1e-15\n",
    "\n",
    "    \n",
    "    rotulos = np.zeros((len(y), num_labels), dtype=int) \n",
    "    for i in range(len(rotulos)):\n",
    "        rotulos[i][y[i]] = 1\n",
    "\n",
    "    a1 = np.insert(X, 0, np.ones(m, dtype=int), axis=1)\n",
    "    z2 = np.dot(a1, Theta1.T)\n",
    "    a2 = sigmoid(z2)\n",
    "    a2 = np.insert(a2, 0, np.ones(a2.shape[0], dtype=int), axis=1)\n",
    "    z3 = np.dot(a2, Theta2.T)\n",
    "    a3 = sigmoid(z3)\n",
    "    \n",
    "    \n",
    "    delta3 = a3 - rotulos\n",
    "    delta2 = np.dot(delta3, Theta2[:, 1:]) * sigmoidGradient(z2)\n",
    "\n",
    "    if flagreg == True :\n",
    "        reg = (lambda_reg/(2*m))*(np.sum(Theta1[:, 1:] ** 2) + np.sum(Theta2[:, 1:] ** 2)) \n",
    "\n",
    "        J += reg\n",
    "    \n",
    "        delta3 = a3 - rotulos\n",
    "        delta2 = np.dot(delta3, Theta2[:, 1:]) * sigmoidGradient(z2)\n",
    "\n",
    "        Theta1_grad[:, 0] = (np.dot(delta2.T, a1)[:, 0]/m) \n",
    "        Theta1_grad[:, 1:] = (np.dot(delta2.T, a1)[:, 1:]/m) + (lambda_reg/m)*Theta1[:, 1:]\n",
    "\n",
    "        Theta2_grad[:, 0] = (np.dot(delta3.T, a2)[:, 0]/m) \n",
    "        Theta2_grad[:, 1:] = (np.dot(delta3.T, a2)[:, 1:]/m) + (lambda_reg/m)*Theta2[:, 1:]\n",
    "    \n",
    "    else:    \n",
    "        Theta1_grad = np.dot(delta2.T, a1)/m\n",
    "        Theta2_grad = np.dot(delta3.T, a2)/m\n",
    "     \n",
    "    J = np.sum(-rotulos*np.log(a3+eps) - (1 - rotulos)*np.log(1 - a3+eps))/m\n",
    "\n",
    "    grad = np.concatenate([np.ravel(Theta1_grad), np.ravel(Theta2_grad)])\n",
    "\n",
    "    return J, grad"
   ]
  },
  {
   "cell_type": "code",
   "execution_count": 8,
   "metadata": {},
   "outputs": [],
   "source": [
    "def predicao(Theta1, Theta2, Xval, Yval):\n",
    "\n",
    "    m = Xval.shape[0] # número de amostras\n",
    "    num_labels = Theta2.shape[0]\n",
    "    \n",
    "    p = np.zeros(m)\n",
    "\n",
    "    a1 = np.hstack( [np.ones([m,1]), Xval] )\n",
    "    h1 = sigmoid( np.dot(a1, Theta1.T) )\n",
    "\n",
    "    a2 = np.hstack( [np.ones([m,1]), h1] ) \n",
    "    h2 = sigmoid( np.dot(a2,Theta2.T) )\n",
    "    \n",
    "    Ypred = np.argmax(h2,axis=1)\n",
    "    \n",
    "    acuracia = np.sum(Ypred==Yval)/len(Yval)   \n",
    "        \n",
    "    return Ypred, acuracia"
   ]
  },
  {
   "cell_type": "code",
   "execution_count": 9,
   "metadata": {},
   "outputs": [],
   "source": [
    "def redes_neurais (Xtrain, Ytrain):\n",
    "\n",
    "    input_layer_size  = Xtrain.shape[1]  # 20x20 dimensao das imagens de entrada\n",
    "    hidden_layer_size = int((input_layer_size + 2)*2/3)   # 25 neuronios na camada oculta\n",
    "    num_labels = 2          # 10 rotulos, de 1 a 10  \n",
    "                         #  (observe que a classe \"0\" recebe o rotulo 10)\n",
    "    epsilon_init = 0.12\n",
    "    \n",
    "    # carregando os pesos da camada 1\n",
    "    Theta1 =  np.random.RandomState(10).rand(hidden_layer_size, 1 + input_layer_size) * 2 * epsilon_init - epsilon_init\n",
    "    \n",
    "    # carregando os pesos da camada 2\n",
    "    Theta2 = np.random.RandomState(10).rand(num_labels, 1 + hidden_layer_size) * 2 * epsilon_init - epsilon_init\n",
    "    \n",
    "    # concatena os pesos em um único vetor\n",
    "    initial_rna_params = np.concatenate([np.ravel(Theta1), np.ravel(Theta2)])\n",
    "    \n",
    "    MaxIter = 5000\n",
    "    \n",
    "    lamba_reg = 1\n",
    "    \n",
    "    # Minimiza a funcao de custo\n",
    "    result = scipy.optimize.minimize(fun=funcaoCusto_backp, x0=initial_rna_params, args=(input_layer_size, hidden_layer_size, num_labels, Xtrain, Ytrain,True,lamba_reg),  \n",
    "                    method='TNC', jac=True, options={'maxiter': MaxIter})\n",
    "    \n",
    "    # Coleta os pesos retornados pela função de minimização\n",
    "    nn_params = result.x\n",
    "    \n",
    "    # Obtem Theta1 e Theta2 back a partir de rna_params\n",
    "    Theta1 = np.reshape( nn_params[0:hidden_layer_size*(input_layer_size + 1)], (hidden_layer_size, input_layer_size+1) )\n",
    "    Theta2 = np.reshape( nn_params[ hidden_layer_size*(input_layer_size + 1):], (num_labels, hidden_layer_size+1) )\n",
    "    \n",
    "    return Theta1, Theta2"
   ]
  },
  {
   "cell_type": "code",
   "execution_count": 10,
   "metadata": {},
   "outputs": [
    {
     "name": "stdout",
     "output_type": "stream",
     "text": [
      "Acurácia é 92.3125\n"
     ]
    }
   ],
   "source": [
    "Theta1, Theta2 = redes_neurais(Xtrain, Ytrain)\n",
    "Ypred, acuracia = predicao(Theta1, Theta2, Xval, Yval)\n",
    "print(\"Acurácia é \"+ str(acuracia*100))"
   ]
  },
  {
   "cell_type": "code",
   "execution_count": 11,
   "metadata": {},
   "outputs": [
    {
     "name": "stdout",
     "output_type": "stream",
     "text": [
      "\n",
      "\tRevocacao   Precisao   F-medida   Classe\n",
      "\t0.919       0.932      0.926      0\n",
      "\t0.927       0.914      0.920      1\n",
      "\t------------------------------------------------\n",
      "\t0.923       0.923      0.923      Média macro\n",
      "\t0.923       0.923      0.923      Média micro\n",
      "\n",
      "\tAcuracia: 0.923\n"
     ]
    }
   ],
   "source": [
    "classes = np.unique(Y)\n",
    "auxResults = anl.relatorioDesempenho(Yval, Ypred, classes, imprimeRelatorio=True)"
   ]
  },
  {
   "cell_type": "code",
   "execution_count": 12,
   "metadata": {},
   "outputs": [],
   "source": [
    "def curva_aprendizado(X, Y, Xval, Yval):\n",
    "   \n",
    "    \"\"\"\n",
    "    Funcao usada gerar a curva de aprendizado.\n",
    "  \n",
    "    Parametros\n",
    "    ----------\n",
    "  \n",
    "    X : matriz com os dados de treinamento\n",
    "  \n",
    "    Y : vetor com as classes dos dados de treinamento\n",
    "  \n",
    "    Xval : matriz com os dados de validação\n",
    "  \n",
    "    Yval : vetor com as classes dos dados de validação\n",
    "  \n",
    "    \"\"\"\n",
    "\n",
    "    # inicializa as listas que guardarao a performance no treinamento e na validacao\n",
    "    perf_train = []\n",
    "    perf_val = []\n",
    "\n",
    "    classes = np.unique(Y)\n",
    "    \n",
    "    for i in range(10, len(Y)):\n",
    "        \n",
    "        Theta1, Theta2 = redes_neurais(X[:i], Y[:i])\n",
    "\n",
    "        Ypred, acuracia = predicao(Theta1, Theta2, X[:i], Y[:i])\n",
    "        perf_train.append(acuracia)\n",
    "\n",
    "        Ypred, acuracia = predicao(Theta1, Theta2, Xval, Yval)\n",
    "        perf_val.append(acuracia)\n",
    "\n",
    "\n",
    "    ##################################################################################\n",
    "       \n",
    "    # Define o tamanho da figura \n",
    "    plt.figure(figsize=(20,12))\n",
    "\n",
    "    # Plota os dados\n",
    "    plt.plot(perf_train, color='blue', linestyle='-', linewidth=1.5, label='Treino') \n",
    "    plt.plot(perf_val, color='red', linestyle='-', linewidth=1.5, label='Validação')\n",
    "\n",
    "    # Define os nomes do eixo x e do eixo y\n",
    "    plt.xlabel(r'# Qtd. de dados de treinamento',fontsize='x-large') \n",
    "    plt.ylabel(r'Acuracia',fontsize='x-large') \n",
    "\n",
    "    # Define o título do gráfico\n",
    "    plt.title(r'Curva de aprendizado', fontsize='x-large')\n",
    "\n",
    "    # Acrescenta um grid no gráfico\n",
    "    plt.grid(axis='both')\n",
    "\n",
    "    # Plota a legenda\n",
    "    plt.legend()\n",
    "    \n",
    "    plt.show()"
   ]
  },
  {
   "cell_type": "code",
   "execution_count": 13,
   "metadata": {},
   "outputs": [],
   "source": [
    "#curva_aprendizado(Xtrain, Ytrain, Xval, Yval)"
   ]
  }
 ],
 "metadata": {
  "kernelspec": {
   "display_name": "Python 3",
   "language": "python",
   "name": "python3"
  },
  "language_info": {
   "codemirror_mode": {
    "name": "ipython",
    "version": 3
   },
   "file_extension": ".py",
   "mimetype": "text/x-python",
   "name": "python",
   "nbconvert_exporter": "python",
   "pygments_lexer": "ipython3",
   "version": "3.6.8"
  }
 },
 "nbformat": 4,
 "nbformat_minor": 2
}
