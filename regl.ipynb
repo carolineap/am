{
 "cells": [
  {
   "cell_type": "code",
   "execution_count": 14,
   "metadata": {},
   "outputs": [
    {
     "name": "stdout",
     "output_type": "stream",
     "text": [
      "Vocabulário possui 5022 palavras!\n"
     ]
    }
   ],
   "source": [
    "import matplotlib.pyplot as plt\n",
    "import numpy as np\n",
    "import pandas as pd\n",
    "import pre_processing as pp\n",
    "import analysis as anl\n",
    "import pca\n",
    "\n",
    "category = 'kitchen_&_housewares'\n",
    "\n",
    "hNeg = True #if true, add negative bigrams for negative reviews\n",
    "noun = False #if true, add nouns\n",
    "\n",
    "X, Y, vocabulary = pp.bow(category, hNeg, noun)\n",
    "\n",
    "print(\"Vocabulário possui \" + str(len(vocabulary)) + \" palavras!\")"
   ]
  },
  {
   "cell_type": "code",
   "execution_count": 15,
   "metadata": {},
   "outputs": [],
   "source": [
    "# semente usada na randomizacao dos dados.\n",
    "randomSeed = 10 \n",
    "\n",
    "# gera os indices aleatorios que irao definir a ordem dos dados\n",
    "idx_perm = np.random.RandomState(randomSeed).permutation(range(len(Y)))\n",
    "\n",
    "# ordena os dados de acordo com os indices gerados aleatoriamente\n",
    "X2, Y2 = X[idx_perm, :], Y[idx_perm]\n",
    "\n",
    "pTrain = 0.8\n",
    "\n",
    "train_index, test_index = anl.stratified_holdOut(Y, pTrain)\n",
    "\n",
    "Xtrain, Xval = X2[train_index, :], X2[test_index, :];\n",
    "Ytrain, Yval = Y2[train_index], Y2[test_index];"
   ]
  },
  {
   "cell_type": "code",
   "execution_count": 16,
   "metadata": {},
   "outputs": [],
   "source": [
    "Xtrain, new_vocabulary, index = pp.chi2(Xtrain, Ytrain, vocabulary)\n",
    "Xval = Xval[:, index]\n",
    "\n",
    "#Converte matrizes esparsas para np arrays, para os cálculos da regressão logística\n",
    "Xtrain = Xtrain.toarray()\n",
    "Xval = Xval.toarray()"
   ]
  },
  {
   "cell_type": "code",
   "execution_count": 17,
   "metadata": {},
   "outputs": [
    {
     "name": "stdout",
     "output_type": "stream",
     "text": [
      "Número de features antes do chi-quadrado: 5022\n",
      "----------------------------------------\n",
      "Número de features após chi-quadrado: 195\n",
      "['leak', 'wooden', ('not', 'seem'), 'refurbish', 'rememb', 'wait', ('not', 'even'), 'defect', 'pleas', 'ring', 'back', 'kitchenaid', 'crack', 'second', 'replac', 'practic', 'essenti', 'zest', 'outstand', 'hold', 'heavi', 'larger', ('not', 'go'), ('not', 'enough'), ('not', 'hold'), ('not', 'tri'), 'far', 'recommend', 'comfort', 'gear', ('not', 'work'), 'special', 'french', 'thought', 'disappoint', 'love', 'larg', 'worst', 'fail', ('not', 'give'), 'poorli', 'told', 'shop', ('not', 'well'), 'toaster', ('not', 'clean'), 'best', 'need', 'bread', 'warn', ('not', 'think'), 'buy', 'amaz', 'sturdi', 'wast', 'warp', 'spout', ('not', 'not'), 'work', 'slow', 'sharp', 'quick', 'absolut', 'bark', 'took', 'rais', 'long', ('not', 'last'), ('not', 'expect'), 'everywher', 'quiet', 'awesom', 'great', 'danger', 'wors', 'nice', 'imposs', 'littl', 'unfortun', ('not', 'buy'), 'stuck', 'well', 'cook', 'favorit', 'call', 'crush', ('not', 'good'), 'hear', 'less', 'excel', 'kitchen', 'highli', 'dissapoint', ('not', 'worth'), 'rowenta', 'tri', 'safe', 'not', ('never', 'buy'), 'depend', 'extra', 'clean', 'receiv', 'die', 'broken', 'wine', 'eleg', 'easier', 'easi', 'end', 'perfect', ('not', 'wast'), 'purchas', ('not', 'want'), 'serv', 'base', 'broke', ('not', 'know'), 'terribl', 'wrote', ('not', 'use'), 'no', 'low', 'arriv', 'effici', 'doubl', 'come', 'even', 'black', 'notic', 'return', 'fabul', ('not', 'feel'), 'beat', 'aw', 'impress', 'avoid', ('not', 'sure'), 'concern', 'weak', 'worri', 'excit', 'fit', ('not', 'make'), 'start', ('not', 'purchas'), ('not', 'recommend'), 'sent', 'whisk', 'also', 'stop', 'dead', 'wonder', 'cheap', 'power', 'rival', 'first', 'send', 'ok', 'enjoy', 'never', 'decid', 'bad', ('not', 'fit'), 'go', 'size', 'durabl', 'provid', 'sharpen', 'plastic', 'fantast', 'evenli', 'els', 'add', 'realli', 'bare', 'griddl', 'perfectli', 'fish', 'ever', 'difficult', 'horribl', 'almost', ('not', 'get'), ('not', 'happi'), ('not', 'find'), 'bought', 'beauti', ('not', 'believ'), 'ware', 'poor', 'blender', ('no', 'longer'), 'feed', 'save']\n"
     ]
    }
   ],
   "source": [
    "print(\"Número de features antes do chi-quadrado: \" + str(len(vocabulary)))\n",
    "print(\"----------------------------------------\")\n",
    "print(\"Número de features após chi-quadrado: \" + str(len(new_vocabulary)))\n",
    "print(new_vocabulary)"
   ]
  },
  {
   "cell_type": "code",
   "execution_count": 18,
   "metadata": {},
   "outputs": [],
   "source": [
    "def sigmoid(z):\n",
    "    \n",
    "    \"\"\"\n",
    "    Calcula a funcao sigmoidal  \n",
    "    \"\"\"\n",
    "    \n",
    "    if isinstance(z, int):\n",
    "        g = 0\n",
    "    \n",
    "    # se z não é um inteiro, significa que é um array e inicia com a dimensão do array\n",
    "    else:\n",
    "        g = np.zeros( z.shape );\n",
    "\n",
    "    g = 1/(1+np.exp(-z))\n",
    "  \n",
    "    return g"
   ]
  },
  {
   "cell_type": "code",
   "execution_count": 19,
   "metadata": {},
   "outputs": [],
   "source": [
    "def funcaoCustoReg(theta, X, Y, lambda_reg):\n",
    "    \n",
    "    \"\"\"\n",
    "    Calcula o custo da regressao logística\n",
    "    \"\"\"\n",
    "    \n",
    "    m = len(Y) #numero de exemplos de treinamento\n",
    "\n",
    "    J = 0\n",
    "    grad = np.zeros( len(theta) )\n",
    "    \n",
    "    # parâmetro de tolerância para a função sigmoide. 1-htheta não pode ser \n",
    "    # menor que eps para evitar erro de precisão numérica\n",
    "    eps = 1e-15\n",
    "    \n",
    "    reg = lambda_reg/(2*m) * np.sum(theta[1:] ** 2)\n",
    "    \n",
    "    h = sigmoid( np.dot(X,theta) )\n",
    "    \n",
    "    J = np.dot( -Y,np.log(h) ) - np.dot( (1-Y),np.log(1-h+eps) )\n",
    "    J = (1/m)*J + reg\n",
    "    \n",
    "    grad = np.dot( (h-Y),X ) \n",
    "    grad = (1/m) * grad\n",
    "    \n",
    "    # usa a regularização no gradiente\n",
    "    grad[1:] = grad[1:] + (lambda_reg/m) * theta[1:]\n",
    "                      \n",
    "    return J, grad\n"
   ]
  },
  {
   "cell_type": "code",
   "execution_count": 20,
   "metadata": {},
   "outputs": [],
   "source": [
    "import scipy\n",
    "import scipy.optimize \n",
    "\n",
    "def treinamento(X, Y, lambda_reg, iteracoes):\n",
    "    \n",
    "    # se for vazio, retorna None \n",
    "    if len(Y)==0:\n",
    "        return None\n",
    "    \n",
    "    m, n = X.shape # m = qtde de objetos e n = qtde de atributos por objeto\n",
    "    \n",
    "    theta = np.zeros(n) # Inicializa parâmetros que serao ajustados\n",
    "    \n",
    "    # minimiza a funcao de custo\n",
    "    result = scipy.optimize.minimize(fun=funcaoCustoReg, x0=theta, args=(X, Y, lambda_reg),  \n",
    "                method='BFGS', jac=True, options={'maxiter': iteracoes, 'disp':False})\n",
    "\n",
    "    # coleta os thetas retornados pela função de minimização\n",
    "    theta = result.x\n",
    "    \n",
    "    return theta"
   ]
  },
  {
   "cell_type": "code",
   "execution_count": 21,
   "metadata": {},
   "outputs": [],
   "source": [
    "def predicao(X, theta, Yval):\n",
    "    \n",
    "    \"\"\"\n",
    "    Prediz se a entrada pertence a classe 0 ou 1 usando o parametro\n",
    "    theta obtido pela regressao logistica\n",
    "   \n",
    "    \"\"\"\n",
    "    m = X.shape[0]   \n",
    "    Ypred = np.zeros(m, dtype=\"int\")\n",
    "    \n",
    "    h = sigmoid( np.dot(X,theta) )\n",
    "    \n",
    "    for i in range(m):\n",
    "        if h[i] >= 0.5:\n",
    "            Ypred[i] = 1\n",
    "        else:\n",
    "            Ypred[i] = 0\n",
    "            \n",
    "    acuracia = np.sum(np.array(classes[0])==Yval)/len(Yval)\n",
    "        \n",
    "    return Ypred, acuracia"
   ]
  },
  {
   "cell_type": "code",
   "execution_count": 22,
   "metadata": {},
   "outputs": [],
   "source": [
    "theta = treinamento(Xtrain, Ytrain, 25, 50)"
   ]
  },
  {
   "cell_type": "code",
   "execution_count": 23,
   "metadata": {},
   "outputs": [
    {
     "ename": "TypeError",
     "evalue": "predicao() missing 1 required positional argument: 'Yval'",
     "output_type": "error",
     "traceback": [
      "\u001b[0;31m---------------------------------------------------------------------------\u001b[0m",
      "\u001b[0;31mTypeError\u001b[0m                                 Traceback (most recent call last)",
      "\u001b[0;32m<ipython-input-23-2adb35024785>\u001b[0m in \u001b[0;36m<module>\u001b[0;34m()\u001b[0m\n\u001b[0;32m----> 1\u001b[0;31m \u001b[0mYpred\u001b[0m \u001b[0;34m=\u001b[0m \u001b[0mpredicao\u001b[0m\u001b[0;34m(\u001b[0m\u001b[0mXval\u001b[0m\u001b[0;34m,\u001b[0m \u001b[0mtheta\u001b[0m\u001b[0;34m)\u001b[0m\u001b[0;34m\u001b[0m\u001b[0;34m\u001b[0m\u001b[0m\n\u001b[0m\u001b[1;32m      2\u001b[0m \u001b[0macuracia\u001b[0m \u001b[0;34m=\u001b[0m \u001b[0;34m(\u001b[0m\u001b[0mnp\u001b[0m\u001b[0;34m.\u001b[0m\u001b[0msum\u001b[0m\u001b[0;34m(\u001b[0m\u001b[0mYpred\u001b[0m\u001b[0;34m==\u001b[0m\u001b[0mYval\u001b[0m\u001b[0;34m)\u001b[0m\u001b[0;34m/\u001b[0m\u001b[0mlen\u001b[0m\u001b[0;34m(\u001b[0m\u001b[0mYval\u001b[0m\u001b[0;34m)\u001b[0m\u001b[0;34m)\u001b[0m \u001b[0;34m*\u001b[0m \u001b[0;36m100\u001b[0m\u001b[0;34m\u001b[0m\u001b[0;34m\u001b[0m\u001b[0m\n\u001b[1;32m      3\u001b[0m \u001b[0mprint\u001b[0m\u001b[0;34m(\u001b[0m\u001b[0;34m\"Acurácia é \"\u001b[0m\u001b[0;34m+\u001b[0m \u001b[0mstr\u001b[0m\u001b[0;34m(\u001b[0m\u001b[0macuracia\u001b[0m\u001b[0;34m)\u001b[0m\u001b[0;34m)\u001b[0m\u001b[0;34m\u001b[0m\u001b[0;34m\u001b[0m\u001b[0m\n",
      "\u001b[0;31mTypeError\u001b[0m: predicao() missing 1 required positional argument: 'Yval'"
     ]
    }
   ],
   "source": [
    "Ypred = predicao(Xval, theta)\n",
    "acuracia = (np.sum(Ypred==Yval)/len(Yval)) * 100\n",
    "print(\"Acurácia é \"+ str(acuracia))"
   ]
  },
  {
   "cell_type": "code",
   "execution_count": null,
   "metadata": {},
   "outputs": [],
   "source": [
    "classes = np.unique(Y)\n",
    "auxResults = anl.relatorioDesempenho(Yval, Ypred, classes, imprimeRelatorio=True)"
   ]
  },
  {
   "cell_type": "code",
   "execution_count": null,
   "metadata": {},
   "outputs": [],
   "source": [
    "def curva_aprendizado(Xtrain, Ytrain, Xval, Yval):\n",
    "   \n",
    "    \"\"\"\n",
    "    Funcao usada gerar a curva de aprendizado.\n",
    "  \n",
    "    Parametros\n",
    "    ----------\n",
    "  \n",
    "    X : matriz com os dados de treinamento\n",
    "  \n",
    "    Y : vetor com as classes dos dados de treinamento\n",
    "  \n",
    "    Xval : matriz com os dados de validação\n",
    "  \n",
    "    Yval : vetor com as classes dos dados de validação\n",
    "  \n",
    "    \"\"\"\n",
    "\n",
    "    # inicializa as listas que guardarao a performance no treinamento e na validacao\n",
    "    \n",
    "    perf_train = []\n",
    "    perf_val = []\n",
    "\n",
    "    classes = np.unique(Y)\n",
    "    \n",
    "    for i in range(10, len(Y)):\n",
    "        \n",
    "        theta = treinamento(Xtrain[:i], Ytrain[:i], 25, 50)\n",
    "        \n",
    "        Ypred, acuracia = predicao(Xtrain[:i], theta, Ytrain[:i])\n",
    "        perf_train.append(acuracia)\n",
    "\n",
    "        Ypred, acuracia = predicao(Xval, theta, Yval)\n",
    "        perf_val.append(acuracia)\n",
    "\n",
    "    ##################################################################################\n",
    "       \n",
    "    # Define o tamanho da figura \n",
    "    plt.figure(figsize=(20,12))\n",
    "\n",
    "    # Plota os dados\n",
    "    plt.plot(perf_train, color='blue', linestyle='-', linewidth=1.5, label='Treino') \n",
    "    plt.plot(perf_val, color='red', linestyle='-', linewidth=1.5, label='Validação')\n",
    "\n",
    "    # Define os nomes do eixo x e do eixo y\n",
    "    plt.xlabel(r'# Qtd. de dados de treinamento',fontsize='x-large') \n",
    "    plt.ylabel(r'Acuracia',fontsize='x-large') \n",
    "\n",
    "    # Define o título do gráfico\n",
    "    plt.title(r'Curva de aprendizado', fontsize='x-large')\n",
    "\n",
    "    # Acrescenta um grid no gráfico\n",
    "    plt.grid(axis='both')\n",
    "\n",
    "    # Plota a legenda\n",
    "    plt.legend()\n",
    "    \n",
    "    plt.show()\n",
    "\n"
   ]
  },
  {
   "cell_type": "code",
   "execution_count": null,
   "metadata": {},
   "outputs": [],
   "source": [
    "curva_aprendizado(Xtrain, Ytrain, Xval, Yval)"
   ]
  }
 ],
 "metadata": {
  "kernelspec": {
   "display_name": "Python 3",
   "language": "python",
   "name": "python3"
  },
  "language_info": {
   "codemirror_mode": {
    "name": "ipython",
    "version": 3
   },
   "file_extension": ".py",
   "mimetype": "text/x-python",
   "name": "python",
   "nbconvert_exporter": "python",
   "pygments_lexer": "ipython3",
   "version": "3.6.8"
  }
 },
 "nbformat": 4,
 "nbformat_minor": 2
}
