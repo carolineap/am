{
 "cells": [
  {
   "cell_type": "code",
   "execution_count": 3,
   "metadata": {},
   "outputs": [
    {
     "name": "stdout",
     "output_type": "stream",
     "text": [
      "Vocabulário possui 5023 palavras!\n"
     ]
    }
   ],
   "source": [
    "import matplotlib.pyplot as plt\n",
    "import numpy as np\n",
    "import pandas as pd\n",
    "import pre_processing as pp\n",
    "import analysis as anl\n",
    "import pca\n",
    "\n",
    "category = 'kitchen_&_housewares'\n",
    "\n",
    "hNeg = True #if true, add negative bigrams for negative reviews\n",
    "noun = False #if true, add nouns\n",
    "\n",
    "X, Y, vocabulary = pp.bow(category, hNeg, noun)\n",
    "\n",
    "print(\"Vocabulário possui \" + str(len(vocabulary)) + \" palavras!\")"
   ]
  },
  {
   "cell_type": "code",
   "execution_count": 4,
   "metadata": {},
   "outputs": [],
   "source": [
    "# semente usada na randomizacao dos dados.\n",
    "randomSeed = 10 \n",
    "\n",
    "# gera os indices aleatorios que irao definir a ordem dos dados\n",
    "idx_perm = np.random.RandomState(randomSeed).permutation(range(len(Y)))\n",
    "\n",
    "# ordena os dados de acordo com os indices gerados aleatoriamente\n",
    "X2, Y2 = X[idx_perm, :], Y[idx_perm]\n",
    "\n",
    "pTrain = 0.8\n",
    "\n",
    "train_index, test_index = anl.stratified_holdOut(Y, pTrain)\n",
    "\n",
    "Xtrain, Xval = X2[train_index, :], X2[test_index, :];\n",
    "Ytrain, Yval = Y2[train_index], Y2[test_index];"
   ]
  },
  {
   "cell_type": "code",
   "execution_count": 5,
   "metadata": {},
   "outputs": [
    {
     "name": "stderr",
     "output_type": "stream",
     "text": [
      "/home/sy/Downloads/MachineLearning/am/pre_processing.py:203: RuntimeWarning: divide by zero encountered in true_divide\n",
      "  chisq /= f_exp\n"
     ]
    }
   ],
   "source": [
    "Xtrain, new_vocabulary, index = pp.chi2(Xtrain, Ytrain, vocabulary)\n",
    "Xval = Xval[:, index]\n",
    "\n",
    "#Converte matrizes esparsas para np arrays, para os cálculos da regressão logística\n",
    "Xtrain = Xtrain.toarray()\n",
    "Xval = Xval.toarray()"
   ]
  },
  {
   "cell_type": "code",
   "execution_count": 4,
   "metadata": {},
   "outputs": [
    {
     "name": "stdout",
     "output_type": "stream",
     "text": [
      "Número de features antes do chi-quadrado: 5023\n",
      "----------------------------------------\n",
      "Número de features após chi-quadrado: 195\n",
      "['not', 'wooden', 'sharpen', 'told', 'beauti', 'rais', 'comfort', 'spout', 'tri', ('not', 'get'), ('not', 'good'), 'long', 'arriv', 'fabul', 'plastic', 'outstand', 'bought', 'purchas', 'need', 'fish', 'bad', 'broken', 'less', 'difficult', 'sharp', 'fantast', 'die', 'quick', 'bark', 'go', 'bread', 'warp', 'aw', 'add', ('not', 'even'), 'depend', 'whisk', 'return', ('not', 'know'), 'bare', ('not', 'use'), 'kitchenaid', 'danger', ('not', 'seem'), 'heavi', 'even', 'hear', ('not', 'worth'), 'start', ('not', 'last'), 'rememb', ('not', 'give'), ('not', 'purchas'), ('not', 'clean'), 'slow', 'zest', 'buy', 'amaz', 'come', 'save', ('not', 'tri'), 'perfect', ('not', 'go'), 'far', 'warn', 'send', 'love', 'unfortun', 'everywher', 'effici', 'beat', ('not', 'not'), 'end', 'easi', 'no', 'quiet', 'kitchen', 'crush', 'power', 'base', 'imposs', 'easier', ('not', 'sure'), 'nice', 'refurbish', ('not', 'want'), 'cheap', 'fit', 'practic', 'well', ('not', 'believ'), 'enjoy', 'special', 'also', 'feed', 'concern', ('not', 'hold'), 'thought', ('not', 'well'), ('not', 'buy'), 'clean', 'doubl', 'shop', 'extra', 'wrote', 'wonder', 'poor', 'stuck', 'ware', ('not', 'find'), 'worst', 'wast', 'horribl', 'took', 'griddl', 'evenli', 'ever', ('not', 'feel'), 'highli', 'awesom', 'blender', 'terribl', 'recommend', 'size', 'wait', ('not', 'think'), 'larg', ('not', 'recommend'), 'essenti', 'wors', 'almost', 'wine', 'french', 'decid', ('never', 'buy'), 'excel', 'ring', 'larger', ('not', 'work'), 'impress', 'avoid', 'littl', 'low', 'sturdi', 'rowenta', 'safe', 'disappoint', 'toaster', 'broke', 'favorit', 'weak', 'ok', 'cook', 'stop', 'dead', 'notic', 'hold', 'first', 'provid', ('not', 'enough'), 'excit', 'eleg', 'defect', 'pleas', 'sent', 'leak', 'back', 'gear', 'best', 'fail', 'black', ('not', 'wast'), 'receiv', 'els', ('not', 'expect'), ('no', 'longer'), 'absolut', ('not', 'fit'), 'serv', 'replac', 'call', 'worri', 'rival', 'realli', ('not', 'make'), 'second', 'perfectli', 'great', 'durabl', 'work', 'crack', 'poorli', 'dissapoint', 'never', ('not', 'happi')]\n"
     ]
    }
   ],
   "source": [
    "print(\"Número de features antes do chi-quadrado: \" + str(len(vocabulary)))\n",
    "print(\"----------------------------------------\")\n",
    "print(\"Número de features após chi-quadrado: \" + str(len(new_vocabulary)))\n",
    "print(new_vocabulary)"
   ]
  },
  {
   "cell_type": "code",
   "execution_count": 6,
   "metadata": {},
   "outputs": [],
   "source": [
    "def sigmoid(z):\n",
    "    \n",
    "    \"\"\"\n",
    "    Calcula a funcao sigmoidal  \n",
    "    \"\"\"\n",
    "    \n",
    "    if isinstance(z, int):\n",
    "        g = 0\n",
    "    \n",
    "    # se z não é um inteiro, significa que é um array e inicia com a dimensão do array\n",
    "    else:\n",
    "        g = np.zeros( z.shape );\n",
    "\n",
    "    g = 1/(1+np.exp(-z))\n",
    "  \n",
    "    return g"
   ]
  },
  {
   "cell_type": "code",
   "execution_count": 20,
   "metadata": {},
   "outputs": [],
   "source": [
    "def funcaoCustoReg(theta, X, Y, lambda_reg):\n",
    "    \n",
    "    \"\"\"\n",
    "    Calcula o custo da regressao logística\n",
    "    \"\"\"\n",
    "    \n",
    "    m = len(Y) #numero de exemplos de treinamento\n",
    "\n",
    "    J = 0\n",
    "    grad = np.zeros( len(theta) )\n",
    "    \n",
    "    # parâmetro de tolerância para a função sigmoide. 1-htheta não pode ser \n",
    "    # menor que eps para evitar erro de precisão numérica\n",
    "    eps = 1e-15\n",
    "    \n",
    "    z = np.dot(X, theta) # z = (theta * X).sum(axis=1)\n",
    "    h_theta = sigmoid(z) \n",
    "    cost = -Y * np.log(h_theta+eps) - (1 - Y) * np.log(1 - h_theta + eps)\n",
    "    J = 1/m * cost.sum()\n",
    "    \n",
    "    grad = 1/m *(X.T * (h_theta - Y)).sum(axis=1)\n",
    "                      \n",
    "    return J, grad\n"
   ]
  },
  {
   "cell_type": "code",
   "execution_count": 21,
   "metadata": {},
   "outputs": [],
   "source": [
    "import scipy\n",
    "import scipy.optimize \n",
    "\n",
    "def treinamento(X, Y, lambda_reg, iteracoes):\n",
    "    \n",
    "    # se for vazio, retorna None \n",
    "    if len(Y)==0:\n",
    "        return None\n",
    "    \n",
    "    m, n = X.shape # m = qtde de objetos e n = qtde de atributos por objeto\n",
    "    \n",
    "    theta = np.zeros(n) # Inicializa parâmetros que serao ajustados\n",
    "    \n",
    "    # minimiza a funcao de custo\n",
    "    result = scipy.optimize.minimize(fun=funcaoCustoReg, x0=theta, args=(X, Y, lambda_reg),  \n",
    "                method='BFGS', jac=True, options={'maxiter': iteracoes, 'disp':False})\n",
    "\n",
    "    # coleta os thetas retornados pela função de minimização\n",
    "    theta = result.x\n",
    "    \n",
    "    return theta"
   ]
  },
  {
   "cell_type": "code",
   "execution_count": 38,
   "metadata": {},
   "outputs": [],
   "source": [
    "def predicao(X, theta):\n",
    "    \n",
    "    \"\"\"\n",
    "    Prediz se a entrada pertence a classe 0 ou 1 usando o parametro\n",
    "    theta obtido pela regressao logistica\n",
    "   \n",
    "    \"\"\"\n",
    "    m = X.shape[0]   \n",
    "#    Ypred = np.zeros(m, dtype=\"int\")\n",
    "    \n",
    "#    h = sigmoid( np.dot(X,theta) )\n",
    "    \n",
    "#    for i in range(m):\n",
    "#        if h[i] >= 0.5:\n",
    "#            Ypred[i] = 1\n",
    "#        else:\n",
    "#            Ypred[i] = 0\n",
    "            \n",
    "#    acuracia = np.sum(np.array(Ypred[0])==Yval)/len(Yval)\n",
    "        \n",
    "#    return Ypred, acuracia\n",
    "    p = np.zeros(m, dtype=int) \n",
    "    z = np.dot(X, theta)\n",
    "    h_theta = sigmoid(z) \n",
    "    \n",
    "    for i in range(m):\n",
    "        if h_theta[i] >= 0.5:\n",
    "            p[i] = 1 \n",
    "    \n",
    "    return p"
   ]
  },
  {
   "cell_type": "code",
   "execution_count": 29,
   "metadata": {},
   "outputs": [],
   "source": [
    "theta = treinamento(Xtrain, Ytrain, 25, 50)"
   ]
  },
  {
   "cell_type": "code",
   "execution_count": 30,
   "metadata": {},
   "outputs": [
    {
     "ename": "NameError",
     "evalue": "name 'm' is not defined",
     "output_type": "error",
     "traceback": [
      "\u001b[0;31m---------------------------------------------------------------------------\u001b[0m",
      "\u001b[0;31mNameError\u001b[0m                                 Traceback (most recent call last)",
      "\u001b[0;32m<ipython-input-30-2adb35024785>\u001b[0m in \u001b[0;36m<module>\u001b[0;34m()\u001b[0m\n\u001b[0;32m----> 1\u001b[0;31m \u001b[0mYpred\u001b[0m \u001b[0;34m=\u001b[0m \u001b[0mpredicao\u001b[0m\u001b[0;34m(\u001b[0m\u001b[0mXval\u001b[0m\u001b[0;34m,\u001b[0m \u001b[0mtheta\u001b[0m\u001b[0;34m)\u001b[0m\u001b[0;34m\u001b[0m\u001b[0m\n\u001b[0m\u001b[1;32m      2\u001b[0m \u001b[0macuracia\u001b[0m \u001b[0;34m=\u001b[0m \u001b[0;34m(\u001b[0m\u001b[0mnp\u001b[0m\u001b[0;34m.\u001b[0m\u001b[0msum\u001b[0m\u001b[0;34m(\u001b[0m\u001b[0mYpred\u001b[0m\u001b[0;34m==\u001b[0m\u001b[0mYval\u001b[0m\u001b[0;34m)\u001b[0m\u001b[0;34m/\u001b[0m\u001b[0mlen\u001b[0m\u001b[0;34m(\u001b[0m\u001b[0mYval\u001b[0m\u001b[0;34m)\u001b[0m\u001b[0;34m)\u001b[0m \u001b[0;34m*\u001b[0m \u001b[0;36m100\u001b[0m\u001b[0;34m\u001b[0m\u001b[0m\n\u001b[1;32m      3\u001b[0m \u001b[0mprint\u001b[0m\u001b[0;34m(\u001b[0m\u001b[0;34m\"Acurácia é \"\u001b[0m\u001b[0;34m+\u001b[0m \u001b[0mstr\u001b[0m\u001b[0;34m(\u001b[0m\u001b[0macuracia\u001b[0m\u001b[0;34m)\u001b[0m\u001b[0;34m)\u001b[0m\u001b[0;34m\u001b[0m\u001b[0m\n",
      "\u001b[0;32m<ipython-input-28-65967eec9788>\u001b[0m in \u001b[0;36mpredicao\u001b[0;34m(X, theta)\u001b[0m\n\u001b[1;32m     23\u001b[0m     \u001b[0mh_theta\u001b[0m \u001b[0;34m=\u001b[0m \u001b[0msigmoid\u001b[0m\u001b[0;34m(\u001b[0m\u001b[0mz\u001b[0m\u001b[0;34m)\u001b[0m\u001b[0;34m\u001b[0m\u001b[0m\n\u001b[1;32m     24\u001b[0m \u001b[0;34m\u001b[0m\u001b[0m\n\u001b[0;32m---> 25\u001b[0;31m     \u001b[0;32mfor\u001b[0m \u001b[0mi\u001b[0m \u001b[0;32min\u001b[0m \u001b[0mrange\u001b[0m\u001b[0;34m(\u001b[0m\u001b[0mm\u001b[0m\u001b[0;34m)\u001b[0m\u001b[0;34m:\u001b[0m\u001b[0;34m\u001b[0m\u001b[0m\n\u001b[0m\u001b[1;32m     26\u001b[0m         \u001b[0;32mif\u001b[0m \u001b[0mh_theta\u001b[0m\u001b[0;34m[\u001b[0m\u001b[0mi\u001b[0m\u001b[0;34m]\u001b[0m \u001b[0;34m>=\u001b[0m \u001b[0;36m0.5\u001b[0m\u001b[0;34m:\u001b[0m\u001b[0;34m\u001b[0m\u001b[0m\n\u001b[1;32m     27\u001b[0m             \u001b[0mp\u001b[0m\u001b[0;34m[\u001b[0m\u001b[0mi\u001b[0m\u001b[0;34m]\u001b[0m \u001b[0;34m=\u001b[0m \u001b[0;36m1\u001b[0m\u001b[0;34m\u001b[0m\u001b[0m\n",
      "\u001b[0;31mNameError\u001b[0m: name 'm' is not defined"
     ]
    }
   ],
   "source": [
    "Ypred = predicao(Xval, theta)\n",
    "acuracia = (np.sum(Ypred==Yval)/len(Yval)) * 100\n",
    "print(\"Acurácia é \"+ str(acuracia))"
   ]
  },
  {
   "cell_type": "code",
   "execution_count": null,
   "metadata": {},
   "outputs": [],
   "source": [
    "classes = np.unique(Y)\n",
    "auxResults = anl.relatorioDesempenho(Yval, Ypred, classes, imprimeRelatorio=True)"
   ]
  },
  {
   "cell_type": "code",
   "execution_count": null,
   "metadata": {},
   "outputs": [],
   "source": [
    "def curva_aprendizado(Xtrain, Ytrain, Xval, Yval):\n",
    "   \n",
    "    \"\"\"\n",
    "    Funcao usada gerar a curva de aprendizado.\n",
    "  \n",
    "    Parametros\n",
    "    ----------\n",
    "  \n",
    "    X : matriz com os dados de treinamento\n",
    "  \n",
    "    Y : vetor com as classes dos dados de treinamento\n",
    "  \n",
    "    Xval : matriz com os dados de validação\n",
    "  \n",
    "    Yval : vetor com as classes dos dados de validação\n",
    "  \n",
    "    \"\"\"\n",
    "\n",
    "    # inicializa as listas que guardarao a performance no treinamento e na validacao\n",
    "    \n",
    "    perf_train = []\n",
    "    perf_val = []\n",
    "\n",
    "    classes = np.unique(Y)\n",
    "    \n",
    "    for i in range(10, len(Y)):\n",
    "        \n",
    "        theta = treinamento(Xtrain[:i], Ytrain[:i], 25, 50)\n",
    "        \n",
    "        Ypred, acuracia = predicao(Xtrain[:i], theta, Ytrain[:i])\n",
    "        perf_train.append(acuracia)\n",
    "\n",
    "        Ypred, acuracia = predicao(Xval, theta, Yval)\n",
    "        perf_val.append(acuracia)\n",
    "\n",
    "    ##################################################################################\n",
    "       \n",
    "    # Define o tamanho da figura \n",
    "    plt.figure(figsize=(20,12))\n",
    "\n",
    "    # Plota os dados\n",
    "    plt.plot(perf_train, color='blue', linestyle='-', linewidth=1.5, label='Treino') \n",
    "    plt.plot(perf_val, color='red', linestyle='-', linewidth=1.5, label='Validação')\n",
    "\n",
    "    # Define os nomes do eixo x e do eixo y\n",
    "    plt.xlabel(r'# Qtd. de dados de treinamento',fontsize='x-large') \n",
    "    plt.ylabel(r'Acuracia',fontsize='x-large') \n",
    "\n",
    "    # Define o título do gráfico\n",
    "    plt.title(r'Curva de aprendizado', fontsize='x-large')\n",
    "\n",
    "    # Acrescenta um grid no gráfico\n",
    "    plt.grid(axis='both')\n",
    "\n",
    "    # Plota a legenda\n",
    "    plt.legend()\n",
    "    \n",
    "    plt.show()\n",
    "\n"
   ]
  },
  {
   "cell_type": "code",
   "execution_count": null,
   "metadata": {},
   "outputs": [],
   "source": [
    "curva_aprendizado(Xtrain, Ytrain, Xval, Yval)"
   ]
  },
  {
   "cell_type": "code",
   "execution_count": 39,
   "metadata": {},
   "outputs": [],
   "source": [
    "def gridSearch(X, Y ,Xval, Yval, lambda_reg, iteracoes) :\n",
    "    bestLambda = lambda_reg[0]\n",
    "    bestAcc = 0\n",
    "    for l in lambda_reg :\n",
    "        theta = treinamento(X,Y, l, iteracoes)\n",
    "        Ypred = predicao(Xval, theta)\n",
    "        acuracia = (np.sum(Ypred==Yval)/len(Yval)) * 100\n",
    "        print(\"Acurácia é \"+ str(acuracia))\n",
    "        if bestAcc < acuracia :\n",
    "            bestLambda = l\n",
    "            bestAcc = acuracia\n",
    "        \n",
    "    print(\"Best Lambda = \", bestLambda)\n",
    "    print(\"Acc = \", bestAcc)\n",
    "    return bestLambda"
   ]
  },
  {
   "cell_type": "code",
   "execution_count": 40,
   "metadata": {},
   "outputs": [
    {
     "name": "stdout",
     "output_type": "stream",
     "text": [
      "Acurácia é 90.0\n",
      "Acurácia é 90.0\n",
      "Acurácia é 90.0\n",
      "Acurácia é 90.0\n",
      "Acurácia é 90.0\n",
      "Acurácia é 90.0\n",
      "Acurácia é 90.0\n",
      "Acurácia é 90.0\n",
      "Acurácia é 90.0\n",
      "Acurácia é 90.0\n",
      "Acurácia é 90.0\n",
      "Best Lambda =  0.001\n",
      "Acc =  90.0\n"
     ]
    }
   ],
   "source": [
    "lambda_reg = [0.001, 0.01, 0.1, 1, 0.05, 0.5, 5, 10, 50, 100, 500]\n",
    "l = gridSearch(Xtrain, Ytrain, Xval, Yval, lambda_reg, 100)"
   ]
  },
  {
   "cell_type": "code",
   "execution_count": null,
   "metadata": {},
   "outputs": [],
   "source": []
  }
 ],
 "metadata": {
  "kernelspec": {
   "display_name": "Python 3",
   "language": "python",
   "name": "python3"
  },
  "language_info": {
   "codemirror_mode": {
    "name": "ipython",
    "version": 3
   },
   "file_extension": ".py",
   "mimetype": "text/x-python",
   "name": "python",
   "nbconvert_exporter": "python",
   "pygments_lexer": "ipython3",
   "version": "3.6.4"
  }
 },
 "nbformat": 4,
 "nbformat_minor": 2
}
