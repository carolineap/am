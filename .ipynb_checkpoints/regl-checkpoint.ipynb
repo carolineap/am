{
 "cells": [
  {
   "cell_type": "code",
<<<<<<< HEAD
   "execution_count": 1,
   "metadata": {},
   "outputs": [
    {
     "name": "stdout",
     "output_type": "stream",
     "text": [
      "Vocabulário possui 1509 palavras!\n"
     ]
    }
   ],
=======
   "execution_count": null,
   "metadata": {},
   "outputs": [],
>>>>>>> 2679f086b46298447a3b5461d915d4acbb9bb95b
   "source": [
    "import matplotlib.pyplot as plt\n",
    "import numpy as np\n",
    "import pandas as pd\n",
    "import pre_processing as pp\n",
    "import analysis as anl\n",
    "import pca\n",
    "\n",
<<<<<<< HEAD
    "category = 'test'\n",
=======
    "category = 'kitchen_&_housewares'\n",
>>>>>>> 2679f086b46298447a3b5461d915d4acbb9bb95b
    "\n",
    "hNeg = True #if true, add negative bigrams for negative reviews\n",
    "noun = False #if true, add nouns\n",
    "\n",
    "X, Y, vocabulary = pp.bow(category, hNeg, noun)\n",
    "\n",
    "print(\"Vocabulário possui \" + str(len(vocabulary)) + \" palavras!\")"
   ]
  },
  {
   "cell_type": "code",
<<<<<<< HEAD
   "execution_count": 2,
=======
   "execution_count": null,
>>>>>>> 2679f086b46298447a3b5461d915d4acbb9bb95b
   "metadata": {},
   "outputs": [],
   "source": [
    "# semente usada na randomizacao dos dados.\n",
    "randomSeed = 10 \n",
    "\n",
    "# gera os indices aleatorios que irao definir a ordem dos dados\n",
    "idx_perm = np.random.RandomState(randomSeed).permutation(range(len(Y)))\n",
    "\n",
    "# ordena os dados de acordo com os indices gerados aleatoriamente\n",
    "X2, Y2 = X[idx_perm, :], Y[idx_perm]\n",
    "\n",
    "pTrain = 0.8\n",
    "\n",
    "train_index, test_index = anl.stratified_holdOut(Y, pTrain)\n",
    "\n",
    "Xtrain, Xval = X2[train_index, :], X2[test_index, :];\n",
    "Ytrain, Yval = Y2[train_index], Y2[test_index];"
   ]
  },
  {
   "cell_type": "code",
<<<<<<< HEAD
   "execution_count": 3,
=======
   "execution_count": null,
>>>>>>> 2679f086b46298447a3b5461d915d4acbb9bb95b
   "metadata": {},
   "outputs": [],
   "source": [
    "Xtrain, new_vocabulary, index = pp.chi2(Xtrain, Ytrain, vocabulary)\n",
    "Xval = Xval[:, index]\n",
    "\n",
    "#Converte matrizes esparsas para np arrays, para os cálculos da regressão logística\n",
    "Xtrain = Xtrain.toarray()\n",
    "Xval = Xval.toarray()"
   ]
  },
  {
   "cell_type": "code",
<<<<<<< HEAD
   "execution_count": 4,
   "metadata": {},
   "outputs": [
    {
     "name": "stdout",
     "output_type": "stream",
     "text": [
      "Número de features antes do chi-quadrado: 1509\n",
      "----------------------------------------\n",
      "Número de features após chi-quadrado: 5\n",
      "['entir', 'not', 'well', 'arab', 'less']\n"
     ]
    }
   ],
=======
   "execution_count": null,
   "metadata": {},
   "outputs": [],
>>>>>>> 2679f086b46298447a3b5461d915d4acbb9bb95b
   "source": [
    "print(\"Número de features antes do chi-quadrado: \" + str(len(vocabulary)))\n",
    "print(\"----------------------------------------\")\n",
    "print(\"Número de features após chi-quadrado: \" + str(len(new_vocabulary)))\n",
<<<<<<< HEAD
    "print(new_vocabulary)"
=======
    "#print(new_vocabulary)"
>>>>>>> 2679f086b46298447a3b5461d915d4acbb9bb95b
   ]
  },
  {
   "cell_type": "code",
<<<<<<< HEAD
   "execution_count": 5,
=======
   "execution_count": null,
>>>>>>> 2679f086b46298447a3b5461d915d4acbb9bb95b
   "metadata": {},
   "outputs": [],
   "source": [
    "def sigmoid(z):\n",
    "    \n",
    "    \"\"\"\n",
    "    Calcula a funcao sigmoidal  \n",
    "    \"\"\"\n",
    "    \n",
    "    if isinstance(z, int):\n",
    "        g = 0\n",
    "    \n",
    "    # se z não é um inteiro, significa que é um array e inicia com a dimensão do array\n",
    "    else:\n",
    "        g = np.zeros( z.shape );\n",
    "\n",
<<<<<<< HEAD
    "    g = 1/(1 + np.exp(-z))\n",
=======
    "    g = 1/(1+np.exp(-z))\n",
>>>>>>> 2679f086b46298447a3b5461d915d4acbb9bb95b
    "  \n",
    "    return g"
   ]
  },
  {
   "cell_type": "code",
<<<<<<< HEAD
   "execution_count": 6,
=======
   "execution_count": null,
>>>>>>> 2679f086b46298447a3b5461d915d4acbb9bb95b
   "metadata": {},
   "outputs": [],
   "source": [
    "def funcaoCustoReg(theta, X, Y, lambda_reg):\n",
    "    \n",
    "    \"\"\"\n",
    "    Calcula o custo da regressao logística\n",
    "    \"\"\"\n",
    "    \n",
    "    m = len(Y) #numero de exemplos de treinamento\n",
    "\n",
    "    J = 0\n",
    "    grad = np.zeros( len(theta) )\n",
    "    \n",
    "    # parâmetro de tolerância para a função sigmoide. 1-htheta não pode ser \n",
    "    # menor que eps para evitar erro de precisão numérica\n",
    "    eps = 1e-15\n",
    "    \n",
<<<<<<< HEAD
    "    #print(X)\n",
    "    \n",
    "    z = np.dot(X, theta) # z = (theta * X).sum(axis=1)\n",
    "    \n",
=======
    "    z = np.dot(X, theta) # z = (theta * X).sum(axis=1)\n",
>>>>>>> 2679f086b46298447a3b5461d915d4acbb9bb95b
    "    h_theta = sigmoid(z) \n",
    "    cost = -Y * np.log(h_theta+eps) - (1 - Y) * np.log(1 - h_theta + eps)\n",
    "    J = 1/m * cost.sum()\n",
    "    \n",
    "    grad = 1/m *(X.T * (h_theta - Y)).sum(axis=1)\n",
    "                      \n",
    "    return J, grad\n"
   ]
  },
  {
   "cell_type": "code",
<<<<<<< HEAD
   "execution_count": 7,
=======
   "execution_count": null,
   "metadata": {},
   "outputs": [],
   "source": [
    "def gridSearch(X, Y ,Xval, Yval, iteracoes):\n",
    "    \n",
    "    lambda_reg = [0.001, 0.01, 0.1, 1, 0.05, 0.5, 5, 10, 50, 100, 500]\n",
    "    \n",
    "    bestLambda = lambda_reg[0]\n",
    "    bestAcc = 0\n",
    "    \n",
    "    for l in lambda_reg :\n",
    "        theta = treinamento(X,Y, l, iteracoes)\n",
    "        Ypred, acuracia = predicao(Xval, theta, Yval)\n",
    "        if bestAcc < acuracia :\n",
    "            bestLambda = l\n",
    "            bestAcc = acuracia\n",
    "        \n",
    "    return bestLambda\n"
   ]
  },
  {
   "cell_type": "code",
   "execution_count": null,
>>>>>>> 2679f086b46298447a3b5461d915d4acbb9bb95b
   "metadata": {},
   "outputs": [],
   "source": [
    "import scipy\n",
    "import scipy.optimize \n",
    "\n",
    "def treinamento(X, Y, lambda_reg, iteracoes):\n",
<<<<<<< HEAD
    "    \n",
=======
    "        \n",
>>>>>>> 2679f086b46298447a3b5461d915d4acbb9bb95b
    "    # se for vazio, retorna None \n",
    "    if len(Y)==0:\n",
    "        return None\n",
    "    \n",
    "    m, n = X.shape # m = qtde de objetos e n = qtde de atributos por objeto\n",
<<<<<<< HEAD
    "    theta = np.zeros(n) # Inicializa parâmetros que serao ajustados\n",
=======
    "    \n",
    "    theta = np.zeros(n) # Inicializa parâmetros que serao ajustados\n",
    "    \n",
>>>>>>> 2679f086b46298447a3b5461d915d4acbb9bb95b
    "    # minimiza a funcao de custo\n",
    "    result = scipy.optimize.minimize(fun=funcaoCustoReg, x0=theta, args=(X, Y, lambda_reg),  \n",
    "                method='BFGS', jac=True, options={'maxiter': iteracoes, 'disp':False})\n",
    "\n",
    "    # coleta os thetas retornados pela função de minimização\n",
    "    theta = result.x\n",
    "    \n",
    "    return theta"
   ]
  },
  {
   "cell_type": "code",
<<<<<<< HEAD
   "execution_count": 8,
   "metadata": {},
   "outputs": [],
   "source": [
    "def predicao(X, theta):\n",
=======
   "execution_count": null,
   "metadata": {},
   "outputs": [],
   "source": [
    "def predicao(X, theta, Yval):\n",
>>>>>>> 2679f086b46298447a3b5461d915d4acbb9bb95b
    "    \n",
    "    \"\"\"\n",
    "    Prediz se a entrada pertence a classe 0 ou 1 usando o parametro\n",
    "    theta obtido pela regressao logistica\n",
    "   \n",
    "    \"\"\"\n",
    "    m = X.shape[0]   \n",
<<<<<<< HEAD
    "#    Ypred = np.zeros(m, dtype=\"int\")\n",
    "    \n",
    "#    h = sigmoid( np.dot(X,theta) )\n",
    "    \n",
    "#    for i in range(m):\n",
    "#        if h[i] >= 0.5:\n",
    "#            Ypred[i] = 1\n",
    "#        else:\n",
    "#            Ypred[i] = 0\n",
    "            \n",
    "#    acuracia = np.sum(np.array(Ypred[0])==Yval)/len(Yval)\n",
    "        \n",
    "#    return Ypred, acuracia\n",
=======
    "    \n",
>>>>>>> 2679f086b46298447a3b5461d915d4acbb9bb95b
    "    p = np.zeros(m, dtype=int) \n",
    "    z = np.dot(X, theta)\n",
    "    h_theta = sigmoid(z) \n",
    "    \n",
    "    for i in range(m):\n",
    "        if h_theta[i] >= 0.5:\n",
    "            p[i] = 1 \n",
<<<<<<< HEAD
    "    \n",
    "    return p"
=======
    "            \n",
    "    acuracia = np.sum(p==Yval)/len(Yval)\n",
    "    \n",
    "    return p, acuracia"
>>>>>>> 2679f086b46298447a3b5461d915d4acbb9bb95b
   ]
  },
  {
   "cell_type": "code",
<<<<<<< HEAD
   "execution_count": 9,
   "metadata": {},
   "outputs": [],
   "source": [
    "theta = treinamento(Xtrain, Ytrain, 25, 50)"
=======
   "execution_count": null,
   "metadata": {},
   "outputs": [],
   "source": [
    "numIter = 50\n",
    "lambdaReg = gridSearch(Xtrain, Ytrain, Xval, Yval, numIter)\n",
    "theta = treinamento(Xtrain, Ytrain, lambdaReg, numIter)"
>>>>>>> 2679f086b46298447a3b5461d915d4acbb9bb95b
   ]
  },
  {
   "cell_type": "code",
<<<<<<< HEAD
   "execution_count": 10,
   "metadata": {},
   "outputs": [
    {
     "name": "stdout",
     "output_type": "stream",
     "text": [
      "Acurácia é 62.5\n"
     ]
    }
   ],
   "source": [
    "Ypred = predicao(Xval, theta)\n",
=======
   "execution_count": null,
   "metadata": {},
   "outputs": [],
   "source": [
    "Ypred, acuracia = predicao(Xval, theta, Yval)\n",
>>>>>>> 2679f086b46298447a3b5461d915d4acbb9bb95b
    "acuracia = (np.sum(Ypred==Yval)/len(Yval)) * 100\n",
    "print(\"Acurácia é \"+ str(acuracia))"
   ]
  },
  {
   "cell_type": "code",
<<<<<<< HEAD
   "execution_count": 11,
   "metadata": {},
   "outputs": [
    {
     "name": "stdout",
     "output_type": "stream",
     "text": [
      "\n",
      "\tRevocacao   Precisao   F-medida   Classe\n",
      "\t0.375       0.750      0.500      0\n",
      "\t0.875       0.583      0.700      1\n",
      "\t------------------------------------------------\n",
      "\t0.625       0.667      0.645      Média macro\n",
      "\t0.625       0.625      0.625      Média micro\n",
      "\n",
      "\tAcuracia: 0.625\n"
     ]
    }
   ],
=======
   "execution_count": null,
   "metadata": {},
   "outputs": [],
>>>>>>> 2679f086b46298447a3b5461d915d4acbb9bb95b
   "source": [
    "classes = np.unique(Y)\n",
    "auxResults = anl.relatorioDesempenho(Yval, Ypred, classes, imprimeRelatorio=True)"
   ]
  },
  {
   "cell_type": "code",
<<<<<<< HEAD
   "execution_count": 12,
   "metadata": {},
   "outputs": [],
   "source": [
    "def curva_aprendizado(Xtrain, Ytrain, Xval, Yval):\n",
=======
   "execution_count": null,
   "metadata": {},
   "outputs": [],
   "source": [
    "def curva_aprendizado(Xtrain, Ytrain, Xval, Yval, lambdaReg, numIter):\n",
>>>>>>> 2679f086b46298447a3b5461d915d4acbb9bb95b
    "   \n",
    "    \"\"\"\n",
    "    Funcao usada gerar a curva de aprendizado.\n",
    "  \n",
    "    Parametros\n",
    "    ----------\n",
    "  \n",
    "    X : matriz com os dados de treinamento\n",
    "  \n",
    "    Y : vetor com as classes dos dados de treinamento\n",
    "  \n",
    "    Xval : matriz com os dados de validação\n",
    "  \n",
    "    Yval : vetor com as classes dos dados de validação\n",
    "  \n",
    "    \"\"\"\n",
    "\n",
    "    # inicializa as listas que guardarao a performance no treinamento e na validacao\n",
    "    \n",
    "    perf_train = []\n",
    "    perf_val = []\n",
    "\n",
    "    classes = np.unique(Y)\n",
    "    \n",
    "    for i in range(10, len(Y)):\n",
    "        \n",
<<<<<<< HEAD
    "        theta = treinamento(Xtrain[:i], Ytrain[:i], 25, 50)\n",
=======
    "        theta = treinamento(Xtrain[:i], Ytrain[:i], numIter, lambdaReg)\n",
>>>>>>> 2679f086b46298447a3b5461d915d4acbb9bb95b
    "        \n",
    "        Ypred, acuracia = predicao(Xtrain[:i], theta, Ytrain[:i])\n",
    "        perf_train.append(acuracia)\n",
    "\n",
    "        Ypred, acuracia = predicao(Xval, theta, Yval)\n",
    "        perf_val.append(acuracia)\n",
    "\n",
    "    ##################################################################################\n",
    "       \n",
    "    # Define o tamanho da figura \n",
    "    plt.figure(figsize=(20,12))\n",
    "\n",
    "    # Plota os dados\n",
    "    plt.plot(perf_train, color='blue', linestyle='-', linewidth=1.5, label='Treino') \n",
    "    plt.plot(perf_val, color='red', linestyle='-', linewidth=1.5, label='Validação')\n",
    "\n",
    "    # Define os nomes do eixo x e do eixo y\n",
    "    plt.xlabel(r'# Qtd. de dados de treinamento',fontsize='x-large') \n",
    "    plt.ylabel(r'Acuracia',fontsize='x-large') \n",
    "\n",
    "    # Define o título do gráfico\n",
    "    plt.title(r'Curva de aprendizado', fontsize='x-large')\n",
    "\n",
    "    # Acrescenta um grid no gráfico\n",
    "    plt.grid(axis='both')\n",
    "\n",
    "    # Plota a legenda\n",
    "    plt.legend()\n",
    "    \n",
    "    plt.show()\n",
    "\n"
   ]
  },
  {
   "cell_type": "code",
<<<<<<< HEAD
   "execution_count": 13,
   "metadata": {},
   "outputs": [],
   "source": [
    "#curva_aprendizado(Xtrain, Ytrain, Xval, Yval)"
   ]
  },
  {
   "cell_type": "code",
   "execution_count": 14,
   "metadata": {},
   "outputs": [],
   "source": [
    "def gridSearch(X, Y ,Xval, Yval, lambda_reg, iteracoes) :\n",
    "    bestLambda = lambda_reg[0]\n",
    "    bestAcc = 0\n",
    "    for l in lambda_reg :\n",
    "        theta = treinamento(X,Y, l, iteracoes)\n",
    "        Ypred = predicao(Xval, theta)\n",
    "        acuracia = (np.sum(Ypred==Yval)/len(Yval)) * 100\n",
    "        print(\"Acurácia é \"+ str(acuracia))\n",
    "        if bestAcc < acuracia :\n",
    "            bestLambda = l\n",
    "            bestAcc = acuracia\n",
    "        \n",
    "    print(\"Best Lambda = \", bestLambda)\n",
    "    print(\"Acc = \", bestAcc)\n",
    "    return bestLambda"
   ]
  },
  {
   "cell_type": "code",
   "execution_count": 15,
   "metadata": {},
   "outputs": [
    {
     "name": "stdout",
     "output_type": "stream",
     "text": [
      "Acurácia é 62.5\n",
      "Acurácia é 62.5\n",
      "Acurácia é 62.5\n",
      "Acurácia é 62.5\n",
      "Acurácia é 62.5\n",
      "Acurácia é 62.5\n",
      "Acurácia é 62.5\n",
      "Acurácia é 62.5\n",
      "Acurácia é 62.5\n",
      "Acurácia é 62.5\n",
      "Acurácia é 62.5\n",
      "Best Lambda =  0.001\n",
      "Acc =  62.5\n"
     ]
    }
   ],
   "source": [
    "lambda_reg = [0.001, 0.01, 0.1, 1, 0.05, 0.5, 5, 10, 50, 100, 500]\n",
    "l = gridSearch(Xtrain, Ytrain, Xval, Yval, lambda_reg, 100)"
   ]
  },
  {
   "cell_type": "code",
   "execution_count": 17,
   "metadata": {},
   "outputs": [
    {
     "name": "stdout",
     "output_type": "stream",
     "text": [
      "\n",
      "-----------\n",
      "1-fold: \n",
      "-----------\n",
      "\n",
      "[19, 20, 21, 23, 25, 29, 31, 32, 15, 18, 22, 24, 26, 27, 28, 30, 33, 34, 35, 38, 39, 40, 42, 43, 36, 37, 41, 45, 46, 48, 49, 50, 44, 47, 51, 52, 55, 56, 58, 59, 53, 54, 57, 60, 61, 65, 68, 69, 62, 63, 64, 66, 67, 73, 77, 70, 71, 72, 74, 75, 76, 78, 79]\n",
      "[0, 1, 5, 10, 12, 13, 16, 17, 2, 3, 4, 6, 7, 8, 9, 11, 14]\n",
      "  (0, 9)\t1\n",
      "  (0, 0)\t1\n",
      "  (1, 9)\t1\n",
      "  (4, 9)\t1\n",
      "  (4, 0)\t1\n",
      "  (5, 12)\t1\n",
      "  (5, 5)\t3\n",
      "  (6, 4)\t1\n",
      "  (8, 4)\t1\n",
      "  (8, 1)\t2\n",
      "  (9, 2)\t1\n",
      "  (10, 12)\t1\n",
      "  (10, 1)\t7\n",
      "  (11, 1)\t4\n",
      "  (13, 1)\t7\n",
      "  (14, 1)\t1\n",
      "  (6, 1)\t1\n",
      "  (10, 2)\t1\n",
      "  (10, 1)\t4\n",
      "Acurácia é 50.0\n",
      "Acurácia é 50.0\n",
      "Acurácia é 50.0\n",
      "Acurácia é 50.0\n",
      "Acurácia é 50.0\n",
      "Acurácia é 50.0\n",
      "Acurácia é 50.0\n",
      "Acurácia é 50.0\n",
      "Acurácia é 50.0\n",
      "Acurácia é 50.0\n",
      "Acurácia é 50.0\n",
      "Best Lambda =  0.001\n",
      "Acc =  50.0\n",
      "(51, 6)\n",
      "(6,)\n",
      "(17, 13)\n"
     ]
    },
    {
     "ename": "ValueError",
     "evalue": "shapes (17,13) and (6,) not aligned: 13 (dim 1) != 6 (dim 0)",
     "output_type": "error",
     "traceback": [
      "\u001b[0;31m---------------------------------------------------------------------------\u001b[0m",
      "\u001b[0;31mValueError\u001b[0m                                Traceback (most recent call last)",
      "\u001b[0;32m<ipython-input-17-4578a1a6f40e>\u001b[0m in \u001b[0;36m<module>\u001b[0;34m\u001b[0m\n\u001b[1;32m     61\u001b[0m     \u001b[0mprint\u001b[0m\u001b[0;34m(\u001b[0m\u001b[0mX_test\u001b[0m\u001b[0;34m.\u001b[0m\u001b[0mshape\u001b[0m\u001b[0;34m)\u001b[0m\u001b[0;34m\u001b[0m\u001b[0;34m\u001b[0m\u001b[0m\n\u001b[1;32m     62\u001b[0m     \u001b[0;31m# classifica os dados de teste\u001b[0m\u001b[0;34m\u001b[0m\u001b[0;34m\u001b[0m\u001b[0;34m\u001b[0m\u001b[0m\n\u001b[0;32m---> 63\u001b[0;31m     \u001b[0mY_pred\u001b[0m \u001b[0;34m=\u001b[0m \u001b[0mpredicao\u001b[0m\u001b[0;34m(\u001b[0m\u001b[0mX_test\u001b[0m\u001b[0;34m,\u001b[0m \u001b[0mtheta\u001b[0m\u001b[0;34m)\u001b[0m\u001b[0;34m\u001b[0m\u001b[0;34m\u001b[0m\u001b[0m\n\u001b[0m\u001b[1;32m     64\u001b[0m \u001b[0;34m\u001b[0m\u001b[0m\n\u001b[1;32m     65\u001b[0m \u001b[0;34m\u001b[0m\u001b[0m\n",
      "\u001b[0;32m<ipython-input-8-2dee19302f9c>\u001b[0m in \u001b[0;36mpredicao\u001b[0;34m(X, theta)\u001b[0m\n\u001b[1;32m     21\u001b[0m \u001b[0;31m#    return Ypred, acuracia\u001b[0m\u001b[0;34m\u001b[0m\u001b[0;34m\u001b[0m\u001b[0;34m\u001b[0m\u001b[0m\n\u001b[1;32m     22\u001b[0m     \u001b[0mp\u001b[0m \u001b[0;34m=\u001b[0m \u001b[0mnp\u001b[0m\u001b[0;34m.\u001b[0m\u001b[0mzeros\u001b[0m\u001b[0;34m(\u001b[0m\u001b[0mm\u001b[0m\u001b[0;34m,\u001b[0m \u001b[0mdtype\u001b[0m\u001b[0;34m=\u001b[0m\u001b[0mint\u001b[0m\u001b[0;34m)\u001b[0m\u001b[0;34m\u001b[0m\u001b[0;34m\u001b[0m\u001b[0m\n\u001b[0;32m---> 23\u001b[0;31m     \u001b[0mz\u001b[0m \u001b[0;34m=\u001b[0m \u001b[0mnp\u001b[0m\u001b[0;34m.\u001b[0m\u001b[0mdot\u001b[0m\u001b[0;34m(\u001b[0m\u001b[0mX\u001b[0m\u001b[0;34m,\u001b[0m \u001b[0mtheta\u001b[0m\u001b[0;34m)\u001b[0m\u001b[0;34m\u001b[0m\u001b[0;34m\u001b[0m\u001b[0m\n\u001b[0m\u001b[1;32m     24\u001b[0m     \u001b[0mh_theta\u001b[0m \u001b[0;34m=\u001b[0m \u001b[0msigmoid\u001b[0m\u001b[0;34m(\u001b[0m\u001b[0mz\u001b[0m\u001b[0;34m)\u001b[0m\u001b[0;34m\u001b[0m\u001b[0;34m\u001b[0m\u001b[0m\n\u001b[1;32m     25\u001b[0m \u001b[0;34m\u001b[0m\u001b[0m\n",
      "\u001b[0;31mValueError\u001b[0m: shapes (17,13) and (6,) not aligned: 13 (dim 1) != 6 (dim 0)"
     ]
    }
   ],
   "source": [
    "#K-folds\n",
    "\n",
    "import k_folds as kf\n",
    "\n",
    "# separa os dados em k folds\n",
    "nFolds = 5\n",
    "folds = kf.stratified_kfolds(Y2, nFolds, classes)\n",
    "\n",
    "k = 1\n",
    "resultados=[] # cria uma lista vazia para guardar os resultados obtidos em cada fold\n",
    "for train_index, test_index in folds:\n",
    "\n",
    "    print('\\n-----------\\n%d-fold: \\n-----------\\n' % (k) )\n",
    "    \n",
    "    # se train_index ou test_index forem vazios, interrompe o laco de repeticao\n",
    "    if len(train_index)==0 or len(test_index)==0: \n",
    "        print('\\tErro: o vetor com os indices de treinamento ou o vetor com os indices de teste esta vazio')      \n",
    "        break\n",
    "        \n",
    "    totalFold = len(train_index)+len(test_index)\n",
    "\n",
    "    print(train_index)\n",
    "    print(test_index)\n",
    "    \n",
    "    \n",
    "    X_train, X_test = X2[train_index, :], X2[test_index, :];\n",
    "    Y_train, Y_test = Y2[train_index], Y2[test_index];\n",
    "    \n",
    "    X_train, new_vocabulary, index = pp.chi2(X_train, Y_train, vocabulary)\n",
    "    X_test = X_test[:,index]\n",
    "    print(X_test)\n",
    "    \n",
    "    # separa os dados de treinamento em treinamento e validacao\n",
    "    pTrain = 0.8\n",
    "\n",
    "    ntrain_index, ntest_index = anl.stratified_holdOut(Y_train, pTrain)\n",
    "\n",
    "    Xtrain, Xval = X_train[ntrain_index, :], X_train[ntest_index, :];\n",
    "    Ytrain, Yval = Y_train[ntrain_index], Y_train[ntest_index];\n",
    "\n",
    "    print(\"-----------\")\n",
    "        \n",
    "    Xtrain, new_vocabulary, index = pp.chi2(Xtrain, Ytrain, vocabulary)\n",
    "    Xval = Xval[:, index]\n",
    "\n",
    "    print(Xval)\n",
    "    #Converte matrizes esparsas para np arrays, para os cálculos da regressão logística\n",
    "    Xtrain = Xtrain.toarray()\n",
    "    Xval = Xval.toarray()\n",
    "    \n",
    "    # chama a função que faz a busca em grade\n",
    "    lambda_reg = [0.001, 0.01, 0.1, 1, 0.05, 0.5, 5, 10, 50, 100, 500]\n",
    "    bestRegularization = gridSearch(Xtrain, Ytrain, Xval, Yval,lambda_reg,50)\n",
    "\n",
    "    # executa o treinamento com o melhor parâmetro de regularização encontrado\n",
    "    print(Xtrain.shape)\n",
    "    theta = treinamento(Xtrain, Ytrain, bestRegularization, 50)\n",
    "\n",
    "    X_test = X_test.toarray()\n",
    "    print(theta.shape)\n",
    "    print(X_test.shape)\n",
    "    # classifica os dados de teste\n",
    "    Y_pred = predicao(X_test, theta)\n",
    "\n",
    "\n",
    "    # Gera o relatório de desempenho\n",
    "    print('\\n\\n\\n\\t'+\"=\"*50+'\\n\\tMelhor parametro de regularizacao: %1.6f' %bestRegularization)\n",
    "    print('\\n\\tResultado no fold atual usando o melhor parametro encontrado:')\n",
    "    auxResults = relatorioDesempenho(cm, classes, imprimeRelatorio=True)\n",
    "\n",
    "    # adiciona os resultados do fold atual na lista de resultados\n",
    "    resultados.append( auxResults ) \n",
    "        \n",
    "    k+=1\n",
    "    \n",
    "print('\\n-----------\\n media-fold: \\n-----------\\n')\n",
    "kf.mediaFolds( resultados, classes )"
   ]
  },
  {
   "cell_type": "code",
   "execution_count": null,
   "metadata": {},
   "outputs": [],
   "source": []
=======
   "execution_count": null,
   "metadata": {},
   "outputs": [],
   "source": [
    "curva_aprendizado(Xtrain, Ytrain, Xval, Yval, lambdaReg, numIter)"
   ]
>>>>>>> 2679f086b46298447a3b5461d915d4acbb9bb95b
  }
 ],
 "metadata": {
  "kernelspec": {
   "display_name": "Python 3",
   "language": "python",
   "name": "python3"
  },
  "language_info": {
   "codemirror_mode": {
    "name": "ipython",
    "version": 3
   },
   "file_extension": ".py",
   "mimetype": "text/x-python",
   "name": "python",
   "nbconvert_exporter": "python",
   "pygments_lexer": "ipython3",
<<<<<<< HEAD
   "version": "3.6.7"
=======
   "version": "3.6.8"
>>>>>>> 2679f086b46298447a3b5461d915d4acbb9bb95b
  }
 },
 "nbformat": 4,
 "nbformat_minor": 2
}
