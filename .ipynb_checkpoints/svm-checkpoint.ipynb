{
 "cells": [
  {
   "cell_type": "code",
   "execution_count": 1,
   "metadata": {},
   "outputs": [],
   "source": [
    "import matplotlib.pyplot as plt\n",
    "import numpy as np\n",
    "import pandas as pd\n",
    "import nltk\n",
    "import pre_processing as pp\n",
    "import analysis as anl\n",
    "\n",
    "category = 'books'\n",
    "vocabulary = []\n",
    "X, Y, vocabulary = pp.bow(category)"
   ]
  },
  {
   "cell_type": "code",
   "execution_count": 2,
   "metadata": {},
   "outputs": [],
   "source": [
    "# semente usada na randomizacao dos dados.\n",
    "randomSeed = 10 \n",
    "\n",
    "# gera os indices aleatorios que irao definir a ordem dos dados\n",
    "idx_perm = np.random.RandomState(randomSeed).permutation(range(len(Y)))\n",
    "\n",
    "# ordena os dados de acordo com os indices gerados aleatoriamente\n",
    "X2, Y2 = X[idx_perm, :], Y[idx_perm]\n",
    "\n",
    "pTrain = 0.8\n",
    "\n",
    "train_index, test_index = anl.stratified_holdOut(Y, pTrain)\n",
    "\n",
    "Xtrain, Xval = X2[train_index, :], X2[test_index, :];\n",
    "Ytrain, Yval = Y2[train_index], Y2[test_index];"
   ]
  },
  {
   "cell_type": "code",
   "execution_count": 3,
   "metadata": {},
   "outputs": [
    {
     "name": "stdout",
     "output_type": "stream",
     "text": [
      "['stupid', 'seem', 'sympathet', 'wast', 'finish', 'challeng', 'provid', 'slow', 'equal', 'weak', ('not', 'disappoint'), 'got', 'indulg', 'includ', 'suspect', 'excel', 'devot', 'admit', ('not', 'worth'), 'master', 'fail', 'comprehens', 'asid', 'touch', ('never', 'seem'), 'first', 'solid', 'instead', 'insult', 'think', 'masterpiec', 'perfectli', 'interest', ('not', 'finish'), 'extraordinari', 'much', 'suppos', 'familiar', 'wors', 'bother', 'remark', 'self', 'not', 'fascin', 'unfortun', 'predict', 'silli', ('not', 'seem'), 'illumin', 'unbeliev', 'say', 'father', 'frustrat', 'inform', ('not', 'agre'), 'appli', 'even', 'agre', 'care', 'bare', 'expand', 'disappoint', 'endless', 'blown', 'unpleas', 'ian', 'flat', 'repeatedli', 'realli', 'superfici', 'obviou', 'power', ('not', 'happen'), 'stick', 'fantast', 'famou', 'elsewher', 'import', 'perform', 'access', 'vivid', 'live', 'dull', 'believ', 'ok', 'insight', 'process', 'threw', 'ridicul', 'ny', 'intens', 'becom', 'easi', ('not', 'interest'), ('not', 'recommend'), 'alreadi', 'fake', 'delight', ('not', 'wast'), 'relev', 'entertain', 'overwhelm', 'sorri', 'pace', 'get', 'open', 'experi', 'good', ('never', 'read'), 'focu', 'nyc', 'accept', 'wonder', 'sad', 'grate', 'shallow', 'rambl', 'tire', 'bias', 'lack', 'soon', 'skip', 'easili', 'appreci', 'help', 'great', 'bore', 'human', ('not', 'not'), 'simpl', 'stimul', 'actual', 'recommend', 'still', 'alot', ('not', 'put'), 'whole', 'repetit', 'paragraph', 'horribl', 'neutral', 'determin', 'gotten', 'pain', 'dislik', 'enjoy', 'engag', 'pay', ('not', 'make'), 'half', ('not', 'get'), ('not', 'care'), 'unfold', 'amaz', 'highli', ('not', 'buy'), 'better', 'tri', 'unforgett', 'straight', 'work', 'amazon', 'carri', 'disjoint', 'inaccur', 'terribl', 'crush', 'favorit', 'closer', 'storytel', 'left', ('not', 'write'), 'save', 'awesom', ('not', 'expect'), 'whine', 'bad', 'poorli', 'best', 'decent', 'aliv', 'pretti', 'worst', 'write', 'unlik', 'impact', ('not', 'complet'), ('not', 'much'), 'poor', ('not', 'good'), 'unrealist', 'expect', ('not', 'know'), 'vagu', 'beauti', 'hatr', 'pick', ('not', 'read'), 'annoy', 'badli', 'sadli', 'aw', ('not', 'support'), 'heavi', 'useless', 'outstand', ('not', 'even'), 'older', 'love', 'incorpor', 'bring', ('not', 'thought')]\n"
     ]
    }
   ],
   "source": [
    "alpha = 0.05\n",
    "Xtrain, new_vocabulary, selected = pp.select_c2(Xtrain, Ytrain, vocabulary, alpha)\n",
    "print(new_vocabulary)\n",
    "Xval = Xval[:, selected]"
   ]
  },
  {
   "cell_type": "code",
   "execution_count": 4,
   "metadata": {},
   "outputs": [
    {
     "name": "stdout",
     "output_type": "stream",
     "text": [
      "Número de features antes do chi-quadrado: 11210\n",
      "----------------------------------------\n",
      "Número de features após chi-quadrado: 212\n"
     ]
    }
   ],
   "source": [
    "print(\"Número de features antes do chi-quadrado: \" + str(len(vocabulary)))\n",
    "print(\"----------------------------------------\")\n",
    "print(\"Número de features após chi-quadrado: \" + str(len(new_vocabulary)))"
   ]
  },
  {
   "cell_type": "code",
   "execution_count": 5,
   "metadata": {},
   "outputs": [],
   "source": [
    "import svmutil\n",
    "from svmutil import svm_read_problem\n",
    "from svmutil import svm_problem\n",
    "from svmutil import svm_parameter\n",
    "from svmutil import svm_train\n",
    "from svmutil import svm_predict\n",
    "from svmutil import svm_save_model\n",
    "\n",
    "def gridSearch(X, Y, Xval, Yval):\n",
    "    #inicializa as variáveis que deverão ser retornadas pela função\n",
    "    custo = 1000\n",
    "    gamma = 1000\n",
    "    \n",
    "    values = []\n",
    "    for i in range(1, 10):\n",
    "         for j in range(-1, 3):\n",
    "            values.append(i/(10 ** j))\n",
    "    \n",
    "    acr = 0\n",
    "    \n",
    "    for i in values:\n",
    "        for j in values:\n",
    "            model = svm_train(Y, X, '-c %f -g %f -q' %(i, j))\n",
    "            classes = svm_predict([], Xval, model, '-q')\n",
    "            acuracia = np.sum(np.array(classes[0])==Yval)/len(Yval)\n",
    "            if acr < acuracia:\n",
    "                custo = i\n",
    "                gamma = j\n",
    "                acr = acuracia\n",
    "    \n",
    "    return custo, gamma"
   ]
  },
  {
   "cell_type": "code",
   "execution_count": 6,
   "metadata": {},
   "outputs": [],
   "source": [
    "def svm(Xtrain,Ytrain,Xval,Yval) :\n",
    "\n",
    "    bestC, bestGamma = gridSearch(Xtrain, Ytrain, Xval, Yval)\n",
    "\n",
    "    kernel = 2 #kernel radial\n",
    "    model = svm_train(Ytrain, Xtrain, '-c %f -t %d -g %f -q' %(bestC, kernel, bestGamma))\n",
    "    classes = svm_predict([], Xval, model, '-q')\n",
    "    acuracia = np.sum(np.array(classes[0])==Yval)/len(Yval)\n",
    "\n",
    "    return np.array(classes[0], dtype=\"int\"), acuracia"
   ]
  },
  {
   "cell_type": "code",
   "execution_count": 7,
   "metadata": {},
   "outputs": [
    {
     "name": "stdout",
     "output_type": "stream",
     "text": [
      "Acurácia é 0.8175\n"
     ]
    }
   ],
   "source": [
    "Ypred, acuracia = svm(Xtrain,Ytrain,Xval,Yval)\n",
    "print(\"Acurácia é \"+ str(acuracia))"
   ]
  },
  {
   "cell_type": "code",
   "execution_count": 8,
   "metadata": {},
   "outputs": [
    {
     "name": "stdout",
     "output_type": "stream",
     "text": [
      "\n",
      "\tRevocacao   Precisao   F-medida   Classe\n",
      "\t0.795       0.840      0.817      0\n",
      "\t0.841       0.796      0.818      1\n",
      "\t------------------------------------------------\n",
      "\t0.818       0.818      0.818      Média macro\n",
      "\t0.818       0.818      0.818      Média micro\n",
      "\n",
      "\tAcuracia: 0.818\n"
     ]
    }
   ],
   "source": [
    "classes = np.unique(Y)\n",
    "auxResults = anl.relatorioDesempenho(Yval, Ypred, classes, imprimeRelatorio=True)"
   ]
  },
  {
   "cell_type": "code",
   "execution_count": 9,
   "metadata": {},
   "outputs": [],
   "source": [
    "def curva_aprendizado(X, Y, Xval, Yval):\n",
    "   \n",
    "    \"\"\"\n",
    "    Funcao usada gerar a curva de aprendizado.\n",
    "  \n",
    "    Parametros\n",
    "    ----------\n",
    "  \n",
    "    X : matriz com os dados de treinamento\n",
    "  \n",
    "    Y : vetor com as classes dos dados de treinamento\n",
    "  \n",
    "    Xval : matriz com os dados de validação\n",
    "  \n",
    "    Yval : vetor com as classes dos dados de validação\n",
    "  \n",
    "    \"\"\"\n",
    "\n",
    "    # inicializa as listas que guardarao a performance no treinamento e na validacao\n",
    "    perf_train = []\n",
    "    perf_val = []\n",
    "\n",
    "    classes = np.unique(Y)\n",
    "    \n",
    "    for i in range(10, len(Y), 10):\n",
    "           \n",
    "        Ypred, acuracia = svm(X[:i],Y[:i],X[:i],Y[:i])\n",
    "        perf_train.append(acuracia)\n",
    "\n",
    "        Ypred, acuracia = svm(X[:i],Y[:i],Xval,Yval)\n",
    "        perf_val.append(acuracia)\n",
    "\n",
    "    ##################################################################################\n",
    "       \n",
    "    # Define o tamanho da figura \n",
    "    plt.figure(figsize=(20,12))\n",
    "\n",
    "    # Plota os dados\n",
    "    plt.plot(perf_train, color='blue', linestyle='-', linewidth=1.5, label='Treino') \n",
    "    plt.plot(perf_val, color='red', linestyle='-', linewidth=1.5, label='Validação')\n",
    "\n",
    "    # Define os nomes do eixo x e do eixo y\n",
    "    plt.xlabel(r'# Qtd. de dados de treinamento',fontsize='x-large') \n",
    "    plt.ylabel(r'Acuracia',fontsize='x-large') \n",
    "\n",
    "    # Define o título do gráfico\n",
    "    plt.title(r'Curva de aprendizado', fontsize='x-large')\n",
    "\n",
    "    # Acrescenta um grid no gráfico\n",
    "    plt.grid(axis='both')\n",
    "\n",
    "    # Plota a legenda\n",
    "    plt.legend()\n",
    "    \n",
    "    plt.show()\n",
    "\n"
   ]
  },
  {
   "cell_type": "code",
   "execution_count": 10,
   "metadata": {},
   "outputs": [
    {
     "ename": "KeyboardInterrupt",
     "evalue": "",
     "output_type": "error",
     "traceback": [
      "\u001b[0;31m---------------------------------------------------------------------------\u001b[0m",
      "\u001b[0;31mKeyboardInterrupt\u001b[0m                         Traceback (most recent call last)",
      "\u001b[0;32m<ipython-input-10-b2a1d6d90865>\u001b[0m in \u001b[0;36m<module>\u001b[0;34m()\u001b[0m\n\u001b[0;32m----> 1\u001b[0;31m \u001b[0mcurva_aprendizado\u001b[0m\u001b[0;34m(\u001b[0m\u001b[0mXtrain\u001b[0m\u001b[0;34m,\u001b[0m \u001b[0mYtrain\u001b[0m\u001b[0;34m,\u001b[0m \u001b[0mXval\u001b[0m\u001b[0;34m,\u001b[0m \u001b[0mYval\u001b[0m\u001b[0;34m)\u001b[0m\u001b[0;34m\u001b[0m\u001b[0;34m\u001b[0m\u001b[0m\n\u001b[0m",
      "\u001b[0;32m<ipython-input-9-87f437b35639>\u001b[0m in \u001b[0;36mcurva_aprendizado\u001b[0;34m(X, Y, Xval, Yval)\u001b[0m\n\u001b[1;32m     28\u001b[0m         \u001b[0mperf_train\u001b[0m\u001b[0;34m.\u001b[0m\u001b[0mappend\u001b[0m\u001b[0;34m(\u001b[0m\u001b[0macuracia\u001b[0m\u001b[0;34m)\u001b[0m\u001b[0;34m\u001b[0m\u001b[0;34m\u001b[0m\u001b[0m\n\u001b[1;32m     29\u001b[0m \u001b[0;34m\u001b[0m\u001b[0m\n\u001b[0;32m---> 30\u001b[0;31m         \u001b[0mYpred\u001b[0m\u001b[0;34m,\u001b[0m \u001b[0macuracia\u001b[0m \u001b[0;34m=\u001b[0m \u001b[0msvm\u001b[0m\u001b[0;34m(\u001b[0m\u001b[0mX\u001b[0m\u001b[0;34m[\u001b[0m\u001b[0;34m:\u001b[0m\u001b[0mi\u001b[0m\u001b[0;34m]\u001b[0m\u001b[0;34m,\u001b[0m\u001b[0mY\u001b[0m\u001b[0;34m[\u001b[0m\u001b[0;34m:\u001b[0m\u001b[0mi\u001b[0m\u001b[0;34m]\u001b[0m\u001b[0;34m,\u001b[0m\u001b[0mXval\u001b[0m\u001b[0;34m,\u001b[0m\u001b[0mYval\u001b[0m\u001b[0;34m)\u001b[0m\u001b[0;34m\u001b[0m\u001b[0;34m\u001b[0m\u001b[0m\n\u001b[0m\u001b[1;32m     31\u001b[0m         \u001b[0mperf_val\u001b[0m\u001b[0;34m.\u001b[0m\u001b[0mappend\u001b[0m\u001b[0;34m(\u001b[0m\u001b[0macuracia\u001b[0m\u001b[0;34m)\u001b[0m\u001b[0;34m\u001b[0m\u001b[0;34m\u001b[0m\u001b[0m\n\u001b[1;32m     32\u001b[0m \u001b[0;34m\u001b[0m\u001b[0m\n",
      "\u001b[0;32m<ipython-input-6-a15b4bcc8924>\u001b[0m in \u001b[0;36msvm\u001b[0;34m(Xtrain, Ytrain, Xval, Yval)\u001b[0m\n\u001b[1;32m      1\u001b[0m \u001b[0;32mdef\u001b[0m \u001b[0msvm\u001b[0m\u001b[0;34m(\u001b[0m\u001b[0mXtrain\u001b[0m\u001b[0;34m,\u001b[0m\u001b[0mYtrain\u001b[0m\u001b[0;34m,\u001b[0m\u001b[0mXval\u001b[0m\u001b[0;34m,\u001b[0m\u001b[0mYval\u001b[0m\u001b[0;34m)\u001b[0m \u001b[0;34m:\u001b[0m\u001b[0;34m\u001b[0m\u001b[0;34m\u001b[0m\u001b[0m\n\u001b[1;32m      2\u001b[0m \u001b[0;34m\u001b[0m\u001b[0m\n\u001b[0;32m----> 3\u001b[0;31m     \u001b[0mbestC\u001b[0m\u001b[0;34m,\u001b[0m \u001b[0mbestGamma\u001b[0m \u001b[0;34m=\u001b[0m \u001b[0mgridSearch\u001b[0m\u001b[0;34m(\u001b[0m\u001b[0mXtrain\u001b[0m\u001b[0;34m,\u001b[0m \u001b[0mYtrain\u001b[0m\u001b[0;34m,\u001b[0m \u001b[0mXval\u001b[0m\u001b[0;34m,\u001b[0m \u001b[0mYval\u001b[0m\u001b[0;34m)\u001b[0m\u001b[0;34m\u001b[0m\u001b[0;34m\u001b[0m\u001b[0m\n\u001b[0m\u001b[1;32m      4\u001b[0m \u001b[0;34m\u001b[0m\u001b[0m\n\u001b[1;32m      5\u001b[0m     \u001b[0mkernel\u001b[0m \u001b[0;34m=\u001b[0m \u001b[0;36m2\u001b[0m \u001b[0;31m#kernel radial\u001b[0m\u001b[0;34m\u001b[0m\u001b[0;34m\u001b[0m\u001b[0m\n",
      "\u001b[0;32m<ipython-input-5-d75d1c601e11>\u001b[0m in \u001b[0;36mgridSearch\u001b[0;34m(X, Y, Xval, Yval)\u001b[0m\n\u001b[1;32m     22\u001b[0m         \u001b[0;32mfor\u001b[0m \u001b[0mj\u001b[0m \u001b[0;32min\u001b[0m \u001b[0mvalues\u001b[0m\u001b[0;34m:\u001b[0m\u001b[0;34m\u001b[0m\u001b[0;34m\u001b[0m\u001b[0m\n\u001b[1;32m     23\u001b[0m             \u001b[0mmodel\u001b[0m \u001b[0;34m=\u001b[0m \u001b[0msvm_train\u001b[0m\u001b[0;34m(\u001b[0m\u001b[0mY\u001b[0m\u001b[0;34m,\u001b[0m \u001b[0mX\u001b[0m\u001b[0;34m,\u001b[0m \u001b[0;34m'-c %f -g %f -q'\u001b[0m \u001b[0;34m%\u001b[0m\u001b[0;34m(\u001b[0m\u001b[0mi\u001b[0m\u001b[0;34m,\u001b[0m \u001b[0mj\u001b[0m\u001b[0;34m)\u001b[0m\u001b[0;34m)\u001b[0m\u001b[0;34m\u001b[0m\u001b[0;34m\u001b[0m\u001b[0m\n\u001b[0;32m---> 24\u001b[0;31m             \u001b[0mclasses\u001b[0m \u001b[0;34m=\u001b[0m \u001b[0msvm_predict\u001b[0m\u001b[0;34m(\u001b[0m\u001b[0;34m[\u001b[0m\u001b[0;34m]\u001b[0m\u001b[0;34m,\u001b[0m \u001b[0mXval\u001b[0m\u001b[0;34m,\u001b[0m \u001b[0mmodel\u001b[0m\u001b[0;34m,\u001b[0m \u001b[0;34m'-q'\u001b[0m\u001b[0;34m)\u001b[0m\u001b[0;34m\u001b[0m\u001b[0;34m\u001b[0m\u001b[0m\n\u001b[0m\u001b[1;32m     25\u001b[0m             \u001b[0macuracia\u001b[0m \u001b[0;34m=\u001b[0m \u001b[0mnp\u001b[0m\u001b[0;34m.\u001b[0m\u001b[0msum\u001b[0m\u001b[0;34m(\u001b[0m\u001b[0mnp\u001b[0m\u001b[0;34m.\u001b[0m\u001b[0marray\u001b[0m\u001b[0;34m(\u001b[0m\u001b[0mclasses\u001b[0m\u001b[0;34m[\u001b[0m\u001b[0;36m0\u001b[0m\u001b[0;34m]\u001b[0m\u001b[0;34m)\u001b[0m\u001b[0;34m==\u001b[0m\u001b[0mYval\u001b[0m\u001b[0;34m)\u001b[0m\u001b[0;34m/\u001b[0m\u001b[0mlen\u001b[0m\u001b[0;34m(\u001b[0m\u001b[0mYval\u001b[0m\u001b[0;34m)\u001b[0m\u001b[0;34m\u001b[0m\u001b[0;34m\u001b[0m\u001b[0m\n\u001b[1;32m     26\u001b[0m             \u001b[0;32mif\u001b[0m \u001b[0macr\u001b[0m \u001b[0;34m<\u001b[0m \u001b[0macuracia\u001b[0m\u001b[0;34m:\u001b[0m\u001b[0;34m\u001b[0m\u001b[0;34m\u001b[0m\u001b[0m\n",
      "\u001b[0;32m~/Dropbox/AM/Projeto/am/svmutil.py\u001b[0m in \u001b[0;36msvm_predict\u001b[0;34m(y, x, m, options)\u001b[0m\n\u001b[1;32m    236\u001b[0m                         \u001b[0;32melse\u001b[0m\u001b[0;34m:\u001b[0m\u001b[0;34m\u001b[0m\u001b[0;34m\u001b[0m\u001b[0m\n\u001b[1;32m    237\u001b[0m                                 \u001b[0mxi\u001b[0m\u001b[0;34m,\u001b[0m \u001b[0midx\u001b[0m \u001b[0;34m=\u001b[0m \u001b[0mgen_svm_nodearray\u001b[0m\u001b[0;34m(\u001b[0m\u001b[0mx\u001b[0m\u001b[0;34m[\u001b[0m\u001b[0mi\u001b[0m\u001b[0;34m]\u001b[0m\u001b[0;34m,\u001b[0m \u001b[0misKernel\u001b[0m\u001b[0;34m=\u001b[0m\u001b[0;34m(\u001b[0m\u001b[0mm\u001b[0m\u001b[0;34m.\u001b[0m\u001b[0mparam\u001b[0m\u001b[0;34m.\u001b[0m\u001b[0mkernel_type\u001b[0m \u001b[0;34m==\u001b[0m \u001b[0mPRECOMPUTED\u001b[0m\u001b[0;34m)\u001b[0m\u001b[0;34m)\u001b[0m\u001b[0;34m\u001b[0m\u001b[0;34m\u001b[0m\u001b[0m\n\u001b[0;32m--> 238\u001b[0;31m                         \u001b[0mlabel\u001b[0m \u001b[0;34m=\u001b[0m \u001b[0mlibsvm\u001b[0m\u001b[0;34m.\u001b[0m\u001b[0msvm_predict_values\u001b[0m\u001b[0;34m(\u001b[0m\u001b[0mm\u001b[0m\u001b[0;34m,\u001b[0m \u001b[0mxi\u001b[0m\u001b[0;34m,\u001b[0m \u001b[0mdec_values\u001b[0m\u001b[0;34m)\u001b[0m\u001b[0;34m\u001b[0m\u001b[0;34m\u001b[0m\u001b[0m\n\u001b[0m\u001b[1;32m    239\u001b[0m                         \u001b[0;32mif\u001b[0m\u001b[0;34m(\u001b[0m\u001b[0mnr_class\u001b[0m \u001b[0;34m==\u001b[0m \u001b[0;36m1\u001b[0m\u001b[0;34m)\u001b[0m\u001b[0;34m:\u001b[0m\u001b[0;34m\u001b[0m\u001b[0;34m\u001b[0m\u001b[0m\n\u001b[1;32m    240\u001b[0m                                 \u001b[0mvalues\u001b[0m \u001b[0;34m=\u001b[0m \u001b[0;34m[\u001b[0m\u001b[0;36m1\u001b[0m\u001b[0;34m]\u001b[0m\u001b[0;34m\u001b[0m\u001b[0;34m\u001b[0m\u001b[0m\n",
      "\u001b[0;31mKeyboardInterrupt\u001b[0m: "
     ]
    }
   ],
   "source": [
    "curva_aprendizado(Xtrain, Ytrain, Xval, Yval)"
   ]
  }
 ],
 "metadata": {
  "kernelspec": {
   "display_name": "Python 3",
   "language": "python",
   "name": "python3"
  },
  "language_info": {
   "codemirror_mode": {
    "name": "ipython",
    "version": 3
   },
   "file_extension": ".py",
   "mimetype": "text/x-python",
   "name": "python",
   "nbconvert_exporter": "python",
   "pygments_lexer": "ipython3",
   "version": "3.7.3"
  }
 },
 "nbformat": 4,
 "nbformat_minor": 2
}
