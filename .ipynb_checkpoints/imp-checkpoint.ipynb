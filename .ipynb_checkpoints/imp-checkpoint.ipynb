{
 "cells": [
  {
   "cell_type": "markdown",
   "metadata": {},
   "source": [
    "# Pré processamento: \n",
    "Funções do arquivo pre_processing.py"
   ]
  },
  {
   "cell_type": "code",
   "execution_count": 13,
   "metadata": {
    "scrolled": true
   },
   "outputs": [],
   "source": [
    "import matplotlib.pyplot as plt\n",
    "import numpy as np\n",
    "import pandas as pd\n",
    "import pre_processing as pp\n",
    "import analysis as anl\n",
    "\n",
    "category = 'test'\n",
    "vocabulary = []\n",
    "X, Y, vocabulary = pp.bow(category)"
   ]
  },
  {
   "cell_type": "code",
   "execution_count": 14,
   "metadata": {},
   "outputs": [],
   "source": [
    "# semente usada na randomizacao dos dados.\n",
    "randomSeed = 10 \n",
    "\n",
    "# gera os indices aleatorios que irao definir a ordem dos dados\n",
    "idx_perm = np.random.RandomState(randomSeed).permutation(range(len(Y)))\n",
    "\n",
    "# ordena os dados de acordo com os indices gerados aleatoriamente\n",
    "X2, Y2 = X[idx_perm, :], Y[idx_perm]\n",
    "\n",
    "#X2, Y2 = X[idx_perm, :], Y[idx_perm]\n",
    "\n",
    "pTrain = 0.8\n",
    "\n",
    "train_index, test_index = anl.stratified_holdOut(Y, pTrain)\n",
    "\n",
    "Xtrain, Xval = X2[train_index, :], X2[test_index, :];\n",
    "Ytrain, Yval = Y2[train_index], Y2[test_index];"
   ]
  },
  {
   "cell_type": "code",
   "execution_count": 15,
   "metadata": {},
   "outputs": [
    {
     "name": "stdout",
     "output_type": "stream",
     "text": [
      "['almost', 'beauti', 'die', 'want', 'look', 'written', 'great', ('not', 'put'), 'excel', 'well', 'bad', 'mean', 'less', 'true', 'recommend', 'entir', 'soon', 'put', 'strong', 'wast', 'expect', 'whole', 'tri', 'better']\n"
     ]
    }
   ],
   "source": [
    "alpha = 0.2\n",
    "Xtrain, new_vocabulary, selected = pp.select_c2(Xtrain, Ytrain, vocabulary, alpha)\n",
    "print(new_vocabulary)\n",
    "Xval = Xval[:, selected]"
   ]
  },
  {
   "cell_type": "markdown",
   "metadata": {},
   "source": [
    "Holdout estratificado para separar dados para treino e teste:"
   ]
  },
  {
   "cell_type": "markdown",
   "metadata": {},
   "source": [
    "# Regressão Logística"
   ]
  },
  {
   "cell_type": "code",
   "execution_count": 16,
   "metadata": {},
   "outputs": [
    {
     "name": "stdout",
     "output_type": "stream",
     "text": [
      "The autoreload extension is already loaded. To reload it, use:\n",
      "  %reload_ext autoreload\n",
      "Warning: Maximum number of iterations has been exceeded.\n",
      "         Current function value: 0.208978\n",
      "         Iterations: 50\n",
      "         Function evaluations: 52\n",
      "         Gradient evaluations: 52\n",
      "Acurácia é 56.25\n"
     ]
    }
   ],
   "source": [
    "%load_ext autoreload\n",
    "%autoreload 2\n",
    "\n",
    "import regressao_logistica as rl\n",
    "\n",
    "acuracia = rl.regressao_logistica(Xtrain,Ytrain,Xval,Yval)\n",
    "print(\"Acurácia é \" + str(acuracia))"
   ]
  },
  {
   "cell_type": "markdown",
   "metadata": {},
   "source": [
    "# Redes Neurais Artificiais"
   ]
  },
  {
   "cell_type": "code",
   "execution_count": 17,
   "metadata": {},
   "outputs": [
    {
     "name": "stdout",
     "output_type": "stream",
     "text": [
      "The autoreload extension is already loaded. To reload it, use:\n",
      "  %reload_ext autoreload\n",
      "Acurácia é 0.375\n"
     ]
    }
   ],
   "source": [
    "%load_ext autoreload\n",
    "%autoreload 2\n",
    "\n",
    "import redes_neurais as rn\n",
    "\n",
    "acuracia = rn.redes_neurais (Xtrain,Ytrain,Xval,Yval)\n",
    "print(\"Acurácia é \" + str(acuracia))"
   ]
  },
  {
   "cell_type": "markdown",
   "metadata": {},
   "source": [
    "# Maximum Entropy Classifier"
   ]
  },
  {
   "cell_type": "code",
   "execution_count": 18,
   "metadata": {},
   "outputs": [],
   "source": [
    "# from nltk.classify import MaxentClassifier\n",
    "\n",
    "# def word_feats(words):\n",
    "#     return dict([(word, True) for word in words])\n",
    "\n",
    "# negids = movie_reviews.fileids('neg')\n",
    "# posids = movie_reviews.fileids('pos')\n",
    "\n",
    "# negfeats = [(word_feats(movie_reviews.words(fileids=[f])), 'neg') for f in negids]\n",
    "# posfeats = [(word_feats(movie_reviews.words(fileids=[f])), 'pos') for f in posids]\n",
    "\n",
    "# negcutoff = int(len(negfeats)*3/4)\n",
    "# poscutoff = int(len(posfeats)*3/4)\n",
    "\n",
    "# trainfeats = negfeats[:negcutoff] + posfeats[:poscutoff]\n",
    "# testfeats = negfeats[negcutoff:] + posfeats[poscutoff:]\n",
    "\n",
    "# training_set = trainfeats\n",
    "# test_set = testfeats\n",
    "\n",
    "# #for i in range(len(Ytrain)) :\n",
    "# #    training_set.append((Xtrain_chi[i,:].tolist(), Ytrain[i]))\n",
    "# #for i in range(len(Yval)) :    \n",
    "# #    test_set.append((Xval_chi[i,:].tolist(), Yval[i]))\n",
    "\n",
    "# #def list_to_dict(words_list):\n",
    "# #  return dict([(word, True) for word in words_list])\n",
    "\n",
    "# training_set_formatted = [(list_to_dict(element[0]), element[1]) for element in training_set] \n",
    "# numIterations = 100\n",
    " \n",
    "# algorithm = nltk.classify.MaxentClassifier.ALGORITHMS[0]\n",
    "# classifier = nltk.MaxentClassifier.train(training_set_formatted, algorithm, max_iter=numIterations)\n",
    "# #classifier.show_most_informative_features(10)\n",
    "\n",
    "# test_set_formatted = [(list_to_dict(element[0]), element[1]) for element in test_set] \n",
    "# classes = []\n",
    "# for review in test_set_formatted:\n",
    "#     label = review[1]\n",
    "#     text = review[0]\n",
    "#     classes.append(classifier.classify(text))\n",
    "    \n",
    "# acuracia = np.sum(classes==Yval)/len(Yval)\n",
    "# print(acuracia)"
   ]
  },
  {
   "cell_type": "markdown",
   "metadata": {},
   "source": []
  },
  {
   "cell_type": "markdown",
   "metadata": {},
   "source": [
    "# Random Forest"
   ]
  },
  {
   "cell_type": "code",
   "execution_count": 19,
   "metadata": {},
   "outputs": [
    {
     "name": "stdout",
     "output_type": "stream",
     "text": [
      "Acurácia é 0.6875\n"
     ]
    }
   ],
   "source": [
    "# Import the model we are using\n",
    "from sklearn.ensemble import RandomForestClassifier\n",
    "\n",
    "clf = RandomForestClassifier()\n",
    "clf.fit(Xtrain, Ytrain)\n",
    "classes = clf.predict(Xval)\n",
    "acuracia = np.sum(classes==Yval)/len(Yval)\n",
    "print(\"Acurácia é \" + str(acuracia))  "
   ]
  },
  {
   "cell_type": "markdown",
   "metadata": {},
   "source": [
    "# INVENTAR +++"
   ]
  },
  {
   "cell_type": "code",
   "execution_count": null,
   "metadata": {},
   "outputs": [],
   "source": []
  }
 ],
 "metadata": {
  "kernelspec": {
   "display_name": "Python 3",
   "language": "python",
   "name": "python3"
  },
  "language_info": {
   "codemirror_mode": {
    "name": "ipython",
    "version": 3
   },
   "file_extension": ".py",
   "mimetype": "text/x-python",
   "name": "python",
   "nbconvert_exporter": "python",
   "pygments_lexer": "ipython3",
   "version": "3.7.3"
  }
 },
 "nbformat": 4,
 "nbformat_minor": 2
}
