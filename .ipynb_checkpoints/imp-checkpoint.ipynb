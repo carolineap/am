{
 "cells": [
  {
   "cell_type": "markdown",
   "metadata": {},
   "source": [
    "# Pré processamento: \n",
    "Funções do arquivo pre_processing.py"
   ]
  },
  {
   "cell_type": "code",
   "execution_count": 23,
   "metadata": {
    "scrolled": true
   },
   "outputs": [],
   "source": [
    "import numpy as np\n",
    "import pandas as pd\n",
    "import nltk\n",
    "import pre_processing as pp\n",
    "#import scipy.optimize\n",
    "#nltk.download('punkt')\n",
    "#nltk.download('stopwords')\n",
    "category = 'test'\n",
    "\n",
    "df, df_chi2, Y = pp.bow(category)\n",
    "X = df.values\n",
    "X_chi = df_chi2.values"
   ]
  },
  {
   "cell_type": "code",
   "execution_count": null,
   "metadata": {},
   "outputs": [],
   "source": []
  },
  {
   "cell_type": "markdown",
   "metadata": {},
   "source": [
    "Holdout estratificado para separar dados para treino e teste:"
   ]
  },
  {
   "cell_type": "code",
   "execution_count": 2,
   "metadata": {},
   "outputs": [],
   "source": [
    "train_index, test_index = pp.stratified_holdOut(Y, 0.3)"
   ]
  },
  {
   "cell_type": "code",
   "execution_count": 3,
   "metadata": {},
   "outputs": [],
   "source": [
    "#Treinamento\n",
    "Xtrain = X[train_index]\n",
    "Xtrain_chi = X_chi[train_index]\n",
    "Ytrain = Y[train_index]\n",
    "\n",
    "#Validação\n",
    "Xval =  X[test_index]\n",
    "Xval_chi = X_chi[test_index]\n",
    "Yval = Y[test_index]"
   ]
  },
  {
   "cell_type": "markdown",
   "metadata": {},
   "source": [
    "# K-vizinhos:"
   ]
  },
  {
   "cell_type": "code",
   "execution_count": 19,
   "metadata": {},
   "outputs": [
    {
     "name": "stdout",
     "output_type": "stream",
     "text": [
      "The autoreload extension is already loaded. To reload it, use:\n",
      "  %reload_ext autoreload\n",
      "K = 3\n",
      "Acuracia sem chi-squared é 0.5\n",
      "Acuracia com chi-squared é 0.6666666666666666\n",
      "-------------------------------------\n",
      "K = 5\n",
      "Acuracia sem chi-squared é 0.5\n",
      "Acuracia com chi-squared é 0.6666666666666666\n",
      "-------------------------------------\n",
      "K = 7\n",
      "Acuracia sem chi-squared é 0.5\n",
      "Acuracia com chi-squared é 0.7222222222222222\n",
      "-------------------------------------\n"
     ]
    }
   ],
   "source": [
    "%load_ext autoreload\n",
    "%autoreload 2\n",
    "\n",
    "import k_neighbors as knn\n",
    "\n",
    "for j in range(3, 8, 2):\n",
    "    \n",
    "    K = j\n",
    "    \n",
    "    print(\"K = \" + str(K))\n",
    "    \n",
    "    classes = []\n",
    "\n",
    "    for i in range(Xval.shape[0]):\n",
    "        y = knn.knn(Xval[i], Xtrain, Ytrain, K)\n",
    "        classes.append(y)\n",
    "\n",
    "    acuracia = np.sum(classes==Yval)/len(Yval)\n",
    "    print(\"Acuracia sem chi-squared é \" + str(acuracia))    \n",
    "\n",
    "    classes = []\n",
    "    \n",
    "    for i in range(Xval.shape[0]):\n",
    "        y = knn.knn(Xval_chi[i], Xtrain_chi, Ytrain, K)\n",
    "        classes.append(y)\n",
    "        \n",
    "    acuracia = np.sum(classes==Yval)/len(Yval)\n",
    "    print(\"Acuracia com chi-squared é \" + str(acuracia))    \n",
    "    \n",
    "    print(\"-------------------------------------\")\n"
   ]
  },
  {
   "cell_type": "markdown",
   "metadata": {},
   "source": [
    "# Regressão Logística"
   ]
  },
  {
   "cell_type": "code",
   "execution_count": 6,
   "metadata": {},
   "outputs": [
    {
     "name": "stdout",
     "output_type": "stream",
     "text": [
      "The autoreload extension is already loaded. To reload it, use:\n",
      "  %reload_ext autoreload\n",
      "Optimization terminated successfully.\n",
      "         Current function value: 0.000002\n",
      "         Iterations: 19\n",
      "         Function evaluations: 20\n",
      "         Gradient evaluations: 20\n",
      "Acuracia sem chi-squared é 55.5555555556\n",
      "Optimization terminated successfully.\n",
      "         Current function value: 0.346580\n",
      "         Iterations: 17\n",
      "         Function evaluations: 18\n",
      "         Gradient evaluations: 18\n",
      "Acuracia sem chi-squared é 66.6666666667\n"
     ]
    }
   ],
   "source": [
    "%load_ext autoreload\n",
    "%autoreload 2\n",
    "\n",
    "import regressao_logistica as rl\n",
    "\n",
    "rl.regressao_logistica(Xtrain,Ytrain,Xval,Yval)\n",
    "\n",
    "rl.regressao_logistica(Xtrain_chi,Ytrain,Xval_chi,Yval)\n",
    "\n"
   ]
  },
  {
   "cell_type": "markdown",
   "metadata": {},
   "source": [
    "# Naive Bayes"
   ]
  },
  {
   "cell_type": "code",
   "execution_count": 10,
   "metadata": {},
   "outputs": [
    {
     "name": "stdout",
     "output_type": "stream",
     "text": [
      "The autoreload extension is already loaded. To reload it, use:\n",
      "  %reload_ext autoreload\n",
      "Acuracia sem chi-squared é 0.5\n",
      "Acuracia com chi-squared é 0.7777777777777778\n"
     ]
    }
   ],
   "source": [
    "%load_ext autoreload\n",
    "%autoreload 2\n",
    "\n",
    "import naive_bayes as nb\n",
    "\n",
    "#Sem chi\n",
    "probPos, probNeg, pPos, pNeg = nb.calcularProbabilidades(Xtrain, Ytrain)\n",
    "classes = []\n",
    "\n",
    "for i in range(Xval.shape[0]):\n",
    "    y = nb.classificacao(Xval[i], probPos, probNeg, pPos, pNeg)\n",
    "    classes.append(y)\n",
    "\n",
    "acuracia = np.sum(classes==Yval)/len(Yval)\n",
    "print(\"Acuracia sem chi-squared é \" + str(acuracia))    \n",
    "\n",
    "#Com chi\n",
    "probPos, probNeg, pPos, pNeg = nb.calcularProbabilidades(Xtrain_chi, Ytrain)\n",
    "classes = []\n",
    "for i in range(Xval.shape[0]):\n",
    "    y = nb.classificacao(Xval_chi[i], probPos, probNeg, pPos, pNeg)\n",
    "    classes.append(y)\n",
    "\n",
    "acuracia = np.sum(classes==Yval)/len(Yval)\n",
    "print(\"Acuracia com chi-squared é \" + str(acuracia))    \n"
   ]
  },
  {
   "cell_type": "markdown",
   "metadata": {},
   "source": [
    "# Redes Neurais Artificiais"
   ]
  },
  {
   "cell_type": "code",
   "execution_count": 21,
   "metadata": {},
   "outputs": [
    {
     "name": "stdout",
     "output_type": "stream",
     "text": [
      "The autoreload extension is already loaded. To reload it, use:\n",
      "  %reload_ext autoreload\n",
      "Acuracia sem chi-squared é 5.55555555556\n",
      "Acuracia com chi-squared é 50.0\n"
     ]
    }
   ],
   "source": [
    "%load_ext autoreload\n",
    "%autoreload 2\n",
    "\n",
    "import redes_neurais as rn\n",
    "\n",
    "\n",
    "acuracia = rn.redes_neurais (Xtrain, Ytrain,Xval,Yval)\n",
    "print(\"Acuracia sem chi-squared é \"+ str(acuracia * 100))\n",
    "\n",
    "acuracia = rn.redes_neurais (Xtrain_chi,Ytrain,Xval_chi,Yval)\n",
    "print(\"Acuracia com chi-squared é \" + str(acuracia * 100))"
   ]
  },
  {
   "cell_type": "markdown",
   "metadata": {},
   "source": [
    "# SVM"
   ]
  },
  {
   "cell_type": "code",
   "execution_count": 24,
   "metadata": {},
   "outputs": [
    {
     "ename": "ModuleNotFoundError",
     "evalue": "No module named 'svmutil'",
     "output_type": "error",
     "traceback": [
      "\u001b[0;31m---------------------------------------------------------------------------\u001b[0m",
      "\u001b[0;31mModuleNotFoundError\u001b[0m                       Traceback (most recent call last)",
      "\u001b[0;32m<ipython-input-24-fb1e97cd722a>\u001b[0m in \u001b[0;36m<module>\u001b[0;34m\u001b[0m\n\u001b[0;32m----> 1\u001b[0;31m \u001b[0;32mimport\u001b[0m \u001b[0msvm\u001b[0m \u001b[0;32mas\u001b[0m \u001b[0msvm\u001b[0m\u001b[0;34m\u001b[0m\u001b[0;34m\u001b[0m\u001b[0m\n\u001b[0m\u001b[1;32m      2\u001b[0m \u001b[0;34m\u001b[0m\u001b[0m\n\u001b[1;32m      3\u001b[0m \u001b[0macuracia\u001b[0m \u001b[0;34m=\u001b[0m \u001b[0msvm\u001b[0m\u001b[0;34m.\u001b[0m\u001b[0msvm\u001b[0m\u001b[0;34m(\u001b[0m\u001b[0mXtrain\u001b[0m\u001b[0;34m,\u001b[0m\u001b[0mYtrain\u001b[0m\u001b[0;34m,\u001b[0m\u001b[0mXval\u001b[0m\u001b[0;34m,\u001b[0m\u001b[0mYval\u001b[0m\u001b[0;34m)\u001b[0m\u001b[0;34m\u001b[0m\u001b[0;34m\u001b[0m\u001b[0m\n\u001b[1;32m      4\u001b[0m \u001b[0mprint\u001b[0m\u001b[0;34m(\u001b[0m\u001b[0;34m\"Acuracia sem chi-squared é \"\u001b[0m\u001b[0;34m+\u001b[0m \u001b[0mstr\u001b[0m\u001b[0;34m(\u001b[0m\u001b[0macuracia\u001b[0m \u001b[0;34m*\u001b[0m \u001b[0;36m100\u001b[0m\u001b[0;34m)\u001b[0m\u001b[0;34m)\u001b[0m\u001b[0;34m\u001b[0m\u001b[0;34m\u001b[0m\u001b[0m\n\u001b[1;32m      5\u001b[0m \u001b[0;34m\u001b[0m\u001b[0m\n",
      "\u001b[0;32m~/Área de Trabalho/Ufscar/Semestre 7/AM/am/svm.py\u001b[0m in \u001b[0;36m<module>\u001b[0;34m\u001b[0m\n\u001b[1;32m      1\u001b[0m \u001b[0;32mimport\u001b[0m \u001b[0mnumpy\u001b[0m \u001b[0;32mas\u001b[0m \u001b[0mnp\u001b[0m\u001b[0;34m\u001b[0m\u001b[0;34m\u001b[0m\u001b[0m\n\u001b[1;32m      2\u001b[0m \u001b[0;32mimport\u001b[0m \u001b[0mpandas\u001b[0m \u001b[0;32mas\u001b[0m \u001b[0mpd\u001b[0m\u001b[0;34m\u001b[0m\u001b[0;34m\u001b[0m\u001b[0m\n\u001b[0;32m----> 3\u001b[0;31m \u001b[0;32mimport\u001b[0m \u001b[0msvmutil\u001b[0m\u001b[0;34m\u001b[0m\u001b[0;34m\u001b[0m\u001b[0m\n\u001b[0m\u001b[1;32m      4\u001b[0m \u001b[0;32mfrom\u001b[0m \u001b[0msvmutil\u001b[0m \u001b[0;32mimport\u001b[0m \u001b[0msvm_read_problem\u001b[0m\u001b[0;34m\u001b[0m\u001b[0;34m\u001b[0m\u001b[0m\n\u001b[1;32m      5\u001b[0m \u001b[0;32mfrom\u001b[0m \u001b[0msvmutil\u001b[0m \u001b[0;32mimport\u001b[0m \u001b[0msvm_problem\u001b[0m\u001b[0;34m\u001b[0m\u001b[0;34m\u001b[0m\u001b[0m\n",
      "\u001b[0;31mModuleNotFoundError\u001b[0m: No module named 'svmutil'"
     ]
    }
   ],
   "source": [
    "import svm_imp as svm\n",
    "\n",
    "acuracia = svm.svm(Xtrain,Ytrain,Xval,Yval)\n",
    "print(\"Acuracia sem chi-squared é \"+ str(acuracia * 100))\n",
    "\n",
    "acuracia = svm.svm(Xtrain_chi,Ytrain,Xval_chi,Yval)\n",
    "print(\"Acuracia com chi-squared é \"+ str(acuracia * 100))\n"
   ]
  },
  {
   "cell_type": "markdown",
   "metadata": {},
   "source": [
    "# Maximum Entropy Classifier"
   ]
  },
  {
   "cell_type": "code",
   "execution_count": 48,
   "metadata": {},
   "outputs": [
    {
     "name": "stdout",
     "output_type": "stream",
     "text": [
      "[nltk_data] Downloading package movie_reviews to /home/sy/nltk_data...\n",
      "[nltk_data]   Package movie_reviews is already up-to-date!\n",
      "<bound method CategorizedCorpusReader.fileids of <CategorizedPlaintextCorpusReader in '/home/sy/nltk_data/corpora/movie_reviews'>>\n"
     ]
    }
   ],
   "source": [
    "from nltk.classify import MaxentClassifier\n",
    "\n",
    "def word_feats(words):\n",
    "    return dict([(word, True) for word in words])\n",
    "\n",
    "negids = movie_reviews.fileids('neg')\n",
    "posids = movie_reviews.fileids('pos')\n",
    "\n",
    "negfeats = [(word_feats(movie_reviews.words(fileids=[f])), 'neg') for f in negids]\n",
    "posfeats = [(word_feats(movie_reviews.words(fileids=[f])), 'pos') for f in posids]\n",
    "\n",
    "negcutoff = int(len(negfeats)*3/4)\n",
    "poscutoff = int(len(posfeats)*3/4)\n",
    "\n",
    "trainfeats = negfeats[:negcutoff] + posfeats[:poscutoff]\n",
    "testfeats = negfeats[negcutoff:] + posfeats[poscutoff:]\n",
    "\n",
    "training_set = trainfeats\n",
    "test_set = testfeats\n",
    "\n",
    "#for i in range(len(Ytrain)) :\n",
    "#    training_set.append((Xtrain_chi[i,:].tolist(), Ytrain[i]))\n",
    "#for i in range(len(Yval)) :    \n",
    "#    test_set.append((Xval_chi[i,:].tolist(), Yval[i]))\n",
    "\n",
    "#def list_to_dict(words_list):\n",
    "#  return dict([(word, True) for word in words_list])\n",
    "\n",
    "training_set_formatted = [(list_to_dict(element[0]), element[1]) for element in training_set] \n",
    "numIterations = 100\n",
    " \n",
    "algorithm = nltk.classify.MaxentClassifier.ALGORITHMS[0]\n",
    "classifier = nltk.MaxentClassifier.train(training_set_formatted, algorithm, max_iter=numIterations)\n",
    "#classifier.show_most_informative_features(10)\n",
    "\n",
    "test_set_formatted = [(list_to_dict(element[0]), element[1]) for element in test_set] \n",
    "classes = []\n",
    "for review in test_set_formatted:\n",
    "    label = review[1]\n",
    "    text = review[0]\n",
    "    classes.append(classifier.classify(text))\n",
    "    \n",
    "acuracia = np.sum(classes==Yval)/len(Yval)\n",
    "print(acuracia)"
   ]
  },
  {
   "cell_type": "markdown",
   "metadata": {},
   "source": []
  },
  {
   "cell_type": "markdown",
   "metadata": {},
   "source": [
    "# Random Forest"
   ]
  },
  {
   "cell_type": "code",
   "execution_count": 53,
   "metadata": {},
   "outputs": [
    {
     "name": "stdout",
     "output_type": "stream",
     "text": [
      "Acuracia com chi-squared é 0.7777777777777778\n"
     ]
    }
   ],
   "source": [
    "# Import the model we are using\n",
    "from sklearn.ensemble import RandomForestClassifier\n",
    "\n",
    "clf = RandomForestClassifier()\n",
    "clf.fit(Xtrain_chi, Ytrain)\n",
    "classes = clf.predict(Xval_chi)\n",
    "acuracia = np.sum(classes==Yval)/len(Yval)\n",
    "print(\"Acuracia com chi-squared é \" + str(acuracia))  "
   ]
  },
  {
   "cell_type": "markdown",
   "metadata": {},
   "source": [
    "# INVENTAR +++"
   ]
  },
  {
   "cell_type": "code",
   "execution_count": null,
   "metadata": {},
   "outputs": [],
   "source": []
  }
 ],
 "metadata": {
  "kernelspec": {
   "display_name": "Python 3",
   "language": "python",
   "name": "python3"
  },
  "language_info": {
   "codemirror_mode": {
    "name": "ipython",
    "version": 3
   },
   "file_extension": ".py",
   "mimetype": "text/x-python",
   "name": "python",
   "nbconvert_exporter": "python",
   "pygments_lexer": "ipython3",
   "version": "3.6.7"
  }
 },
 "nbformat": 4,
 "nbformat_minor": 2
}
