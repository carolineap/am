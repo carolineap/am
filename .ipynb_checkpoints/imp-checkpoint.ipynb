{
 "cells": [
  {
   "cell_type": "markdown",
   "metadata": {},
   "source": [
    "# Pré processamento: \n",
    "Funções do arquivo pre_processing.py"
   ]
  },
  {
   "cell_type": "code",
   "execution_count": 1,
   "metadata": {},
   "outputs": [],
   "source": [
    "import numpy as np\n",
    "import pandas as pd\n",
    "import nltk\n",
    "import pre_processing as pp\n",
    "\n",
    "category = 'test'\n",
    "\n",
    "df, df_chi2, Y = pp.bow(category)\n",
    "\n",
    "X = df.values\n",
    "X_chi = df_chi2.values"
   ]
  },
  {
   "cell_type": "code",
   "execution_count": null,
   "metadata": {},
   "outputs": [],
   "source": []
  },
  {
   "cell_type": "markdown",
   "metadata": {},
   "source": [
    "Holdout estratificado para separar dados para treino e teste:"
   ]
  },
  {
   "cell_type": "code",
   "execution_count": 2,
   "metadata": {},
   "outputs": [],
   "source": [
    "train_index, test_index = pp.stratified_holdOut(Y, 0.3)"
   ]
  },
  {
   "cell_type": "code",
   "execution_count": 3,
   "metadata": {},
   "outputs": [],
   "source": [
    "#Treinamento\n",
    "Xtrain = X[train_index]\n",
    "Xtrain_chi = X_chi[train_index]\n",
    "Ytrain = Y[train_index]\n",
    "\n",
    "#Validação\n",
    "Xval =  X[test_index]\n",
    "Xval_chi = X_chi[test_index]\n",
    "Yval = Y[test_index]"
   ]
  },
  {
   "cell_type": "markdown",
   "metadata": {},
   "source": [
    "# K-vizinhos:"
   ]
  },
  {
   "cell_type": "code",
   "execution_count": 19,
   "metadata": {},
   "outputs": [
    {
     "name": "stdout",
     "output_type": "stream",
     "text": [
      "The autoreload extension is already loaded. To reload it, use:\n",
      "  %reload_ext autoreload\n",
      "K = 3\n",
      "Acuracia sem chi-squared é 0.5\n",
      "Acuracia com chi-squared é 0.6666666666666666\n",
      "-------------------------------------\n",
      "K = 5\n",
      "Acuracia sem chi-squared é 0.5\n",
      "Acuracia com chi-squared é 0.6666666666666666\n",
      "-------------------------------------\n",
      "K = 7\n",
      "Acuracia sem chi-squared é 0.5\n",
      "Acuracia com chi-squared é 0.7222222222222222\n",
      "-------------------------------------\n"
     ]
    }
   ],
   "source": [
    "%load_ext autoreload\n",
    "%autoreload 2\n",
    "\n",
    "import k_neighbors as knn\n",
    "\n",
    "for j in range(3, 8, 2):\n",
    "    \n",
    "    K = j\n",
    "    \n",
    "    print(\"K = \" + str(K))\n",
    "    \n",
    "    classes = []\n",
    "\n",
    "    for i in range(Xval.shape[0]):\n",
    "        y = knn.knn(Xval[i], Xtrain, Ytrain, K)\n",
    "        classes.append(y)\n",
    "\n",
    "    acuracia = np.sum(classes==Yval)/len(Yval)\n",
    "    print(\"Acuracia sem chi-squared é \" + str(acuracia))    \n",
    "\n",
    "    classes = []\n",
    "    \n",
    "    for i in range(Xval.shape[0]):\n",
    "        y = knn.knn(Xval_chi[i], Xtrain_chi, Ytrain, K)\n",
    "        classes.append(y)\n",
    "        \n",
    "    acuracia = np.sum(classes==Yval)/len(Yval)\n",
    "    print(\"Acuracia com chi-squared é \" + str(acuracia))    \n",
    "    \n",
    "    print(\"-------------------------------------\")\n"
   ]
  },
  {
   "cell_type": "markdown",
   "metadata": {},
   "source": [
    "# Regressão Logística"
   ]
  },
  {
   "cell_type": "code",
   "execution_count": 14,
   "metadata": {},
   "outputs": [
    {
     "name": "stdout",
     "output_type": "stream",
     "text": [
      "The autoreload extension is already loaded. To reload it, use:\n",
      "  %reload_ext autoreload\n",
      "Optimization terminated successfully.\n",
      "         Current function value: 0.000002\n",
      "         Iterations: 19\n",
      "         Function evaluations: 20\n",
      "         Gradient evaluations: 20\n",
      "Acuracia sem chi-squared é 55.5555555556\n",
      "Optimization terminated successfully.\n",
      "         Current function value: 0.346580\n",
      "         Iterations: 17\n",
      "         Function evaluations: 18\n",
      "         Gradient evaluations: 18\n",
      "Acuracia com chi-squared é 66.6666666667\n"
     ]
    }
   ],
   "source": [
    "%load_ext autoreload\n",
    "%autoreload 2\n",
    "\n",
    "import regressao_logistica as rl\n",
    "\n",
    "import scipy.optimize \n",
    "\n",
    "# Configura se a função custo utiliza a regularização\n",
    "reg = 0\n",
    "# Configura o parametro de regularizacao lambda igual a 1\n",
    "lambda_reg = 1\n",
    "# Algumas configuracoes do gradiente descente\n",
    "iteracoes = 50\n",
    "theta = np.zeros(Xval.shape[1]) # Inicializa parâmetros que serao ajustados\n",
    "\n",
    "# minimiza a funcao de custo\n",
    "result = scipy.optimize.minimize(fun=rl.funcaoCusto, x0=theta, args=(Xtrain, Ytrain,reg,lambda_reg),  \n",
    "                method='BFGS', jac=True, options={'maxiter': iteracoes, 'disp':True})\n",
    "# coleta os thetas retornados pela função de minimização\n",
    "theta = result.x\n",
    "\n",
    "# realiza a predição dos dados\n",
    "p = rl.predicao(theta, Xval)\n",
    "\n",
    "acuracia = np.mean(p == Yval) * 100\n",
    "print(\"Acuracia sem chi-squared é \" + str(acuracia)) \n",
    "\n",
    "theta = np.zeros(Xval_chi.shape[1]) # Inicializa parâmetros que serao ajustados\n",
    "\n",
    "# minimiza a funcao de custo\n",
    "result = scipy.optimize.minimize(fun=rl.funcaoCusto, x0=theta, args=(Xtrain_chi, Ytrain,reg,lambda_reg),  \n",
    "                method='BFGS', jac=True, options={'maxiter': iteracoes, 'disp':True})\n",
    "# coleta os thetas retornados pela função de minimização\n",
    "theta = result.x\n",
    "\n",
    "# realiza a predição dos dados\n",
    "p = rl.predicao(theta, Xval_chi)\n",
    "\n",
    "acuracia = np.mean(p == Yval) * 100\n",
    "print(\"Acuracia com chi-squared é \" + str(acuracia)) \n",
    "\n"
   ]
  },
  {
   "cell_type": "markdown",
   "metadata": {},
   "source": [
    "# Naive Bayes"
   ]
  },
  {
   "cell_type": "code",
   "execution_count": 15,
   "metadata": {},
   "outputs": [
    {
     "name": "stdout",
     "output_type": "stream",
     "text": [
      "The autoreload extension is already loaded. To reload it, use:\n",
      "  %reload_ext autoreload\n",
      "Acuracia sem chi-squared é 0.5\n",
      "Acuracia com chi-squared é 0.777777777778\n"
     ]
    }
   ],
   "source": [
    "%load_ext autoreload\n",
    "%autoreload 2\n",
    "\n",
    "import naive_bayes as nb\n",
    "\n",
    "#Sem chi\n",
    "probPos, probNeg, pPos, pNeg = nb.calcularProbabilidades(Xtrain, Ytrain)\n",
    "classes = []\n",
    "\n",
    "for i in range(Xval.shape[0]):\n",
    "    y = nb.classificacao(Xval[i], probPos, probNeg, pPos, pNeg)\n",
    "    classes.append(y)\n",
    "\n",
    "acuracia = np.sum(classes==Yval)/len(Yval)\n",
    "print(\"Acuracia sem chi-squared é \" + str(acuracia))    \n",
    "\n",
    "#Com chi\n",
    "probPos, probNeg, pPos, pNeg = nb.calcularProbabilidades(Xtrain_chi, Ytrain)\n",
    "classes = []\n",
    "for i in range(Xval.shape[0]):\n",
    "    y = nb.classificacao(Xval_chi[i], probPos, probNeg, pPos, pNeg)\n",
    "    classes.append(y)\n",
    "\n",
    "acuracia = np.sum(classes==Yval)/len(Yval)\n",
    "print(\"Acuracia com chi-squared é \" + str(acuracia))    \n"
   ]
  },
  {
   "cell_type": "markdown",
   "metadata": {},
   "source": [
    "# Redes Neurais Artificiais"
   ]
  },
  {
   "cell_type": "code",
   "execution_count": null,
   "metadata": {},
   "outputs": [],
   "source": []
  },
  {
   "cell_type": "markdown",
   "metadata": {},
   "source": [
    "# SVM"
   ]
  },
  {
   "cell_type": "code",
   "execution_count": null,
   "metadata": {},
   "outputs": [],
   "source": []
  },
  {
   "cell_type": "markdown",
   "metadata": {},
   "source": [
    "# INVENTAR +++"
   ]
  }
 ],
 "metadata": {
  "kernelspec": {
   "display_name": "Python 3",
   "language": "python",
   "name": "python3"
  }
 },
 "nbformat": 4,
 "nbformat_minor": 2
}
