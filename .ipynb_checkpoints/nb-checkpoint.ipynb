{
 "cells": [
  {
   "cell_type": "code",
   "execution_count": 1,
   "metadata": {},
   "outputs": [
    {
     "name": "stdout",
     "output_type": "stream",
     "text": [
      "Vocabulário possui 7675 palavras!\n"
     ]
    }
   ],
   "source": [
    "import matplotlib.pyplot as plt\n",
    "import numpy as np\n",
    "import pandas as pd\n",
    "import pre_processing as pp\n",
    "import analysis as anl\n",
    "import pca\n",
    "\n",
    "category = 'all'\n",
    "\n",
    "hNeg = True #if true, add negative bigrams for negative reviews\n",
    "noun = True #if true, add nouns\n",
    "\n",
    "X, Y, vocabulary = pp.bow(category, hNeg, noun)\n",
    "\n",
    "print(\"Vocabulário possui \" + str(len(vocabulary)) + \" palavras!\")"
   ]
  },
  {
   "cell_type": "markdown",
   "metadata": {},
   "source": [
    "Separa os dados em treinamento e teste:"
   ]
  },
  {
   "cell_type": "code",
   "execution_count": 2,
   "metadata": {},
   "outputs": [],
   "source": [
    "# semente usada na randomizacao dos dados.\n",
    "randomSeed = 10 \n",
    "\n",
    "# gera os indices aleatorios que irao definir a ordem dos dados\n",
    "idx_perm = np.random.RandomState(randomSeed).permutation(range(len(Y)))\n",
    "\n",
    "# ordena os dados de acordo com os indices gerados aleatoriamente\n",
    "X2, Y2 = X[idx_perm, :], Y[idx_perm]\n",
    "\n",
    "#X2, Y2 = X[idx_perm, :], Y[idx_perm]\n",
    "\n",
    "pTrain = 0.8\n",
    "\n",
    "train_index, test_index = anl.stratified_holdOut(Y, pTrain)\n",
    "\n",
    "Xtrain, Xval = X2[train_index, :], X2[test_index, :]\n",
    "Ytrain, Yval = Y2[train_index], Y2[test_index]"
   ]
  },
  {
   "cell_type": "markdown",
   "metadata": {},
   "source": [
    "Seleciona features com método do chi-quadrado (baseado nos dados de treinamento):"
   ]
  },
  {
   "cell_type": "code",
   "execution_count": 3,
   "metadata": {},
   "outputs": [],
   "source": [
    "Xtrain, new_vocabulary, index = pp.chi2(Xtrain, Ytrain, vocabulary)\n",
    "Xval = Xval[:, index]"
   ]
  },
  {
   "cell_type": "code",
   "execution_count": 4,
   "metadata": {},
   "outputs": [
    {
     "name": "stdout",
     "output_type": "stream",
     "text": [
      "Número de features antes do chi-quadrado: 7675\n",
      "----------------------------------------\n",
      "Número de features após chi-quadrado: 793\n",
      "[('not', 'anyth'), 'poorli', 'built', 'wrong', 'fast', 'control', 'sling', 'element', 'support', 'minor', 'opinion', 'inexpens', 'suction', 'refurbish', 'chang', 'pay', 'cost', ('not', 'fit'), 'commerci', 'quest', 'quickcam', 'bare', 'eb', 'deliv', 'reproduct', 'alarm', 'photograph', 'mail', 'dock', 'retract', 'excess', 'capac', 'good', 'jack', 'excit', 'author', 'stand', 'honor', 'reinstal', 'burn', 'region', 'clearanc', 'eclips', 'outlet', 'dud', 'rma', 'report', 'confus', 'satisfi', 'refus', 'trackbal', 'hard', 'becuas', 'compani', ('not', 'right'), 'roadtrip', 'like', 'default', 'eas', 'ktx', 'cash', ('never', 'receiv'), 'resel', 'iskin', 'own', 'best', 'practic', 'well', 'tivo', 'profil', 'hotter', ('not', 'matter'), 'ht', 'len', 'linux', 'network', 'vendor', ('not', 'recogn'), 'resolut', 'product', 'attempt', 'ink', 'mccartney', 'pouch', 'trackman', 'megapixel', 'belt', ('not', 'hear'), 'video', 'ok', 'wow', 'easili', 'island', 'shoulder', 'grip', 'microphon', 'ideal', 'fit', 'enough', 'disappear', 'philip', 'babi', 'websit', 'listen', 'simpl', 'neg', 'plenti', 'para', 'card', 'frustrat', ('not', 'think'), 'carri', 'digit', 'wors', 'flaki', 'short', 'ihom', ('not', 'quit'), 'got', 'accommod', 'spoke', ('not', 'comput'), 'wonder', 'ask', 'thing', 'adhes', 'window', 'love', 'dlink', 'coax', 'awesom', 'address', 'dj', 'corrupt', 'diamondback', 'dumb', 'draw', 'anyth', 'updat', 'pattern', ('not', 'notic'), 'sorri', 'return', 'piss', 'detail', 'case', 'hate', 'album', 'took', ('not', 'bother'), 'ic', 'rule', 'glossi', 'fabric', 'unit', ('not', 'sure'), ('not', 'come'), 'speak', 'sign', 'disconnect', 'occur', 'voic', 'arm', 'test', 'itrip', 'bewar', 'cinema', 'hot', 'strike', 'travel', 'hand', 'tabl', 'motorola', 'unfortun', 'confirm', 'router', 'constantli', ('not', 'turn'), 'aw', ('not', 'even'), 'pretti', 'charg', 'fatal', 'phone', 'hook', 'handi', ('not', 'expect'), 'far', 'english', 'email', 'kitchen', 'meant', 'clean', 'headband', 'joke', 'disappoint', 'defin', 'slinger', 'recogn', 'sad', 'freez', 'room', 'lexar', 'unus', 'vacuum', 'high', 'kardon', 'mess', 'gravi', ('not', 'happi'), 'emerg', 'bad', 'allow', 'help', 'incred', 'budget', 'sturdi', 'captur', 'gamepad', 'armband', 'explor', 'lennon', 'faq', 'viewson', 'clear', 'price', 'happen', 'db', ('not', 'help'), ('not', 'give'), 'tomtom', 'day', 'quadrofx', 'space', 'buy', 'firmwar', 'broken', 'nice', 'tri', 'incompat', 'palm', 'sync', 'no', 'drawback', 'request', 'trash', 'mere', 'optic', 'monitor', 'casett', 'edit', 'total', 'surround', 'powersquid', 'lot', 'prefer', 'sleek', 'cheapli', 'combo', 'dvi', 'suppos', ('not', 'honor'), 'fix', ('not', 'want'), 'happi', 'whole', 'need', 'photo', 'thin', 'defect', 'also', 'cursor', 'paul', ('not', 'not'), 'figur', 'flimsi', 'eventu', 'gap', 'focu', ('not', 'say'), 'afford', ('not', 'bad'), 'clickwheel', 'transmiss', 'seriou', ('not', 'find'), 'audio', 'audiophil', 'eject', 'refund', ('no', 'longer'), 'coffe', 'terribl', 'bottl', 'void', ('not', 'possibl'), 'issu', 'radio', 'memori', ('not', 'purchas'), ('not', 'first'), 'magenta', 'problem', ('not', 'refund'), 'canon', ('not', 'know'), 'today', 'given', ('not', 'fix'), 'stuck', 'rep', 'music', 'horribl', 'winxp', 'accept', 'work', 'item', 'awsom', 'maker', 'thx', 'es', 'disast', 'quick', 'ghz', 'pan', 'small', 'iraq', 'shoddi', 'valu', 'record', 'map', 'goe', 'player', ('not', 'detect'), 'read', ('not', 'mani'), 'dolbi', 'suggest', 'distribut', 'dead', 'def', ('not', 'tell'), 'week', 'impress', 'bronx', 'guess', 'vike', 'littl', 'thought', 'vinyl', 'mbp', 'chat', 'zoom', 'featur', 'size', 'guy', ('not', 'charg'), 'static', 'eq', 'geforc', 'worri', 'especi', 'bag', 'aluminum', ('not', 'buy'), 'month', 'lcd', 'rayovac', 'discret', 'keyboard', 'instrument', 'brand', 'easi', 'yesterday', ('not', 'ship'), 'mm', 'al', 'sound', 'transfer', 'condit', 'sky', 'capabl', 'major', 'plantron', ('not', 'usabl'), 'crap', 'combin', 'look', 'gripe', 'pictur', 'not', 'glad', 'c', 'never', 'surprisingli', 'varieti', 'servic', 'dash', 'linksi', 'amp', 'perfect', 'sent', ('not', 'imagin'), 'half', 'output', 'exceed', 'artifact', 'bright', 'comput', 'wait', 'poor', 'ineffect', 'thirti', 'sennheis', 'boot', ('not', 'impress'), 'sooner', 'orbit', 'suck', 'appropri', 'ratio', 'money', 'bulb', 'paperweight', 'death', 'depart', 'immedi', 'reset', 'perhap', 'studio', 'cartrig', 'latch', 'junk', 'softwar', 'outstand', 'pda', 'oven', 'great', 'due', 'xm', 'unreli', 'weather', 'contrast', 'que', 'eagl', 'invest', 'start', 'purchas', ('not', 'handl'), 'maxel', 'point', 'advent', ('not', 'like'), 'slim', 'bind', 'shuffl', 'therefor', 'laptop', 'pro', 'warranti', 'deliveri', 'madden', 'mayb', 'contact', 'ebook', 'overal', 'colleg', 'hardwar', 'faulti', 'printabl', ('not', 'advertis'), 'fail', 'polici', 'yr', 'smart', 'disabl', ('not', 'fool'), 'uncomfort', 'includ', 'nero', ('not', 'seem'), 'potenti', 'custom', 'conflict', ('not', 'rememb'), 'rang', 'els', 'cox', 'old', ('not', 'believ'), 'sadli', 'seri', 'unabl', 'compliment', 'cancel', 'encrypt', 'memorex', 'everyday', 'big', 'next', 'tx', 'unaccept', 'failur', 'happili', 'repres', 'bio', 'amaz', ('not', 'go'), 'call', ('not', 'send'), 'experi', 'bit', 'worst', 'feet', 'mistak', ('not', 'worth'), ('not', 'tri'), 'compact', ('not', 'compat'), 'train', 'first', 'speedpad', 'cell', 'pleas', 'mous', 'sudden', 'downsid', 'schedul', 'favorit', 'common', 'paper', 'agre', 'recommend', 'bose', 'connect', 'rock', 'floor', 'conclus', 'minut', 'worthless', 'along', 'speaker', 'origin', 'truli', 'fell', 'gave', 'game', 'doesnt', 'said', 'order', 'mechan', 'stapl', 'vivid', 'die', 'error', 'soldier', 'differ', 'hesit', 'fade', ('not', 'match'), 'verifi', ('not', 'wast'), 'recov', 'gigabeat', 'defeat', 'easier', 'properli', 'assur', ('not', 'much'), 'head', 'ruin', 'accesori', 'exactli', 'reformat', 'messag', ('not', 'retract'), 'cordless', 'chipset', 'alot', 'doa', 'el', 'becom', 'distract', 'plug', 'backpack', ('not', 'hold'), 'hz', ('not', 'care'), 'barcod', 'ebay', 'b', 'acoust', 'businessweek', 'exchang', ('not', 'great'), 'excel', 'motion', 'hour', 'stink', 'laci', ('not', 'offer'), 'zboard', 'piec', 'addit', 'epson', ('not', 'work'), ('not', 'put'), 'finger', 'fiber', 'leather', 'expand', ('not', 'last'), 'dt', 'firewal', 'garbag', 'mislead', 'theater', 'ibook', 'useless', 'back', 'rave', 'accur', 'highli', 'super', 'went', 'tech', 'send', 'crisp', 'qualiti', 'hunt', 'protect', 'notebook', ('not', 'problem'), 'kb', 'plane', 'problemat', 'googl', 'latest', 'style', 'fantast', 'rude', 'widescreen', 'highway', 'refil', 'noth', ('not', 'accept'), 'submit', 'sever', 'replac', 'time', 'broke', 'longer', 'lost', 'alreadi', 'black', ('not', 'trust'), 'cheap', 'shut', 'midland', ('not', 'test'), 'rip', 'degre', ('not', 'live'), 'advis', ('not', 'good'), 'post', ('not', 'enough'), 'pocket', 'someth', ('not', 'play'), 'way', 'f', 'slightli', 'capresso', 'cycl', 'ownership', ('not', 'make'), 'hope', 'agp', ('not', 'stay'), 'cabl', ('not', 'take'), 'beat', 'isnt', ('not', 'use'), 'provid', 'tell', 'modifi', ('not', 'read'), 'con', 'key', ('not', 'recommend'), 'complaint', 'movi', 'appar', 'pleasantli', 'upset', 'smoke', 'joystick', 'wast', 'skin', 'special', 'complet', ('not', 'get'), 'compat', 'tdk', 'concert', 'comfort', 'strap', 'hill', 'avoid', 'vastli', 'repeatedli', 'jbl', 'display', 'ap', 'screen', 'savvi', 'hd', ('never', 'buy'), 'lightweight', 'wont', 'comment', 'prici', 'invoic', 'motorcycl', ('not', 'realli'), ('not', 'need'), 'new', 'bought', 'click', 'spare', 'terrif', ('not', 'return'), 'devic', ('not', 'support'), 'get', 'use', 'greatest', 'irrit', 'solid', 'perform', 'greet', ('not', 'appear'), 'dimens', 'killer', 'equip', ('never', 'work'), 'yellow', ('not', 'abl'), 'pointer', 'wireless', 'crash', 'server', 'mb', 'crappi', 'typewrit', 'april', 'radar', 'detect', 'check', 'soni', 'throw', 'subject', 'superb', 'flaw', 'hunk', 'compar', 'analog', 'mile', 'iem', ('not', 'see'), 'subtl', 'mah', 'lie', 'fee', 'extra', 'told', 'targu', 'x', 'lock', 'even', 'duo', ('not', 'figur'), 'ship', 'pain', 'escort', 'technician', 'decad', 'bass', 'headach', 'stop', 'hype']\n"
     ]
    }
   ],
   "source": [
    "print(\"Número de features antes do chi-quadrado: \" + str(len(vocabulary)))\n",
    "print(\"----------------------------------------\")\n",
    "print(\"Número de features após chi-quadrado: \" + str(len(new_vocabulary)))\n",
    "print(new_vocabulary)"
   ]
  },
  {
   "cell_type": "code",
   "execution_count": 5,
   "metadata": {},
   "outputs": [],
   "source": [
    "def calcularProbabilidades(X, Y):\n",
    "   \n",
    "    pPos = np.zeros(X.shape[1])\n",
    "    pNeg = np.zeros(X.shape[1])\n",
    "\n",
    "    pPos = X[(Y == 1)].sum(axis=0)/sum(Y == 1)\n",
    "    pNeg = X[(Y == 0)].sum(axis=0)/sum(Y == 0)\n",
    "    \n",
    "    probPos = sum(Y==1)/len(Y) \n",
    "    probNeg = sum(Y==0)/len(Y)\n",
    "    \n",
    "    return probPos, probNeg, pPos, pNeg"
   ]
  },
  {
   "cell_type": "code",
   "execution_count": 6,
   "metadata": {},
   "outputs": [],
   "source": [
    "probP, probN, pPos, pNeg = calcularProbabilidades(Xtrain, Ytrain)"
   ]
  },
  {
   "cell_type": "code",
   "execution_count": 7,
   "metadata": {},
   "outputs": [],
   "source": [
    "def classificacao(x,probP,probN,pPos,pNeg):\n",
    "\n",
    "    classe = 0;\n",
    "    probPos= 0;\n",
    "    probNeg = 0;\n",
    "\n",
    "    x = x.toarray()\n",
    "    \n",
    "    probPos = probP * (pPos[(x != 0)]).prod() * (1 - pPos[(x == 0)]).prod()\n",
    "    probNeg = probN * (pNeg[(x != 0)]).prod() * (1 - pNeg[(x == 0)]).prod()\n",
    "    \n",
    "    classe = int(probPos >= probNeg)\n",
    "\n",
    "    return classe"
   ]
  },
  {
   "cell_type": "code",
   "execution_count": 8,
   "metadata": {},
   "outputs": [],
   "source": [
    "def predicao(Xval, Yval, probP, probN, pPos, pNeg):\n",
    "    \n",
    "    Ypred = []\n",
    "    for i in range(Xval.shape[0]):\n",
    "        y = classificacao(Xval[i], probP,probN,pPos,pNeg)\n",
    "        Ypred.append(y)\n",
    "\n",
    "    acuracia = np.sum(Ypred==Yval)/len(Yval)\n",
    "    \n",
    "    return Ypred, acuracia"
   ]
  },
  {
   "cell_type": "code",
   "execution_count": 9,
   "metadata": {},
   "outputs": [
    {
     "name": "stdout",
     "output_type": "stream",
     "text": [
      "Acurácia é 70.5\n"
     ]
    }
   ],
   "source": [
    "Ypred, acuracia = predicao(Xval, Yval, probP, probN, pPos, pNeg)\n",
    "print(\"Acurácia é \" + str(acuracia*100))"
   ]
  },
  {
   "cell_type": "code",
   "execution_count": 10,
   "metadata": {},
   "outputs": [
    {
     "name": "stdout",
     "output_type": "stream",
     "text": [
      "\n",
      "\tRevocacao   Precisao   F-medida   Classe\n",
      "\t0.868       0.662      0.751      0\n",
      "\t0.533       0.794      0.638      1\n",
      "\t------------------------------------------------\n",
      "\t0.701       0.728      0.714      Média macro\n",
      "\t0.705       0.705      0.705      Média micro\n",
      "\n",
      "\tAcuracia: 0.705\n"
     ]
    }
   ],
   "source": [
    "classes = np.unique(Y)\n",
    "auxResults = anl.relatorioDesempenho(Yval, Ypred, classes, imprimeRelatorio=True)"
   ]
  },
  {
   "cell_type": "code",
   "execution_count": 11,
   "metadata": {},
   "outputs": [],
   "source": [
    "def curva_aprendizado(X, Y, Xval, Yval):\n",
    "   \n",
    "    \"\"\"\n",
    "    Funcao usada gerar a curva de aprendizado.\n",
    "  \n",
    "    Parametros\n",
    "    ----------\n",
    "  \n",
    "    X : matriz com os dados de treinamento\n",
    "  \n",
    "    Y : vetor com as classes dos dados de treinamento\n",
    "  \n",
    "    Xval : matriz com os dados de validação\n",
    "  \n",
    "    Yval : vetor com as classes dos dados de validação\n",
    "  \n",
    "    \"\"\"\n",
    "\n",
    "    # inicializa as listas que guardarao a performance no treinamento e na validacao\n",
    "    perf_train = []\n",
    "    perf_val = []\n",
    "\n",
    "    classes = np.unique(Y)\n",
    "    \n",
    "    for i in range(10, len(Y)):\n",
    "        \n",
    "        probP, probN, pPos, pNeg = calcularProbabilidades(X[:i], Y[:i])\n",
    "        \n",
    "        Ypred, acuracia = predicao(X[:i], Y[:i], probP, probN, pPos, pNeg)\n",
    "        perf_train.append(acuracia)\n",
    "\n",
    "        Ypred, acuracia = predicao(Xval, Yval, probP, probN, pPos, pNeg)\n",
    "        perf_val.append(acuracia)\n",
    "\n",
    "\n",
    "    ##################################################################################\n",
    "       \n",
    "    # Define o tamanho da figura \n",
    "    plt.figure(figsize=(20,12))\n",
    "\n",
    "    # Plota os dados\n",
    "    plt.plot(perf_train, color='blue', linestyle='-', linewidth=1.5, label='Treino') \n",
    "    plt.plot(perf_val, color='red', linestyle='-', linewidth=1.5, label='Validação')\n",
    "\n",
    "    # Define os nomes do eixo x e do eixo y\n",
    "    plt.xlabel(r'# Qtd. de dados de treinamento',fontsize='x-large') \n",
    "    plt.ylabel(r'Acuracia',fontsize='x-large') \n",
    "\n",
    "    # Define o título do gráfico\n",
    "    plt.title(r'Curva de aprendizado', fontsize='x-large')\n",
    "\n",
    "    # Acrescenta um grid no gráfico\n",
    "    plt.grid(axis='both')\n",
    "\n",
    "    # Plota a legenda\n",
    "    plt.legend()\n",
    "    \n",
    "    plt.show()"
   ]
  },
  {
   "cell_type": "code",
   "execution_count": 12,
   "metadata": {},
   "outputs": [],
   "source": [
    "#curva_aprendizado(Xtrain, Ytrain, Xval, Yval)"
   ]
  }
 ],
 "metadata": {
  "kernelspec": {
   "display_name": "Python 3",
   "language": "python",
   "name": "python3"
  },
  "language_info": {
   "codemirror_mode": {
    "name": "ipython",
    "version": 3
   },
   "file_extension": ".py",
   "mimetype": "text/x-python",
   "name": "python",
   "nbconvert_exporter": "python",
   "pygments_lexer": "ipython3",
   "version": "3.6.8"
  }
 },
 "nbformat": 4,
 "nbformat_minor": 2
}
