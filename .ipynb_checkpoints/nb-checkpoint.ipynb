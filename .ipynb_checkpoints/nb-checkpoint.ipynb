{
 "cells": [
  {
   "cell_type": "code",
   "execution_count": 10,
   "metadata": {},
   "outputs": [
    {
     "name": "stdout",
     "output_type": "stream",
     "text": [
      "Vocabulário possui 10642 palavras!\n"
     ]
    }
   ],
   "source": [
    "import matplotlib.pyplot as plt\n",
    "import numpy as np\n",
    "import pandas as pd\n",
    "import pre_processing as pp\n",
    "import analysis as anl\n",
    "import pca\n",
    "\n",
    "category = 'dvd'\n",
    "\n",
    "hNeg = True #if true, add negative bigrams for negative reviews\n",
    "noun = False #if true, add nouns\n",
    "\n",
    "X, Y, vocabulary = pp.bow(category, hNeg, noun)\n",
    "\n",
    "print(\"Vocabulário possui \" + str(len(vocabulary)) + \" palavras!\")"
   ]
  },
  {
   "cell_type": "markdown",
   "metadata": {},
   "source": [
    "Separa os dados em treinamento e teste:"
   ]
  },
  {
   "cell_type": "code",
   "execution_count": 11,
   "metadata": {},
   "outputs": [],
   "source": [
    "# semente usada na randomizacao dos dados.\n",
    "randomSeed = 10 \n",
    "\n",
    "# gera os indices aleatorios que irao definir a ordem dos dados\n",
    "idx_perm = np.random.RandomState(randomSeed).permutation(range(len(Y)))\n",
    "\n",
    "# ordena os dados de acordo com os indices gerados aleatoriamente\n",
    "X2, Y2 = X[idx_perm, :], Y[idx_perm]\n",
    "\n",
    "#X2, Y2 = X[idx_perm, :], Y[idx_perm]\n",
    "\n",
    "pTrain = 0.8\n",
    "\n",
    "train_index, test_index = anl.stratified_holdOut(Y, pTrain)\n",
    "\n",
    "Xtrain, Xval = X2[train_index, :], X2[test_index, :]\n",
    "Ytrain, Yval = Y2[train_index], Y2[test_index]"
   ]
  },
  {
   "cell_type": "markdown",
   "metadata": {},
   "source": [
    "Seleciona features com método do chi-quadrado (baseado nos dados de treinamento):"
   ]
  },
  {
   "cell_type": "code",
   "execution_count": 12,
   "metadata": {},
   "outputs": [],
   "source": [
    "Xtrain, new_vocabulary, index = pp.chi2(Xtrain, Ytrain, vocabulary)\n",
    "Xval = Xval[:, index]"
   ]
  },
  {
   "cell_type": "code",
   "execution_count": 13,
   "metadata": {},
   "outputs": [
    {
     "name": "stdout",
     "output_type": "stream",
     "text": [
      "Número de features antes do chi-quadrado: 10642\n",
      "----------------------------------------\n",
      "Número de features após chi-quadrado: 713\n",
      "['anxiou', 'green', 'betti', 'unbeliev', 'vicki', 'regular', ('not', 'terribl'), 'stun', 'sum', 'evolv', 'overr', 'jake', 'recommend', 'freeman', ('not', 'singl'), 'sadli', 'andi', ('not', 'mind'), 'arrest', ('not', 'want'), 'gem', 'pornograph', 'smoke', ('not', 'found'), 'potti', 'turkish', 'no', 'golden', 'candl', 'grazia', 'owen', 'stalk', 'eventu', 'creat', 'pleasur', 'appar', 'erin', 'gut', 'huge', 'ensembl', 'tri', 'kern', 'highli', 'ident', 'scott', 'friendship', 'super', 'hate', ('not', 'give'), 'remain', 'touch', 'existenti', 'superbit', ('not', 'get'), 'palli', 'comfort', 'host', 'refresh', 'bore', 'trim', 'rang', 'new', 'purchas', 'ador', 'bitter', ('not', 'sure'), 'chatterli', ('not', 'wast'), 'worn', 'least', 'rickman', ('not', 'particularli'), ('not', 'let'), 'later', 'led', 'sadi', 'slightest', ('not', 'realist'), 'incubu', 'particip', ('not', 'excit'), ('not', 'take'), 'nauseat', 'enhanc', 'bare', 'lisbon', 'love', ('never', 'read'), 'search', 'basic', 'speak', 'rivet', 'gm', 'cheesi', 'dull', 'laughter', 'molli', 'lohan', 'regardless', ('not', 'act'), 'threshold', 'save', 'horrid', 'rent', 'talent', 'refus', 'fine', 'wayn', 'join', 'audio', ('not', 'well'), ('not', 'better'), 'terribl', ('not', 'includ'), 'encod', 'seamlessli', 'slap', ('not', 'forget'), 'lui', 'support', 'kane', 'worst', 'stage', 'transcend', ('not', 'happi'), 'crackhead', 'misfram', 'noir', 'verhoeven', 'comic', 'altman', 'aw', 'la', 'team', ('not', 'find'), 'nacho', 'not', 'regard', 'adventur', 'rob', 'ledwith', 'astair', ('not', 'right'), 'realist', 'elizabeth', 'latter', 'empti', 'billi', 'disappoint', ('not', 'realli'), 'vapid', 'bear', 'embarass', 'gorgeou', ('not', 'good'), 'fell', ('not', 'seen'), 'audibl', 'wander', 'name', 'fail', ('not', 'work'), 'deep', 'top', 'broadway', ('not', 'long'), 'care', ('not', 'great'), 'eve', 'cardio', ('not', 'impress'), 'nazi', 'pearl', 'resid', 'magnific', 'mckean', 'rural', 'butt', 'featur', ('not', 'worst'), 'nobodi', 'freeli', 'bodi', 'finian', 'fart', 'especi', 'bowl', 'uniqu', 'monti', 'dh', ('not', 'made'), 'sceen', 'atroci', 'vocal', 'fred', 'away', ('not', 'save'), 'power', 'owe', 'seinfeld', 'bergman', 'unpleas', 'west', 'benoit', 'mani', 'pride', 'unfunni', 'far', 'older', 'explain', 'offici', 'teacher', 'given', 'tyres', 'immort', 'definit', 'clive', 'idiot', 'ridicul', 'captiv', 'ray', 'repetit', 'carla', 'c', 'sharp', 'ii', 'hostil', 'favorit', 'liven', 'wahlberg', 'maher', 'previou', 'controversi', 'outstand', 'anim', ('not', 'stand'), 'fool', 'tale', 'view', 'asham', 'still', 'wong', 'raunchi', 'vol', 'smart', 'particular', 'fun', 'deani', 'find', 'crash', 'intact', 'ethic', 'experi', 'mayb', 'keith', 'feast', 'base', 'home', 'illustr', 'daili', 'hollow', 'rest', 'nwa', ('not', 'wait'), 'belong', 'chines', 'gotten', 'infecti', ('not', 'say'), 'closet', 'photo', ('not', 'need'), ('not', 'worth'), 'intens', 'ok', 'infatu', 'work', 'heard', 'drew', ('not', 'tri'), 'ulric', 'loveli', 'lopez', 'dismal', 'see', ('not', 'make'), 'championship', ('not', 'come'), ('not', 'said'), 'nomin', 'grossli', 'bother', 'johan', 'constantli', 'suffer', 'sorri', 'robert', 'struggl', 'briefcas', 'forgett', 'local', 'giovanna', 'nostalgia', 'rubbish', 'sokolow', 'prepar', 'last', 'streep', 'alfr', 'unfold', 'young', 'uninvolv', 'song', 'serial', ('not', 'miss'), ('not', 'know'), 'lost', 'lili', 'color', 'frame', 'pointless', 'close', 'vs', 'adrian', ('not', 'look'), 'popcorn', 'potenti', 'unforgiv', 'buy', 'differ', 'weak', 'laughabl', 'resurrect', 'hauk', 'person', 'marvel', ('never', 'realli'), ('not', 'watch'), 'flash', 'opposit', 'unfortun', 'henrik', 'dumptruck', 'classic', ('not', 'purchas'), 'grate', 'halari', 'solid', 'soul', 'abl', 'eric', 'crappi', 'rahad', 'surpris', ('not', 'see'), 'wonder', 'amazon', ('not', 'understand'), 'amaz', 'martin', 'aim', 'greed', 'star', 'excel', 'shore', 'diss', ('not', 'seem'), 'joeli', ('not', 'interest'), 'first', 'act', 'usa', 'son', 'luck', 'nishi', 'stray', 'delici', 'protect', 'strong', ('not', 'bother'), 'soft', 'hearst', 'excus', 'brought', 'leigh', 'expect', ('not', 'play'), 'vastli', 'nathan', 'suspens', 'freestyl', 'sometim', 'delight', 'geniu', 'awesom', 'ride', 'nonsens', 'kid', 'acuna', 'sublim', 'monoton', 'tomlin', 'ta', 'manipul', 'also', 'rear', 'rose', 'confirm', 'introduc', 'pretenti', 'dude', 'bad', 'chose', 'hayden', 'wors', 'wast', 'frida', 'great', 'fourth', 'deni', 'tediou', 'poignant', 'seem', 'documentari', 'fabul', 'even', 'nolt', 'cold', 'ken', ('not', 'not'), 'precinct', 'wood', 'cujo', 'hamburg', 'weird', ('not', 'read'), 'kazan', 'cheap', 'screenplay', 'lecter', 'shortli', ('not', 'put'), 'frank', 'relax', 'allow', 'agenda', 'trite', 'break', ('not', 'hold'), 'pauli', 'proud', 'karin', 'bonhoeff', 'woo', 'lynch', 'lux', 'felt', 'think', 'unforgett', ('not', 'enjoy'), 'america', 'alway', 'chicago', 'laid', 'finest', 'recal', 'enjoy', 'broken', 'barri', 'underr', 'hyster', 'appreci', 'includ', 'arriv', 'fight', 'hilari', 'ruin', 'mindless', 'wooden', 'sixteen', 'dirk', 'wherea', 'win', 'instead', 'terrorist', 'utterli', 'novic', 'magic', 'ferri', 'mediocr', 'hitler', 'rick', 'replay', 'lebowski', 'half', ('not', 'bad'), 'annoy', 'guest', 'horrend', 'contriv', 'nope', 'slaveri', ('not', 'buy'), ('never', 'seen'), 'teeth', ('not', 'expect'), 'boe', 'pfeiffer', 'glori', 'horribl', 'fonda', ('not', 'help'), 'score', 'impress', 'plaza', ('not', 'go'), ('not', 'even'), 'connelli', 'complet', 'passion', 'superbl', ('not', 'throw'), 'advis', 'wick', 'elimin', 'helen', 'poorli', 'suck', 'ingrid', 'better', 'regret', 'never', 'add', ('never', 'get'), 'gothic', 'poetic', 'soon', 'stop', 'retard', ('not', 'feel'), 'predict', 'nobl', 'expens', 'historian', 'defect', 'piti', 'stupid', 'down', 'alison', 'offer', 'shelton', 'lack', 'redeem', ('not', 'show'), 'flat', 'entertain', 'moiv', 'sybil', 'advertis', 'burn', 'combin', ('not', 'use'), 'wwi', ('not', 'care'), 'ski', 'extraordinari', 'cowboy', 'sting', 'uninspir', 'indic', 'kindergarten', 'lame', 'thrill', 'suppos', 'fairi', 'episod', 'doc', 'uaw', 'futurist', 'endless', 'samurai', 'western', 'newborn', ('not', 'scari'), 'clip', 'tune', ('not', 'quit'), ('not', 'think'), ('not', 'fall'), 'unconvinc', 'short', 'pathet', 'underappreci', 'blossom', 'terrifi', 'japanes', 'perfect', 'arrau', 'anniversari', 'unexplain', 'whatsoev', ('not', 'like'), 'greatest', 'heavi', 'extens', 'poor', 'want', 'fashion', 'asleep', 'deliv', ('not', 'recommend'), 'anonym', 'otherwis', 'moral', ('not', 'becom'), 'soviet', 'recogn', 'shaki', 'elmo', 'wwf', 'religi', 'peggi', 'kurosawa', 'offend', 'yoko', ('not', 'imagin'), 'san', ('not', 'rememb'), 'devast', 'cool', ('not', 'actual'), ('not', 'mean'), 'beauti', 'campbel', 'russel', 'music', ('not', 'engag'), 'frustrat', 'control', 'woodward', 'expertli', 'dumb', 'unexpect', 'learn', 'throw', 'italian', 'well', 'splendid', ('not', 'best'), 'vietnam', 'sensual', ('not', 'suppos'), 'best', ('not', 'keep'), 'insipid', 'read', ('not', 'enough'), 'slowli', 'salsa', 'choos', 'nice', 'crypt', 'fishburn', 'kinnear', ('not', 'realiz'), 'tornado', 'silent', 'deever', ('not', 'much'), ('not', 'believ'), 'fantast', 'gehri', ('not', 'dvd'), 'crap', 'suffici', 'play', 'childish', ('not', 'funni'), 'bigger', 'watchabl', 'forg', 'sweet', 'meant', 'ultim', 'summari', 'come', 'slave', 'repres', 'affair', 'say', 'tommi', 'unorigin', 'hook', ('not', 'deserv'), 'becom', 'izzard', 'lucki', 'respond', 'flair', 'afraid', 'aggriv', 'chill', 'terrif', 'paid', 'elia', ('not', 'yet'), 'superman', 'uninterest', 'superl', 'set', 'epic', 'heartwarm', 'sea']\n"
     ]
    }
   ],
   "source": [
    "print(\"Número de features antes do chi-quadrado: \" + str(len(vocabulary)))\n",
    "print(\"----------------------------------------\")\n",
    "print(\"Número de features após chi-quadrado: \" + str(len(new_vocabulary)))\n",
    "print(new_vocabulary)"
   ]
  },
  {
   "cell_type": "code",
   "execution_count": 14,
   "metadata": {},
   "outputs": [],
   "source": [
    "def calcularProbabilidades(X, Y):\n",
    "   \n",
    "    pPos = np.zeros(X.shape[1])\n",
    "    pNeg = np.zeros(X.shape[1])\n",
    "\n",
    "    pPos = X[(Y == 1)].sum(axis=0)/sum(Y == 1)\n",
    "    pNeg = X[(Y == 0)].sum(axis=0)/sum(Y == 0)\n",
    "    \n",
    "    \n",
    "    probPos = sum(Y==1)/len(Y) \n",
    "    probNeg = sum(Y==0)/len(Y)\n",
    "    \n",
    "    return probPos, probNeg, pPos, pNeg"
   ]
  },
  {
   "cell_type": "code",
   "execution_count": 15,
   "metadata": {},
   "outputs": [],
   "source": [
    "probP, probN, pPos, pNeg = calcularProbabilidades(Xtrain, Ytrain)"
   ]
  },
  {
   "cell_type": "code",
   "execution_count": 16,
   "metadata": {},
   "outputs": [],
   "source": [
    "def classificacao(x,probP,probN,pPos,pNeg):\n",
    "\n",
    "    classe = 0;\n",
    "    probPos= 0;\n",
    "    probNeg = 0;\n",
    "\n",
    "    x = x.toarray()\n",
    "    probPos = probP * (pPos[(x != 0)]).prod() * (1 - pPos[(x == 0)]).prod()\n",
    "    probNeg = probN * (pNeg[(x != 0)]).prod() * (1 - pNeg[(x == 0)]).prod()\n",
    "    \n",
    "    classe = int(probPos >= probNeg)\n",
    "\n",
    "    return classe"
   ]
  },
  {
   "cell_type": "code",
   "execution_count": 17,
   "metadata": {},
   "outputs": [],
   "source": [
    "def predicao(Xval, Yval, probP, probN, pPos, pNeg):\n",
    "    \n",
    "    Ypred = []\n",
    "    for i in range(Xval.shape[0]):\n",
    "        y = classificacao(Xval[i], probP,probN,pPos,pNeg)\n",
    "        Ypred.append(y)\n",
    "\n",
    "    acuracia = np.sum(Ypred==Yval)/len(Yval)\n",
    "    \n",
    "    return Ypred, acuracia"
   ]
  },
  {
   "cell_type": "code",
   "execution_count": 18,
   "metadata": {},
   "outputs": [
    {
     "name": "stdout",
     "output_type": "stream",
     "text": [
      "Acurácia é 75.0\n"
     ]
    }
   ],
   "source": [
    "Ypred, acuracia = predicao(Xval, Yval, probP, probN, pPos, pNeg)\n",
    "print(\"Acurácia é \" + str(acuracia*100))"
   ]
  },
  {
   "cell_type": "code",
   "execution_count": 19,
   "metadata": {},
   "outputs": [
    {
     "name": "stdout",
     "output_type": "stream",
     "text": [
      "\n",
      "\tRevocacao   Precisao   F-medida   Classe\n",
      "\t0.859       0.713      0.779      0\n",
      "\t0.636       0.810      0.713      1\n",
      "\t------------------------------------------------\n",
      "\t0.747       0.762      0.754      Média macro\n",
      "\t0.750       0.750      0.750      Média micro\n",
      "\n",
      "\tAcuracia: 0.750\n"
     ]
    }
   ],
   "source": [
    "classes = np.unique(Y)\n",
    "auxResults = anl.relatorioDesempenho(Yval, Ypred, classes, imprimeRelatorio=True)"
   ]
  },
  {
   "cell_type": "code",
   "execution_count": 20,
   "metadata": {},
   "outputs": [],
   "source": [
    "def curva_aprendizado(X, Y, Xval, Yval):\n",
    "   \n",
    "    \"\"\"\n",
    "    Funcao usada gerar a curva de aprendizado.\n",
    "  \n",
    "    Parametros\n",
    "    ----------\n",
    "  \n",
    "    X : matriz com os dados de treinamento\n",
    "  \n",
    "    Y : vetor com as classes dos dados de treinamento\n",
    "  \n",
    "    Xval : matriz com os dados de validação\n",
    "  \n",
    "    Yval : vetor com as classes dos dados de validação\n",
    "  \n",
    "    \"\"\"\n",
    "\n",
    "    # inicializa as listas que guardarao a performance no treinamento e na validacao\n",
    "    perf_train = []\n",
    "    perf_val = []\n",
    "\n",
    "    classes = np.unique(Y)\n",
    "    \n",
    "    for i in range(10, len(Y)):\n",
    "        \n",
    "        probP, probN, pPos, pNeg = calcularProbabilidades(X[:i], Y[:i])\n",
    "        \n",
    "        Ypred, acuracia = predicao(X[:i], Y[:i], probP, probN, pPos, pNeg)\n",
    "        perf_train.append(acuracia)\n",
    "\n",
    "        Ypred, acuracia = predicao(Xval, Yval, probP, probN, pPos, pNeg)\n",
    "        perf_val.append(acuracia)\n",
    "\n",
    "\n",
    "    ##################################################################################\n",
    "       \n",
    "    # Define o tamanho da figura \n",
    "    plt.figure(figsize=(20,12))\n",
    "\n",
    "    # Plota os dados\n",
    "    plt.plot(perf_train, color='blue', linestyle='-', linewidth=1.5, label='Treino') \n",
    "    plt.plot(perf_val, color='red', linestyle='-', linewidth=1.5, label='Validação')\n",
    "\n",
    "    # Define os nomes do eixo x e do eixo y\n",
    "    plt.xlabel(r'# Qtd. de dados de treinamento',fontsize='x-large') \n",
    "    plt.ylabel(r'Acuracia',fontsize='x-large') \n",
    "\n",
    "    # Define o título do gráfico\n",
    "    plt.title(r'Curva de aprendizado', fontsize='x-large')\n",
    "\n",
    "    # Acrescenta um grid no gráfico\n",
    "    plt.grid(axis='both')\n",
    "\n",
    "    # Plota a legenda\n",
    "    plt.legend()\n",
    "    \n",
    "    plt.show()"
   ]
  },
  {
   "cell_type": "code",
   "execution_count": 21,
   "metadata": {},
   "outputs": [],
   "source": [
    "#curva_aprendizado(Xtrain, Ytrain, Xval, Yval)"
   ]
  },
  {
   "cell_type": "code",
   "execution_count": null,
   "metadata": {},
   "outputs": [],
   "source": []
  },
  {
   "cell_type": "code",
   "execution_count": 25,
   "metadata": {},
   "outputs": [
    {
     "name": "stdout",
     "output_type": "stream",
     "text": [
      "\n",
      "\tRevocacao   Precisao   F-medida   Classe\n",
      "\t0.866       0.686      0.766      0\n",
      "\t0.596       0.814      0.688      1\n",
      "\t------------------------------------------------\n",
      "\t0.731       0.750      0.740      Média macro\n",
      "\t0.733       0.733      0.733      Média micro\n",
      "\n",
      "\tAcuracia: 0.733\n",
      "\n",
      "\tRevocacao   Precisao   F-medida   Classe\n",
      "\t0.886       0.687      0.774      0\n",
      "\t0.623       0.854      0.721      1\n",
      "\t------------------------------------------------\n",
      "\t0.755       0.771      0.762      Média macro\n",
      "\t0.750       0.750      0.750      Média micro\n",
      "\n",
      "\tAcuracia: 0.750\n",
      "\n",
      "\tRevocacao   Precisao   F-medida   Classe\n",
      "\t0.859       0.676      0.757      0\n",
      "\t0.592       0.810      0.684      1\n",
      "\t------------------------------------------------\n",
      "\t0.726       0.743      0.734      Média macro\n",
      "\t0.725       0.725      0.725      Média micro\n",
      "\n",
      "\tAcuracia: 0.725\n",
      "\n",
      "\tRevocacao   Precisao   F-medida   Classe\n",
      "\t0.896       0.679      0.773      0\n",
      "\t0.573       0.844      0.683      1\n",
      "\t------------------------------------------------\n",
      "\t0.734       0.762      0.748      Média macro\n",
      "\t0.735       0.735      0.735      Média micro\n",
      "\n",
      "\tAcuracia: 0.735\n",
      "\n",
      "\tRevocacao   Precisao   F-medida   Classe\n",
      "\t0.859       0.713      0.779      0\n",
      "\t0.636       0.810      0.713      1\n",
      "\t------------------------------------------------\n",
      "\t0.747       0.762      0.754      Média macro\n",
      "\t0.750       0.750      0.750      Média micro\n",
      "\n",
      "\tAcuracia: 0.750\n",
      "\n",
      "\tRevocacao   Precisao   F-medida   Classe\n",
      "\t0.873       0.688      0.770      0\n",
      "\t0.604       0.827      0.698      1\n",
      "\t---------------------------------------------------------------------\n",
      "\t0.739       0.757      0.748      Média macro\n",
      "\t0.738       0.738      0.738      Média micro\n",
      "\n",
      "\tAcuracia: 0.738\n"
     ]
    }
   ],
   "source": [
    "import k_folds as kf\n",
    "fold = kf.stratified_kfolds(Y, 5, [0, 1])\n",
    "classes = [0,1]\n",
    "# cria uma lista vazia para guardar os resultados obtidos em cada fold\n",
    "resultados = []\n",
    "for train_index, test_index  in fold :\n",
    "    \n",
    "    print('\\n-----------\\n%d-fold: \\n-----------\\n' % (k) )\n",
    "    \n",
    "    Xtrain, Xval = X2[train_index,:], X2[test_index, :]\n",
    "    Ytrain, Yval = Y2[train_index], Y2[test_index]\n",
    "    \n",
    "    Xtrain, new_vocabulary, index = pp.chi2(Xtrain, Ytrain, vocabulary)\n",
    "    Xval = Xval[:, index]\n",
    "    \n",
    "    probP, probN, pPos, pNeg = calcularProbabilidades(Xtrain, Ytrain)\n",
    "    result, acuracia = predicao(Xval, Yval, probP, probN, pPos, pNeg)\n",
    "    #print(result)\n",
    "    #cm = kf.get_confusionMatrix(Yval, result, classes)\n",
    "    auxResults = anl.relatorioDesempenho(Yval,result, classes, imprimeRelatorio=True)\n",
    "    resultados.append( auxResults )\n",
    "    \n",
    "kf.mediaFolds( resultados, [0,1] )  "
   ]
  },
  {
   "cell_type": "code",
   "execution_count": null,
   "metadata": {},
   "outputs": [],
   "source": []
  }
 ],
 "metadata": {
  "kernelspec": {
   "display_name": "Python 3",
   "language": "python",
   "name": "python3"
  },
  "language_info": {
   "codemirror_mode": {
    "name": "ipython",
    "version": 3
   },
   "file_extension": ".py",
   "mimetype": "text/x-python",
   "name": "python",
   "nbconvert_exporter": "python",
   "pygments_lexer": "ipython3",
   "version": "3.6.7"
  }
 },
 "nbformat": 4,
 "nbformat_minor": 2
}
