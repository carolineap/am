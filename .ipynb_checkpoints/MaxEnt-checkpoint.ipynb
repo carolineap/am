{
 "cells": [
  {
   "cell_type": "code",
   "execution_count": null,
   "metadata": {},
   "outputs": [],
   "source": [
    "import matplotlib.pyplot as plt\n",
    "import numpy as np\n",
    "import pandas as pd\n",
    "import pre_processing as pp\n",
    "import analysis as anl\n",
    "import scipy.optimize\n",
    "\n",
    "category = 'test'\n",
    "vocabulary = []\n",
    "X, Y, vocabulary = pp.bow(category)"
   ]
  },
  {
   "cell_type": "code",
   "execution_count": 32,
   "metadata": {},
   "outputs": [
    {
     "name": "stdout",
     "output_type": "stream",
     "text": [
      "[[0 0 0 ..., 0 0 0]\n",
      " [0 0 0 ..., 0 0 0]\n",
      " [0 0 0 ..., 0 0 0]\n",
      " ..., \n",
      " [0 0 0 ..., 0 0 0]\n",
      " [0 0 0 ..., 0 0 0]\n",
      " [0 0 0 ..., 0 0 0]]\n"
     ]
    }
   ],
   "source": [
    "# semente usada na randomizacao dos dados.\n",
    "randomSeed = 10 \n",
    "\n",
    "# gera os indices aleatorios que irao definir a ordem dos dados\n",
    "idx_perm = np.random.RandomState(randomSeed).permutation(range(len(Y)))\n",
    "\n",
    "# ordena os dados de acordo com os indices gerados aleatoriamente\n",
    "X2, Y2 = X[idx_perm, :], Y[idx_perm]\n",
    "\n",
    "#X2, Y2 = X[idx_perm, :], Y[idx_perm]\n",
    "\n",
    "pTrain = 0.8\n",
    "\n",
    "train_index, test_index = anl.stratified_holdOut(Y, pTrain)\n",
    "\n",
    "Xtrain, Xval = X2[train_index, :], X2[test_index, :]\n",
    "print(Xtrain)\n",
    "Ytrain, Yval = Y2[train_index], Y2[test_index]"
   ]
  },
  {
   "cell_type": "code",
   "execution_count": 33,
   "metadata": {},
   "outputs": [
    {
     "name": "stdout",
     "output_type": "stream",
     "text": [
      "['recommend', 'well', 'entir']\n",
      "[11 11  7]\n",
      "33\n",
      "[0 0 1 1 1 0 1 1 1 1 0 1 0 0 1 1 0 0 1 0 0 0 1 0 1 0 1 1 1 0 1 0 0 1 0 0 0\n",
      " 1 1 0 1 1 1 0 0 1 1 0 0 1 0 0 1 1 0 0 0 1 0 0 1 1 1 1]\n"
     ]
    }
   ],
   "source": [
    "alpha = 0.05\n",
    "Xtrain, new_vocabulary, selected = pp.select_c2(Xtrain, Ytrain, vocabulary, alpha)\n",
    "print(new_vocabulary)\n",
    "print(Xtrain.sum(axis=0))\n",
    "print(sum(Ytrain == 1))\n",
    "print(Ytrain)\n",
    "Xval = Xval[:, selected]"
   ]
  },
  {
   "cell_type": "code",
   "execution_count": 37,
   "metadata": {},
   "outputs": [
    {
     "name": "stdout",
     "output_type": "stream",
     "text": [
      "[ 0.44444444  0.55555556  0.        ]\n",
      "[ 0.27272727  0.09090909  0.63636364]\n"
     ]
    }
   ],
   "source": [
    "def calcularfeature(X, Y) :\n",
    "    \n",
    "    #Pega a quantida ocorrencia em cada palavra/pela quantidade de palavras\n",
    "    pPos = X[(Y == 1)].sum(axis=0)/(X[(Y==1)].sum())\n",
    "    pNeg = X[(Y == 0)].sum(axis=0)/(X[(Y==0)].sum())\n",
    "    \n",
    "    print(pPos)\n",
    "    print(pNeg)\n",
    "\n",
    "    return pPos,pNeg"
   ]
  },
  {
   "cell_type": "code",
   "execution_count": null,
   "metadata": {},
   "outputs": [],
   "source": [
    "def calcularprob(theta,p,Y) :\n",
    "    prob = np.zeros(X.shape[1])\n",
    "    \n",
    "    Z = sum(np.exp(theta * p))\n",
    "    \n",
    "    prob = (1/Z) * exp(theta * p)\n",
    "    \n",
    "    return -prob\n",
    "    "
   ]
  },
  {
   "cell_type": "code",
   "execution_count": null,
   "metadata": {},
   "outputs": [],
   "source": [
    "pPos, pNeg = calcularfeature(Xtrain,Ytrain)\n",
    "\n",
    "iteracoes = 50\n",
    "theta = np.zeros(pPos.shape)\n",
    "# minimiza a funcao de custo\n",
    "resultpos = scipy.optimize.minimize(fun=calcularprob, x0=theta, args=(pPos, Ytrain),  \n",
    "                            method='BFGS', jac=True, options={'maxiter': iteracoes, 'disp':True})\n",
    "# minimiza a funcao de custo\n",
    "resultneg = scipy.optimize.minimize(fun=calcularprob, x0=theta, args=(pNeg, Ytrain),  \n",
    "                            method='BFGS', jac=True, options={'maxiter': iteracoes, 'disp':True})\n",
    "\n"
   ]
  },
  {
   "cell_type": "code",
   "execution_count": null,
   "metadata": {},
   "outputs": [],
   "source": [
    "def classificacao(x,probP,probN,pPos,pNeg):\n",
    "\n",
    "    classe = 0;\n",
    "    probPos= 0;\n",
    "    probNeg = 0;\n",
    "    \n",
    "    \n",
    "\n",
    "    probPos = probP * (pPos[(x != 0)]).prod() * (1 - pPos[(x == 0)]).prod()\n",
    "    probNeg = probN * (pNeg[(x != 0)]).prod() * (1 - pNeg[(x == 0)]).prod()\n",
    "    \n",
    "    classe = int(probPos >= probNeg)\n",
    "\n",
    "    return classe"
   ]
  }
 ],
 "metadata": {
  "kernelspec": {
   "display_name": "Python 3",
   "language": "python",
   "name": "python3"
  },
  "language_info": {
   "codemirror_mode": {
    "name": "ipython",
    "version": 3
   },
   "file_extension": ".py",
   "mimetype": "text/x-python",
   "name": "python",
   "nbconvert_exporter": "python",
   "pygments_lexer": "ipython3",
   "version": "3.6.7"
  }
 },
 "nbformat": 4,
 "nbformat_minor": 2
}
