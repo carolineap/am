{
 "cells": [
  {
   "cell_type": "code",
   "execution_count": 1,
   "metadata": {},
   "outputs": [
    {
     "name": "stdout",
     "output_type": "stream",
     "text": [
      "Vocabulário possui 10642 palavras!\n"
     ]
    }
   ],
   "source": [
    "import matplotlib.pyplot as plt\n",
    "import numpy as np\n",
    "import pandas as pd\n",
    "import pre_processing as pp\n",
    "import analysis as anl\n",
    "import pca\n",
    "\n",
    "category = 'dvd'\n",
    "\n",
    "hNeg = True #if true, add negative bigrams for negative reviews\n",
    "noun = False #if true, add nouns\n",
    "\n",
    "X, Y, vocabulary = pp.bow(category, hNeg, noun)\n",
    "\n",
    "print(\"Vocabulário possui \" + str(len(vocabulary)) + \" palavras!\")"
   ]
  },
  {
   "cell_type": "markdown",
   "metadata": {},
   "source": [
    "Separa os dados em treinamento e teste:"
   ]
  },
  {
   "cell_type": "code",
   "execution_count": 2,
   "metadata": {},
   "outputs": [],
   "source": [
    "# semente usada na randomizacao dos dados.\n",
    "randomSeed = 10 \n",
    "\n",
    "# gera os indices aleatorios que irao definir a ordem dos dados\n",
    "idx_perm = np.random.RandomState(randomSeed).permutation(range(len(Y)))\n",
    "\n",
    "# ordena os dados de acordo com os indices gerados aleatoriamente\n",
    "X2, Y2 = X[idx_perm, :], Y[idx_perm]\n",
    "\n",
    "#X2, Y2 = X[idx_perm, :], Y[idx_perm]\n",
    "\n",
    "pTrain = 0.8\n",
    "\n",
    "train_index, test_index = anl.stratified_holdOut(Y, pTrain)\n",
    "\n",
    "Xtrain, Xval = X2[train_index, :], X2[test_index, :]\n",
    "Ytrain, Yval = Y2[train_index], Y2[test_index]"
   ]
  },
  {
   "cell_type": "markdown",
   "metadata": {},
   "source": [
    "Seleciona features com método do chi-quadrado (baseado nos dados de treinamento):"
   ]
  },
  {
   "cell_type": "code",
   "execution_count": 3,
   "metadata": {},
   "outputs": [],
   "source": [
    "Xtrain, new_vocabulary, index = pp.chi2(Xtrain, Ytrain, vocabulary)\n",
    "Xval = Xval[:, index]"
   ]
  },
  {
   "cell_type": "code",
   "execution_count": 4,
   "metadata": {},
   "outputs": [
    {
     "name": "stdout",
     "output_type": "stream",
     "text": [
      "Número de features antes do chi-quadrado: 10642\n",
      "----------------------------------------\n",
      "Número de features após chi-quadrado: 713\n",
      "['grazia', 'rural', 'hollow', 'mckean', 'immort', 'find', 'woodward', 'fourth', 'woo', 'host', 'ethic', ('not', 'seen'), 'freestyl', 'raunchi', 'briefcas', 'arrest', 'hate', 'manipul', 'sadi', 'respond', 'robert', ('not', 'help'), 'ridicul', 'misfram', 'dismal', 'slave', 'sadli', 'local', ('not', 'need'), 'arrau', 'turkish', 'think', 'ultim', 'experi', ('not', 'buy'), ('not', 'expect'), 'devast', ('not', 'use'), 'russel', 'belong', 'anim', ('not', 'scari'), ('not', 'includ'), 'san', 'kurosawa', 'mani', 'molli', 'clive', 'carla', ('not', 'particularli'), 'terribl', 'surpris', ('never', 'get'), 'finest', 'audio', 'gehri', 'novic', 'stray', 'aw', 'win', 'episod', 'thrill', 'trite', 'unforgiv', 'disappoint', ('not', 'better'), 'set', 'broadway', 'bitter', 'splendid', 'vocal', 'unpleas', ('not', 'mind'), ('not', 'make'), 'connelli', 'uninterest', ('not', 'recommend'), 'basic', 'introduc', 'embarass', 'championship', 'astair', 'serial', 'tommi', 'home', 'person', 'hook', 'particip', 'eric', 'elizabeth', 'annoy', ('not', 'actual'), 'potti', 'magic', 'lynch', 'work', 'worn', 'rang', 'whatsoev', ('not', 'imagin'), 'ray', 'eve', ('not', 'bother'), 'remain', 'alfr', 'includ', 'add', 'bonhoeff', ('not', 'excit'), 'jake', 'owen', 'elimin', 'horrend', 'definit', 'expect', 'slowli', 'stage', ('not', 'yet'), 'lili', 'vol', 'music', 'vietnam', 'fantast', 'replay', 'controversi', ('not', 'understand'), ('not', 'see'), ('not', 'quit'), 'gotten', ('not', 'enjoy'), ('not', 'worst'), ('never', 'seen'), 'soul', 'incubu', 'gem', 'noir', 'freeman', ('not', 'singl'), 'sokolow', 'laid', 'extraordinari', 'acuna', 'favorit', ('not', 'good'), 'wwi', 'fishburn', 'dull', 'unorigin', 'vapid', ('not', 'get'), 'uniqu', ('not', 'even'), 'heartwarm', 'cool', 'rick', 'sorri', 'featur', 'dh', 'forgett', 'expens', 'flair', 'peggi', 'usa', 'deliv', 'laughabl', 'nathan', 'ski', 'cold', 'underr', 'ruin', ('not', 'great'), 'alison', 'unfortun', 'slaveri', 'closet', 'star', 'poignant', 'poetic', 'enjoy', 'hyster', 'fashion', 'lucki', 'chicago', 'lohan', ('not', 'feel'), 'repetit', 'pornograph', 'fine', 'bare', 'fonda', 'bother', 'barri', 'lecter', 'encod', 'helen', 'utterli', 'offend', 'kern', 'flash', 'johan', 'aim', 'alway', 'nope', ('not', 'come'), 'sharp', 'pauli', 'later', 'slightest', 'pfeiffer', 'son', ('not', 'miss'), 'pearl', 'newborn', 'suppos', 'break', 'superl', 'west', ('not', 'read'), 'advertis', 'unexpect', 'cheesi', 'great', ('not', 'happi'), 'delici', 'name', 'billi', ('not', 'find'), 'tediou', 'ador', 'agenda', ('not', 'keep'), 'terrifi', 'infatu', 'rose', 'enhanc', ('not', 'best'), 'regard', 'recogn', 'smart', 'advis', 'ii', 'nobodi', 'intact', 'deever', ('not', 'wast'), ('not', 'act'), 'henrik', 'lux', 'existenti', 'pleasur', 'seinfeld', 'adventur', 'slap', 'soft', 'greed', 'paid', 'underappreci', 'transcend', 'marvel', 'dumptruck', 'love', 'nolt', 'kazan', 'lack', 'unfold', 'care', ('not', 'look'), 'kindergarten', 'vastli', 'see', ('not', 'deserv'), 'grate', ('not', 'rememb'), 'shore', ('not', 'found'), 'vicki', 'freeli', 'la', 'best', 'well', 'moral', 'overr', 'halari', 'differ', 'kid', 'gm', 'horribl', 'teacher', 'frustrat', ('not', 'know'), ('not', 'show'), ('not', 'sure'), ('not', 'realli'), 'ta', 'buy', ('not', 'fall'), 'grossli', 'liven', 'owe', 'sixteen', 'friendship', 'mayb', 'wwf', 'piti', 'deep', 'suffer', 'hitler', 'tri', 'blossom', ('not', 'think'), 'screenplay', 'fail', 'asham', 'doc', 'childish', 'wahlberg', ('not', 'care'), 'seamlessli', ('not', 'realiz'), 'nishi', 'nacho', 'verhoeven', 'huge', 'instead', 'soviet', 'come', 'western', 'speak', ('not', 'let'), 'altman', 'watchabl', ('not', 'said'), 'otherwis', 'defect', 'no', 'intens', 'futurist', 'especi', ('not', 'not'), 'feast', 'nauseat', 'support', 'stalk', 'potenti', 'streep', 'america', 'combin', 'monti', 'adrian', 'audibl', ('never', 'realli'), 'insipid', 'erin', 'wander', 'boe', 'constantli', 'rest', 'crappi', 'seem', 'explain', 'becom', 'regardless', 'sensual', 'fabul', 'asleep', ('not', 'work'), 'frame', 'bad', 'uaw', 'trim', 'benoit', 'refus', 'pride', 'latter', ('not', 'stand'), 'summari', 'c', 'affair', 'solid', 'cowboy', 'talent', 'izzard', 'wast', 'finian', 'previou', 'awesom', ('not', 'like'), 'power', 'also', 'wayn', ('not', 'want'), 'contriv', 'resurrect', 'weird', 'base', 'wonder', 'recommend', 'flat', 'suspens', 'sublim', 'endless', 'magnific', 'sybil', ('not', 'terribl'), 'hauk', 'dumb', 'stupid', ('not', 'made'), 'play', 'ride', 'amaz', 'daili', 'anxiou', ('not', 'wait'), 'tomlin', 'lost', ('not', 'play'), 'greatest', ('not', 'watch'), 'heard', 'excus', 'even', 'opposit', 'andi', 'hilari', 'lame', 'redeem', 'sea', ('not', 'throw'), 'comfort', 'comic', 'chines', 'given', 'lebowski', 'act', ('not', 'mean'), 'suck', 'heavi', 'ken', 'keith', 'superbit', 'classic', 'far', 'arriv', 'short', 'pathet', ('not', 'becom'), 'expertli', 'hearst', ('not', 'go'), 'close', 'bigger', 'suffici', 'frida', 'appreci', 'shortli', 'allow', 'smoke', 'ensembl', 'cardio', 'throw', 'search', 'never', 'uninvolv', 'meant', 'empti', 'butt', 'team', 'fell', 'campbel', 'golden', 'lopez', 'scott', 'impress', ('not', 'say'), 'idiot', 'photo', ('not', 'enough'), ('not', 'purchas'), 'superbl', 'indic', 'uninspir', 'fred', 'strong', ('not', 'well'), 'burn', 'betti', 'outstand', 'delight', 'excel', 'nonsens', 'joeli', 'candl', 'least', 'regular', 'stop', ('not', 'bad'), 'purchas', 'not', 'beauti', 'sting', 'proud', 'teeth', 'tornado', 'deani', ('not', 'take'), ('not', 'funni'), 'sweet', 'gut', 'highli', 'loveli', 'confirm', 'forg', 'elmo', 'dirk', ('not', 'believ'), 'historian', 'horrid', 'ledwith', 'laughter', ('never', 'read'), 'bore', 'tune', 'bowl', 'half', 'yoko', 'away', 'perfect', 'refresh', 'dude', 'popcorn', 'captiv', 'crackhead', ('not', 'save'), 'anniversari', 'touch', 'wood', 'fairi', 'resid', 'chatterli', 'ok', 'salsa', 'say', ('not', 'dvd'), 'nobl', 'nice', 'sum', 'gorgeou', ('not', 'seem'), 'italian', 'guest', 'extens', 'young', 'hostil', 'geniu', 'wors', 'particular', ('not', 'tri'), 'creat', 'sometim', 'rivet', 'nostalgia', 'vs', 'elia', 'crash', ('not', 'give'), 'ulric', 'illustr', 'offer', 'afraid', 'realist', 'eventu', 'join', 'repres', ('not', 'much'), 'bear', 'choos', 'passion', 'gothic', 'mediocr', 'amazon', 'predict', 'bodi', 'abl', 'moiv', 'crypt', 'song', 'save', 'maher', 'fight', 'retard', 'hamburg', 'unfunni', 'plaza', 'lisbon', 'unconvinc', 'read', 'aggriv', 'worst', 'superman', 'tyres', 'chose', 'super', 'hayden', 'nazi', 'shelton', 'samurai', 'bergman', ('not', 'realist'), 'weak', 'rear', 'led', 'fun', 'pointless', ('not', 'forget'), 'threshold', 'unexplain', 'martin', 'struggl', 'recal', 'wick', 'frank', 'shaki', 'older', 'still', 'complet', 'karin', 'cujo', 'japanes', ('not', 'impress'), 'wherea', 'glori', 'new', 'anonym', 'wong', 'tale', 'view', ('not', 'suppos'), 'learn', 'wooden', 'green', 'diss', 'atroci', 'sceen', 'top', 'stun', 'religi', 'ferri', 'mindless', ('not', 'hold'), 'score', ('not', 'worth'), 'felt', 'ident', 'offici', 'terrorist', 'first', 'chill', 'brought', 'unbeliev', 'documentari', 'control', 'monoton', 'color', 'leigh', 'want', 'terrif', 'clip', 'kane', 'nwa', 'rickman', 'rubbish', 'kinnear', 'luck', 'soon', 'appar', 'relax', 'prepar', 'better', 'fart', 'giovanna', 'evolv', 'crap', 'lui', 'rent', 'deni', 'rahad', 'epic', 'nomin', 'cheap', 'poor', 'precinct', 'entertain', 'last', ('not', 'engag'), 'infecti', 'drew', 'silent', ('not', 'put'), ('not', 'right'), 'poorli', 'pretenti', 'fool', 'broken', 'regret', 'unforgett', ('not', 'long'), 'protect', 'down', ('not', 'interest'), 'rob', 'ingrid', 'palli']\n"
     ]
    }
   ],
   "source": [
    "print(\"Número de features antes do chi-quadrado: \" + str(len(vocabulary)))\n",
    "print(\"----------------------------------------\")\n",
    "print(\"Número de features após chi-quadrado: \" + str(len(new_vocabulary)))\n",
    "print(new_vocabulary)"
   ]
  },
  {
   "cell_type": "code",
   "execution_count": 5,
   "metadata": {},
   "outputs": [],
   "source": [
    "def calcularProbabilidades(X, Y):\n",
    "   \n",
    "    pPos = np.zeros(X.shape[1])\n",
    "    pNeg = np.zeros(X.shape[1])\n",
    "\n",
    "    pPos = X[(Y == 1)].sum(axis=0)/sum(Y == 1)\n",
    "    pNeg = X[(Y == 0)].sum(axis=0)/sum(Y == 0)\n",
    "    \n",
    "    \n",
    "    probPos = sum(Y==1)/len(Y) \n",
    "    probNeg = sum(Y==0)/len(Y)\n",
    "    \n",
    "    return probPos, probNeg, pPos, pNeg"
   ]
  },
  {
   "cell_type": "code",
   "execution_count": 6,
   "metadata": {},
   "outputs": [],
   "source": [
    "probP, probN, pPos, pNeg = calcularProbabilidades(Xtrain, Ytrain)"
   ]
  },
  {
   "cell_type": "code",
   "execution_count": 7,
   "metadata": {},
   "outputs": [],
   "source": [
    "def classificacao(x,probP,probN,pPos,pNeg):\n",
    "\n",
    "    classe = 0;\n",
    "    probPos= 0;\n",
    "    probNeg = 0;\n",
    "\n",
    "    x = x.toarray()\n",
    "    probPos = probP * (pPos[(x != 0)]).prod() * (1 - pPos[(x == 0)]).prod()\n",
    "    probNeg = probN * (pNeg[(x != 0)]).prod() * (1 - pNeg[(x == 0)]).prod()\n",
    "    \n",
    "    classe = int(probPos >= probNeg)\n",
    "\n",
    "    return classe"
   ]
  },
  {
   "cell_type": "code",
   "execution_count": 8,
   "metadata": {},
   "outputs": [],
   "source": [
    "def predicao(Xval, Yval, probP, probN, pPos, pNeg):\n",
    "    \n",
    "    Ypred = []\n",
    "    for i in range(Xval.shape[0]):\n",
    "        y = classificacao(Xval[i], probP,probN,pPos,pNeg)\n",
    "        Ypred.append(y)\n",
    "\n",
    "    acuracia = np.sum(Ypred==Yval)/len(Yval)\n",
    "    \n",
    "    return Ypred, acuracia"
   ]
  },
  {
   "cell_type": "code",
   "execution_count": 9,
   "metadata": {},
   "outputs": [
    {
     "name": "stdout",
     "output_type": "stream",
     "text": [
      "Acurácia é 75.0\n"
     ]
    }
   ],
   "source": [
    "Ypred, acuracia = predicao(Xval, Yval, probP, probN, pPos, pNeg)\n",
    "print(\"Acurácia é \" + str(acuracia*100))"
   ]
  },
  {
   "cell_type": "code",
   "execution_count": 10,
   "metadata": {},
   "outputs": [
    {
     "name": "stdout",
     "output_type": "stream",
     "text": [
      "\n",
      "\tRevocacao   Precisao   F-medida   Classe\n",
      "\t0.859       0.713      0.779      0\n",
      "\t0.636       0.810      0.713      1\n",
      "\t------------------------------------------------\n",
      "\t0.747       0.762      0.754      Média macro\n",
      "\t0.750       0.750      0.750      Média micro\n",
      "\n",
      "\tAcuracia: 0.750\n"
     ]
    }
   ],
   "source": [
    "classes = np.unique(Y)\n",
    "auxResults = anl.relatorioDesempenho(Yval, Ypred, classes, imprimeRelatorio=True)"
   ]
  },
  {
   "cell_type": "code",
   "execution_count": 11,
   "metadata": {},
   "outputs": [],
   "source": [
    "def curva_aprendizado(X, Y, Xval, Yval):\n",
    "   \n",
    "    \"\"\"\n",
    "    Funcao usada gerar a curva de aprendizado.\n",
    "  \n",
    "    Parametros\n",
    "    ----------\n",
    "  \n",
    "    X : matriz com os dados de treinamento\n",
    "  \n",
    "    Y : vetor com as classes dos dados de treinamento\n",
    "  \n",
    "    Xval : matriz com os dados de validação\n",
    "  \n",
    "    Yval : vetor com as classes dos dados de validação\n",
    "  \n",
    "    \"\"\"\n",
    "\n",
    "    # inicializa as listas que guardarao a performance no treinamento e na validacao\n",
    "    perf_train = []\n",
    "    perf_val = []\n",
    "\n",
    "    classes = np.unique(Y)\n",
    "    \n",
    "    for i in range(10, len(Y)):\n",
    "        \n",
    "        probP, probN, pPos, pNeg = calcularProbabilidades(X[:i], Y[:i])\n",
    "        \n",
    "        Ypred, acuracia = predicao(X[:i], Y[:i], probP, probN, pPos, pNeg)\n",
    "        perf_train.append(acuracia)\n",
    "\n",
    "        Ypred, acuracia = predicao(Xval, Yval, probP, probN, pPos, pNeg)\n",
    "        perf_val.append(acuracia)\n",
    "\n",
    "\n",
    "    ##################################################################################\n",
    "       \n",
    "    # Define o tamanho da figura \n",
    "    plt.figure(figsize=(20,12))\n",
    "\n",
    "    # Plota os dados\n",
    "    plt.plot(perf_train, color='blue', linestyle='-', linewidth=1.5, label='Treino') \n",
    "    plt.plot(perf_val, color='red', linestyle='-', linewidth=1.5, label='Validação')\n",
    "\n",
    "    # Define os nomes do eixo x e do eixo y\n",
    "    plt.xlabel(r'# Qtd. de dados de treinamento',fontsize='x-large') \n",
    "    plt.ylabel(r'Acuracia',fontsize='x-large') \n",
    "\n",
    "    # Define o título do gráfico\n",
    "    plt.title(r'Curva de aprendizado', fontsize='x-large')\n",
    "\n",
    "    # Acrescenta um grid no gráfico\n",
    "    plt.grid(axis='both')\n",
    "\n",
    "    # Plota a legenda\n",
    "    plt.legend()\n",
    "    \n",
    "    plt.show()"
   ]
  },
  {
   "cell_type": "code",
   "execution_count": 12,
   "metadata": {},
   "outputs": [],
   "source": [
    "#curva_aprendizado(Xtrain, Ytrain, Xval, Yval)"
   ]
  },
  {
   "cell_type": "code",
   "execution_count": null,
   "metadata": {},
   "outputs": [],
   "source": []
  },
  {
   "cell_type": "code",
   "execution_count": 13,
   "metadata": {},
   "outputs": [
    {
     "name": "stdout",
     "output_type": "stream",
     "text": [
      "\n",
      "-----------\n",
      "1-fold: \n",
      "-----------\n",
      "\n",
      "\n",
      "\tRevocacao   Precisao   F-medida   Classe\n",
      "\t0.866       0.686      0.766      0\n",
      "\t0.596       0.814      0.688      1\n",
      "\t------------------------------------------------\n",
      "\t0.731       0.750      0.740      Média macro\n",
      "\t0.733       0.733      0.733      Média micro\n",
      "\n",
      "\tAcuracia: 0.733\n",
      "\n",
      "-----------\n",
      "2-fold: \n",
      "-----------\n",
      "\n",
      "\n",
      "\tRevocacao   Precisao   F-medida   Classe\n",
      "\t0.886       0.687      0.774      0\n",
      "\t0.623       0.854      0.721      1\n",
      "\t------------------------------------------------\n",
      "\t0.755       0.771      0.762      Média macro\n",
      "\t0.750       0.750      0.750      Média micro\n",
      "\n",
      "\tAcuracia: 0.750\n",
      "\n",
      "-----------\n",
      "3-fold: \n",
      "-----------\n",
      "\n",
      "\n",
      "\tRevocacao   Precisao   F-medida   Classe\n",
      "\t0.859       0.676      0.757      0\n",
      "\t0.592       0.810      0.684      1\n",
      "\t------------------------------------------------\n",
      "\t0.726       0.743      0.734      Média macro\n",
      "\t0.725       0.725      0.725      Média micro\n",
      "\n",
      "\tAcuracia: 0.725\n",
      "\n",
      "-----------\n",
      "4-fold: \n",
      "-----------\n",
      "\n",
      "\n",
      "\tRevocacao   Precisao   F-medida   Classe\n",
      "\t0.896       0.679      0.773      0\n",
      "\t0.573       0.844      0.683      1\n",
      "\t------------------------------------------------\n",
      "\t0.734       0.762      0.748      Média macro\n",
      "\t0.735       0.735      0.735      Média micro\n",
      "\n",
      "\tAcuracia: 0.735\n",
      "\n",
      "-----------\n",
      "5-fold: \n",
      "-----------\n",
      "\n",
      "\n",
      "\tRevocacao   Precisao   F-medida   Classe\n",
      "\t0.859       0.713      0.779      0\n",
      "\t0.636       0.810      0.713      1\n",
      "\t------------------------------------------------\n",
      "\t0.747       0.762      0.754      Média macro\n",
      "\t0.750       0.750      0.750      Média micro\n",
      "\n",
      "\tAcuracia: 0.750\n",
      "\n",
      "-----------\n",
      "Media-fold: \n",
      "-----------\n",
      "\n",
      "\n",
      "\tRevocacao   Precisao   F-medida   Classe\n",
      "\t0.873       0.688      0.770      0\n",
      "\t0.604       0.827      0.698      1\n",
      "\t---------------------------------------------------------------------\n",
      "\t0.739       0.757      0.748      Média macro\n",
      "\t0.738       0.738      0.738      Média micro\n",
      "\n",
      "\tAcuracia: 0.738\n"
     ]
    }
   ],
   "source": [
    "import k_folds as kf\n",
    "fold = kf.stratified_kfolds(Y, 5, [0, 1])\n",
    "classes = [0,1]\n",
    "# cria uma lista vazia para guardar os resultados obtidos em cada fold\n",
    "resultados = []\n",
    "k = 1\n",
    "for train_index, test_index  in fold :\n",
    "    \n",
    "    print('\\n-----------\\n%d-fold: \\n-----------\\n' % (k) )\n",
    "    \n",
    "    Xtrain, Xval = X2[train_index,:], X2[test_index, :]\n",
    "    Ytrain, Yval = Y2[train_index], Y2[test_index]\n",
    "    \n",
    "    Xtrain, new_vocabulary, index = pp.chi2(Xtrain, Ytrain, vocabulary)\n",
    "    Xval = Xval[:, index]\n",
    "    \n",
    "    probP, probN, pPos, pNeg = calcularProbabilidades(Xtrain, Ytrain)\n",
    "    result, acuracia = predicao(Xval, Yval, probP, probN, pPos, pNeg)\n",
    "    #print(result)\n",
    "    #cm = kf.get_confusionMatrix(Yval, result, classes)\n",
    "    auxResults = anl.relatorioDesempenho(Yval,result, classes, imprimeRelatorio=True)\n",
    "    resultados.append( auxResults )\n",
    "    k+=1\n",
    "    \n",
    "kf.mediaFolds( resultados, [0,1] )  "
   ]
  },
  {
   "cell_type": "code",
   "execution_count": null,
   "metadata": {},
   "outputs": [],
   "source": []
  }
 ],
 "metadata": {
  "kernelspec": {
   "display_name": "Python 3",
   "language": "python",
   "name": "python3"
  },
  "language_info": {
   "codemirror_mode": {
    "name": "ipython",
    "version": 3
   },
   "file_extension": ".py",
   "mimetype": "text/x-python",
   "name": "python",
   "nbconvert_exporter": "python",
   "pygments_lexer": "ipython3",
   "version": "3.6.7"
  }
 },
 "nbformat": 4,
 "nbformat_minor": 2
}
