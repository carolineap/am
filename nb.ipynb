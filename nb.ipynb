{
 "cells": [
  {
   "cell_type": "code",
   "execution_count": 1,
   "metadata": {},
   "outputs": [
    {
     "name": "stdout",
     "output_type": "stream",
     "text": [
      "Vocabulário possui 14632 palavras!\n"
     ]
    }
   ],
   "source": [
    "import matplotlib.pyplot as plt\n",
    "import numpy as np\n",
    "import pandas as pd\n",
    "import pre_processing as pp\n",
    "import analysis as anl\n",
    "import pca\n",
    "\n",
    "category = 'electronics'\n",
    "\n",
    "hNeg = False #if true, add negative bigrams for negative reviews\n",
    "noun = True #if true, add nouns\n",
    "\n",
    "X, Y, vocabulary = pp.bow(category, hNeg, noun)\n",
    "\n",
    "print(\"Vocabulário possui \" + str(len(vocabulary)) + \" palavras!\")"
   ]
  },
  {
   "cell_type": "markdown",
   "metadata": {},
   "source": [
    "Separa os dados em treinamento e teste:"
   ]
  },
  {
   "cell_type": "code",
   "execution_count": 2,
   "metadata": {},
   "outputs": [],
   "source": [
    "# semente usada na randomizacao dos dados.\n",
    "randomSeed = 10 \n",
    "\n",
    "# gera os indices aleatorios que irao definir a ordem dos dados\n",
    "idx_perm = np.random.RandomState(randomSeed).permutation(range(len(Y)))\n",
    "\n",
    "# ordena os dados de acordo com os indices gerados aleatoriamente\n",
    "X2, Y2 = X[idx_perm, :], Y[idx_perm]\n",
    "\n",
    "#X2, Y2 = X[idx_perm, :], Y[idx_perm]\n",
    "\n",
    "pTrain = 0.8\n",
    "\n",
    "train_index, test_index = anl.stratified_holdOut(Y, pTrain)\n",
    "\n",
    "Xtrain, Xval = X2[train_index, :], X2[test_index, :]\n",
    "Ytrain, Yval = Y2[train_index], Y2[test_index]"
   ]
  },
  {
   "cell_type": "markdown",
   "metadata": {},
   "source": [
    "Seleciona features com método do chi-quadrado (baseado nos dados de treinamento):"
   ]
  },
  {
   "cell_type": "code",
   "execution_count": 3,
   "metadata": {},
   "outputs": [],
   "source": [
    "# Xtrain, new_vocabulary, index = pp.chi2(Xtrain, Ytrain, vocabulary)\n",
    "# Xval = Xval[:, index]"
   ]
  },
  {
   "cell_type": "code",
   "execution_count": 4,
   "metadata": {},
   "outputs": [],
   "source": [
    "# print(\"Número de features antes do chi-quadrado: \" + str(len(vocabulary)))\n",
    "# print(\"----------------------------------------\")\n",
    "# print(\"Número de features após chi-quadrado: \" + str(len(new_vocabulary)))\n",
    "#print(new_vocabulary)"
   ]
  },
  {
   "cell_type": "code",
   "execution_count": 5,
   "metadata": {},
   "outputs": [],
   "source": [
    "def calcularProbabilidades(X, Y):\n",
    "   \n",
    "    pPos = np.zeros(X.shape[1])\n",
    "    pNeg = np.zeros(X.shape[1])\n",
    "\n",
    "    pPos = (X[(Y == 1)].sum(axis=0) + 1)/(sum(Y == 1) + X.shape[1])\n",
    "    pNeg = (X[(Y == 0)].sum(axis=0) + 1)/(sum(Y == 0) + X.shape[1])\n",
    "    \n",
    "    \n",
    "    probPos = sum(Y==1)/len(Y) \n",
    "    probNeg = sum(Y==0)/len(Y)\n",
    "    \n",
    "    return probPos, probNeg, pPos, pNeg"
   ]
  },
  {
   "cell_type": "code",
   "execution_count": 6,
   "metadata": {},
   "outputs": [],
   "source": [
    "probP, probN, pPos, pNeg = calcularProbabilidades(Xtrain, Ytrain)"
   ]
  },
  {
   "cell_type": "code",
   "execution_count": 7,
   "metadata": {},
   "outputs": [],
   "source": [
    "def classificacao(x,probP,probN,pPos,pNeg):\n",
    "\n",
    "    classe = 0;\n",
    "    probPos= 0;\n",
    "    probNeg = 0;\n",
    "\n",
    "    x = x.toarray()\n",
    "    probPos = probP * (pPos[(x != 0)]).prod() * (1 - pPos[(x == 0)]).prod()\n",
    "    probNeg = probN * (pNeg[(x != 0)]).prod() * (1 - pNeg[(x == 0)]).prod()\n",
    "    \n",
    "    classe = int(probPos >= probNeg)\n",
    "\n",
    "    return classe"
   ]
  },
  {
   "cell_type": "code",
   "execution_count": 8,
   "metadata": {},
   "outputs": [],
   "source": [
    "def predicao(Xval, Yval, probP, probN, pPos, pNeg):\n",
    "    \n",
    "    Ypred = []\n",
    "    for i in range(Xval.shape[0]):\n",
    "        y = classificacao(Xval[i], probP,probN,pPos,pNeg)\n",
    "        Ypred.append(y)\n",
    "\n",
    "    acuracia = np.sum(Ypred==Yval)/len(Yval)\n",
    "    \n",
    "    return Ypred, acuracia"
   ]
  },
  {
   "cell_type": "code",
   "execution_count": 9,
   "metadata": {},
   "outputs": [
    {
     "name": "stdout",
     "output_type": "stream",
     "text": [
      "Acurácia é 73.0\n"
     ]
    }
   ],
   "source": [
    "Ypred, acuracia = predicao(Xval, Yval, probP, probN, pPos, pNeg)\n",
    "print(\"Acurácia é \" + str(acuracia*100))"
   ]
  },
  {
   "cell_type": "code",
   "execution_count": 10,
   "metadata": {},
   "outputs": [
    {
     "name": "stdout",
     "output_type": "stream",
     "text": [
      "\n",
      "\tRevocacao   Precisao   F-medida   Classe\n",
      "\t0.551       0.876      0.677      0\n",
      "\t0.918       0.661      0.768      1\n",
      "\t------------------------------------------------\n",
      "\t0.735       0.768      0.751      Média macro\n",
      "\t0.730       0.730      0.730      Média micro\n",
      "\n",
      "\tAcuracia: 0.730\n"
     ]
    }
   ],
   "source": [
    "classes = np.unique(Y)\n",
    "\n",
    "auxResults = anl.relatorioDesempenho(Yval, Ypred, classes, imprimeRelatorio=True)"
   ]
  },
  {
   "cell_type": "code",
   "execution_count": 11,
   "metadata": {},
   "outputs": [],
   "source": [
    "def curva_aprendizado(X, Y, Xval, Yval):\n",
    "   \n",
    "    \"\"\"\n",
    "    Funcao usada gerar a curva de aprendizado.\n",
    "  \n",
    "    Parametros\n",
    "    ----------\n",
    "  \n",
    "    X : matriz com os dados de treinamento\n",
    "  \n",
    "    Y : vetor com as classes dos dados de treinamento\n",
    "  \n",
    "    Xval : matriz com os dados de validação\n",
    "  \n",
    "    Yval : vetor com as classes dos dados de validação\n",
    "  \n",
    "    \"\"\"\n",
    "\n",
    "    # inicializa as listas que guardarao a performance no treinamento e na validacao\n",
    "    perf_train = []\n",
    "    perf_val = []\n",
    "\n",
    "    classes = np.unique(Y)\n",
    "    \n",
    "    for i in range(10, len(Y), 10):\n",
    "        \n",
    "        probP, probN, pPos, pNeg = calcularProbabilidades(X[:i], Y[:i])\n",
    "        \n",
    "        Ypred, acuracia = predicao(X[:i], Y[:i], probP, probN, pPos, pNeg)\n",
    "        perf_train.append(acuracia)\n",
    "\n",
    "        Ypred, acuracia = predicao(Xval, Yval, probP, probN, pPos, pNeg)\n",
    "        perf_val.append(acuracia)\n",
    "\n",
    "\n",
    "    ##################################################################################\n",
    "       \n",
    "    # Define o tamanho da figura \n",
    "    plt.figure(figsize=(20,12))\n",
    "\n",
    "    # Plota os dados\n",
    "    plt.plot(perf_train, color='blue', linestyle='-', linewidth=1.5, label='Treino') \n",
    "    plt.plot(perf_val, color='red', linestyle='-', linewidth=1.5, label='Validação')\n",
    "\n",
    "    # Define os nomes do eixo x e do eixo y\n",
    "    plt.xlabel(r'# Qtd. de dados de treinamento',fontsize='x-large') \n",
    "    plt.ylabel(r'Acuracia',fontsize='x-large') \n",
    "\n",
    "    # Define o título do gráfico\n",
    "    plt.title(r'Curva de aprendizado', fontsize='x-large')\n",
    "\n",
    "    # Acrescenta um grid no gráfico\n",
    "    plt.grid(axis='both')\n",
    "\n",
    "    # Plota a legenda\n",
    "    plt.legend()\n",
    "    \n",
    "    plt.show()"
   ]
  },
  {
   "cell_type": "code",
   "execution_count": 12,
   "metadata": {},
   "outputs": [],
   "source": [
    "#curva_aprendizado(Xtrain, Ytrain, Xval, Yval)"
   ]
  },
  {
   "cell_type": "code",
   "execution_count": null,
   "metadata": {},
   "outputs": [],
   "source": []
  },
  {
   "cell_type": "code",
   "execution_count": 13,
   "metadata": {},
   "outputs": [
    {
     "name": "stdout",
     "output_type": "stream",
     "text": [
      "\n",
      "-----------\n",
      "1-fold: \n",
      "-----------\n",
      "\n",
      "\n",
      "\tRevocacao   Precisao   F-medida   Classe\n",
      "\t0.525       0.922      0.669      0\n",
      "\t0.955       0.663      0.783      1\n",
      "\t------------------------------------------------\n",
      "\t0.740       0.792      0.765      Média macro\n",
      "\t0.738       0.738      0.738      Média micro\n",
      "\n",
      "\tAcuracia: 0.738\n",
      "\n",
      "-----------\n",
      "2-fold: \n",
      "-----------\n",
      "\n",
      "\n",
      "\tRevocacao   Precisao   F-medida   Classe\n",
      "\t0.668       0.878      0.759      0\n",
      "\t0.913       0.747      0.822      1\n",
      "\t------------------------------------------------\n",
      "\t0.791       0.812      0.801      Média macro\n",
      "\t0.795       0.795      0.795      Média micro\n",
      "\n",
      "\tAcuracia: 0.795\n",
      "\n",
      "-----------\n",
      "3-fold: \n",
      "-----------\n",
      "\n",
      "\n",
      "\tRevocacao   Precisao   F-medida   Classe\n",
      "\t0.543       0.923      0.684      0\n",
      "\t0.955       0.678      0.793      1\n",
      "\t------------------------------------------------\n",
      "\t0.749       0.801      0.774      Média macro\n",
      "\t0.750       0.750      0.750      Média micro\n",
      "\n",
      "\tAcuracia: 0.750\n",
      "\n",
      "-----------\n",
      "4-fold: \n",
      "-----------\n",
      "\n",
      "\n",
      "\tRevocacao   Precisao   F-medida   Classe\n",
      "\t0.647       0.909      0.756      0\n",
      "\t0.935       0.724      0.816      1\n",
      "\t------------------------------------------------\n",
      "\t0.791       0.816      0.803      Média macro\n",
      "\t0.790       0.790      0.790      Média micro\n",
      "\n",
      "\tAcuracia: 0.790\n",
      "\n",
      "-----------\n",
      "5-fold: \n",
      "-----------\n",
      "\n",
      "\n",
      "\tRevocacao   Precisao   F-medida   Classe\n",
      "\t0.551       0.876      0.677      0\n",
      "\t0.918       0.661      0.768      1\n",
      "\t------------------------------------------------\n",
      "\t0.735       0.768      0.751      Média macro\n",
      "\t0.730       0.730      0.730      Média micro\n",
      "\n",
      "\tAcuracia: 0.730\n",
      "\n",
      "-----------\n",
      "Media-fold: \n",
      "-----------\n",
      "\n",
      "\n",
      "\tRevocacao   Precisao   F-medida   Classe\n",
      "\t0.587       0.901      0.709      0\n",
      "\t0.935       0.695      0.796      1\n",
      "\t---------------------------------------------------------------------\n",
      "\t0.761       0.798      0.779      Média macro\n",
      "\t0.761       0.761      0.761      Média micro\n",
      "\n",
      "\tAcuracia: 0.761\n"
     ]
    }
   ],
   "source": [
    "import k_folds as kf\n",
    "\n",
    "classes = [0,1]\n",
    "fold = kf.stratified_kfolds(Y, 5, classes)\n",
    "# cria uma lista vazia para guardar os resultados obtidos em cada fold\n",
    "resultados = []\n",
    "k = 1\n",
    "for train_index, test_index  in fold :\n",
    "    \n",
    "    print('\\n-----------\\n%d-fold: \\n-----------\\n' % (k) )\n",
    "    \n",
    "    Xtrain, Xval = X2[train_index,:], X2[test_index, :]\n",
    "    Ytrain, Yval = Y2[train_index], Y2[test_index]\n",
    "    \n",
    "#     Xtrain, new_vocabulary, index = pp.chi2(Xtrain, Ytrain, vocabulary)\n",
    "#     Xval = Xval[:, index]\n",
    "    \n",
    "    probP, probN, pPos, pNeg = calcularProbabilidades(Xtrain, Ytrain)\n",
    "    result, acuracia = predicao(Xval, Yval, probP, probN, pPos, pNeg)\n",
    "\n",
    "    auxResults = anl.relatorioDesempenho(Yval,result, classes, imprimeRelatorio=True)\n",
    "    resultados.append( auxResults )\n",
    "    k+=1\n",
    "    \n",
    "kf.mediaFolds(resultados, classes)  "
   ]
  },
  {
   "cell_type": "code",
   "execution_count": null,
   "metadata": {},
   "outputs": [],
   "source": []
  }
 ],
 "metadata": {
  "kernelspec": {
   "display_name": "Python 3",
   "language": "python",
   "name": "python3"
  },
  "language_info": {
   "codemirror_mode": {
    "name": "ipython",
    "version": 3
   },
   "file_extension": ".py",
   "mimetype": "text/x-python",
   "name": "python",
   "nbconvert_exporter": "python",
   "pygments_lexer": "ipython3",
   "version": "3.6.8"
  }
 },
 "nbformat": 4,
 "nbformat_minor": 2
}
