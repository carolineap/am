{
 "cells": [
  {
   "cell_type": "code",
   "execution_count": 1,
   "metadata": {},
   "outputs": [
    {
     "name": "stdout",
     "output_type": "stream",
     "text": [
      "Vocabulário possui 10642 palavras!\n"
     ]
    }
   ],
   "source": [
    "import matplotlib.pyplot as plt\n",
    "import numpy as np\n",
    "import pandas as pd\n",
    "import pre_processing as pp\n",
    "import analysis as anl\n",
    "import pca\n",
    "\n",
    "category = 'dvd'\n",
    "\n",
    "hNeg = True #if true, add negative bigrams for negative reviews\n",
    "noun = False #if true, add nouns\n",
    "\n",
    "X, Y, vocabulary = pp.bow(category, hNeg, noun)\n",
    "\n",
    "print(\"Vocabulário possui \" + str(len(vocabulary)) + \" palavras!\")"
   ]
  },
  {
   "cell_type": "markdown",
   "metadata": {},
   "source": [
    "Separa os dados em treinamento e teste:"
   ]
  },
  {
   "cell_type": "code",
   "execution_count": 2,
   "metadata": {},
   "outputs": [],
   "source": [
    "# semente usada na randomizacao dos dados.\n",
    "randomSeed = 10 \n",
    "\n",
    "# gera os indices aleatorios que irao definir a ordem dos dados\n",
    "idx_perm = np.random.RandomState(randomSeed).permutation(range(len(Y)))\n",
    "\n",
    "# ordena os dados de acordo com os indices gerados aleatoriamente\n",
    "X2, Y2 = X[idx_perm, :], Y[idx_perm]\n",
    "\n",
    "#X2, Y2 = X[idx_perm, :], Y[idx_perm]\n",
    "\n",
    "pTrain = 0.8\n",
    "\n",
    "train_index, test_index = anl.stratified_holdOut(Y, pTrain)\n",
    "\n",
    "Xtrain, Xval = X2[train_index, :], X2[test_index, :]\n",
    "Ytrain, Yval = Y2[train_index], Y2[test_index]"
   ]
  },
  {
   "cell_type": "markdown",
   "metadata": {},
   "source": [
    "Seleciona features com método do chi-quadrado (baseado nos dados de treinamento):"
   ]
  },
  {
   "cell_type": "code",
   "execution_count": 3,
   "metadata": {},
   "outputs": [],
   "source": [
    "Xtrain, new_vocabulary, index = pp.chi2(Xtrain, Ytrain, vocabulary)\n",
    "Xval = Xval[:, index]"
   ]
  },
  {
   "cell_type": "code",
   "execution_count": 4,
   "metadata": {},
   "outputs": [
    {
     "name": "stdout",
     "output_type": "stream",
     "text": [
      "Número de features antes do chi-quadrado: 10642\n",
      "----------------------------------------\n",
      "Número de features após chi-quadrado: 713\n",
      "['manipul', 'anniversari', 'no', 'unforgett', 'ski', 'clive', 'suck', 'repres', 'frank', 'helen', 'intens', 'altman', 'ultim', 'unexplain', 'lecter', 'gut', 'raunchi', 'cardio', 'vs', 'wwf', 'far', 'hayden', 'offici', 'contriv', 'magnific', 'broken', 'green', ('not', 'enough'), ('not', 'hold'), 'nonsens', ('not', 'terribl'), 'resid', 'rivet', 'speak', 'greatest', 'fashion', 'bonhoeff', 'becom', 'seem', 'lynch', 'superbit', 'nostalgia', 'unorigin', 'sokolow', 'away', 'well', 'prepar', 'pearl', 'fourth', 'sorri', 'dismal', 'insipid', 'super', ('not', 'long'), 'italian', 'ident', 'bitter', ('not', 'best'), 'hitler', 'broadway', 'heard', 'bodi', ('not', 'engag'), 'struggl', 'afraid', 'person', 'excel', 'purchas', 'misfram', 'briefcas', ('not', 'fall'), 'rubbish', 'unforgiv', 'love', 'ray', 'recommend', 'yoko', 'noir', 'chatterli', ('not', 'throw'), 'wooden', 'potti', 'stray', 'america', 'play', ('not', 'imagin'), 'devast', ('not', 'care'), 'incubu', ('not', 'understand'), 'lame', 'team', 'wahlberg', 'infatu', 'stupid', 'tyres', 'recal', ('not', 'act'), 'bare', 'greed', 'finian', 'least', 'regardless', 'atroci', 'bad', 'documentari', 'solid', 'chicago', 'episod', ('not', 'watch'), ('not', 'better'), 'ridicul', 'rear', 'moiv', 'sadi', 'fonda', 'regret', 'billi', 'kazan', 'abl', 'controversi', 'top', 'fell', 'down', 'disappoint', 'freeman', 'wast', 'offend', 'vicki', 'smart', ('not', 'impress'), 'mani', ('not', 'wait'), ('not', 'good'), 'deliv', 'rang', 'entertain', 'pfeiffer', 'recogn', 'karin', 'paid', 'verhoeven', 'golden', 'flat', 'boe', 'freeli', 'power', 'underappreci', 'henrik', 'grossli', 'glori', 'salsa', 'aw', 'uninspir', ('not', 'quit'), ('not', 'need'), 'suppos', 'terrifi', 'passion', 'whatsoev', 'last', ('not', 'seen'), 'dirk', 'favorit', 'liven', 'kindergarten', 'meant', 'ride', 'nacho', 'lucki', 'martin', 'vastli', 'annoy', 'nwa', 'connelli', 'elia', 'replay', 'forgett', ('not', 'put'), 'weird', 'burn', 'deep', 'crypt', 'win', 'anxiou', 'arrest', 'featur', 'confirm', 'pretenti', 'vocal', 'nathan', 'kinnear', 'weak', 'bear', 'especi', 'adrian', 'benoit', 'lui', 'russel', ('not', 'mean'), 'pleasur', 'scott', 'keith', 'bigger', 'thrill', 'fairi', 'shortli', 'encod', 'best', 'stop', 'joeli', 'otherwis', 'bore', 'respond', ('not', 'recommend'), 'want', 'feast', 'woodward', 'experi', 'crappi', 'embarass', ('not', 'actual'), 'stalk', 'suspens', 'crash', 'owe', 'gothic', 'hauk', 'epic', 'read', 'arrau', 'tale', 'sweet', 'threshold', 'indic', 'sybil', 'hyster', 'awesom', 'nope', ('not', 'look'), ('not', 'purchas'), 'first', 'marvel', 'join', 'sublim', 'crackhead', 'la', 'unbeliev', 'religi', 'slaveri', 'mindless', 'captiv', 'piti', 'sensual', ('not', 'bad'), 'lost', 'novic', 'fantast', 'ruin', 'luck', 'nolt', 'unfunni', 'shelton', 'sometim', 'vol', 'regular', 'refus', 'freestyl', 'horrid', 'ulric', 'flair', 'fart', 'complet', 'barri', 'find', 'summari', 'finest', 'rent', 'color', 'evolv', ('not', 'enjoy'), 'western', 'horribl', 'ok', 'differ', 'young', 'giovanna', ('not', 'found'), 'older', 'work', 'unexpect', 'teeth', 'fool', 'talent', ('not', 'dvd'), 'close', 'immort', 'worst', ('not', 'great'), 'forg', ('not', 'happi'), ('not', 'expect'), 'heartwarm', 'vapid', 'bowl', 'precinct', 'uninterest', 'japanes', ('not', 'say'), ('not', 'mind'), ('not', 'forget'), 'smoke', 'definit', 'serial', 'terribl', 'local', ('not', 'find'), 'laid', 'dumb', 'fred', 'diss', 'robert', 'allow', 'turkish', 'fail', ('not', 'get'), ('not', 'singl'), 'cheesi', 'chines', 'set', 'search', 'better', 'star', 'screenplay', 'opposit', 'nomin', 'owen', 'slap', 'comic', 'grazia', 'constantli', 'control', 'ingrid', 'appar', 'tomlin', 'soft', 'slave', 'soul', 'touch', 'drew', 'ken', 'terrorist', ('not', 'show'), 'doc', ('not', 'sure'), 'pauli', ('not', 'go'), 'kurosawa', 'monoton', 'gotten', 'lebowski', 'elmo', 'san', 'clip', 'c', ('not', 'feel'), 'sadli', 'fine', 'alfr', ('not', 'particularli'), 'acuna', 'regard', 'perfect', ('not', 'save'), ('never', 'read'), ('not', 'know'), 'pornograph', 'izzard', 'betti', 'worn', 'trim', 'amaz', 'wong', 'lohan', 'streep', 'hook', ('not', 'excit'), 'son', 'hollow', 'andi', 'chill', 'shaki', 'overr', 'lux', ('not', 'help'), 'johan', 'appreci', 'teacher', 'home', 'stun', 'lack', 'surpris', 'huge', ('not', 'scari'), 'cold', 'fight', 'chose', 'plaza', 'peggi', 'existenti', ('never', 'seen'), 'unpleas', ('not', 'make'), 'lisbon', 'usa', 'intact', 'leigh', 'lopez', 'offer', 'music', 'unconvinc', 'proud', ('not', 'read'), 'lili', 'maher', 'host', 'resurrect', 'bother', 'remain', 'uninvolv', 'poor', 'elizabeth', ('not', 'suppos'), 'watchabl', 'eve', 'beauti', 'excus', 'wander', 'loveli', 'woo', 'felt', ('not', 'not'), 'wonder', 'dull', 'ii', 'shore', ('not', 'stand'), 'horrend', 'futurist', 'molli', 'realist', 'asham', 'expens', 'empti', 'defect', 'gehri', 'wick', 'fun', 'wors', 'poignant', ('not', 'right'), 'fabul', ('not', 'yet'), ('not', 'realist'), 'hamburg', 'refresh', 'tornado', 'seinfeld', 'audibl', 'hate', ('not', 'give'), 'includ', 'nobl', 'gm', 'mckean', 'delight', 'pointless', 'wwi', 'laughabl', 'soviet', ('never', 'realli'), 'nazi', 'support', 'potenti', 'latter', ('not', 'believ'), 'moral', 'bergman', ('not', 'includ'), 'say', 'rose', 'aim', 'arriv', 'suffici', 'historian', 'extraordinari', ('not', 'tri'), 'utterli', 'nice', 'asleep', 'transcend', 'repetit', 'sum', ('not', 'realiz'), ('not', 'see'), ('not', 'come'), 'samurai', 'amazon', 'outstand', 'cowboy', 'erin', 'mayb', 'astair', 'not', 'particip', ('not', 'becom'), 'choos', 'name', 'hostil', 'redeem', ('not', 'deserv'), 'popcorn', 'unfortun', 'sixteen', 'soon', 'deani', 'aggriv', 'silent', 'flash', 'crap', 'cool', 'instead', 'frida', ('not', 'realli'), 'trite', 'deever', 'guest', ('not', 'think'), ('not', 'much'), 'heavi', 'seamlessli', ('not', 'worth'), 'idiot', 'never', 'superman', 'later', 'underr', 'stage', 'kern', 'newborn', ('not', 'worst'), 'championship', 'blossom', ('not', 'keep'), 'given', 'nishi', 'ethic', ('not', 'said'), ('not', 'even'), ('not', 'interest'), 'still', 'agenda', 'sea', 'belong', 'friendship', 'west', 'carla', 'jake', 'wayn', 'uniqu', 'kid', ('not', 'bother'), 'sting', 'learn', 'explain', 'fishburn', 'photo', 'previou', 'candl', 'highli', 'closet', 'cheap', 'alway', 'campbel', 'comfort', 'led', 'superl', ('not', 'made'), 'rest', ('not', 'seem'), 'eric', 'endless', 'suffer', 'relax', ('not', 'buy'), 'sceen', 'palli', 'strong', 'tune', 'elimin', 'act', 'superbl', 'halari', 'song', ('not', 'use'), 'tommi', 'splendid', 'rahad', 'cujo', ('not', 'let'), 'terrif', 'dumptruck', 'mediocr', 'anonym', 'kane', ('never', 'get'), 'gem', 'audio', 'illustr', ('not', 'well'), 'ador', 'hilari', 'dude', 'uaw', 'gorgeou', 'sharp', 'magic', 'tediou', 'deni', 'alison', 'delici', 'wherea', ('not', 'play'), 'new', 'eventu', 'affair', 'expertli', 'introduc', 'save', ('not', 'take'), 'ledwith', 'slowli', 'great', 'daili', 'rickman', 'buy', 'rick', 'care', 'brought', 'monti', 'geniu', 'add', 'expect', 'retard', 'enhanc', 'pathet', 'short', ('not', 'funni'), 'combin', 'tri', 'rural', 'grate', ('not', 'like'), 'ferri', 'rob', 'break', 'dh', 'creat', 'basic', 'base', ('not', 'work'), ('not', 'want'), 'laughter', 'poorli', 'advis', 'poetic', 'come', 'predict', 'wood', 'score', 'throw', 'see', 'slightest', 'think', 'nauseat', 'impress', 'adventur', 'particular', 'half', 'pride', 'ensembl', 'also', 'protect', 'vietnam', 'infecti', 'extens', 'anim', 'hearst', ('not', 'wast'), 'ta', 'advertis', 'frame', 'view', 'unfold', 'butt', 'nobodi', 'childish', 'frustrat', 'enjoy', 'even', ('not', 'miss'), 'classic', ('not', 'rememb')]\n"
     ]
    }
   ],
   "source": [
    "print(\"Número de features antes do chi-quadrado: \" + str(len(vocabulary)))\n",
    "print(\"----------------------------------------\")\n",
    "print(\"Número de features após chi-quadrado: \" + str(len(new_vocabulary)))\n",
    "print(new_vocabulary)"
   ]
  },
  {
   "cell_type": "code",
   "execution_count": 5,
   "metadata": {},
   "outputs": [],
   "source": [
    "def calcularProbabilidades(X, Y):\n",
    "   \n",
    "    pPos = np.zeros(X.shape[1])\n",
    "    pNeg = np.zeros(X.shape[1])\n",
    "\n",
    "    pPos = X[(Y == 1)].sum(axis=0)/sum(Y == 1)\n",
    "    pNeg = X[(Y == 0)].sum(axis=0)/sum(Y == 0)\n",
    "    \n",
    "    \n",
    "    probPos = sum(Y==1)/len(Y) \n",
    "    probNeg = sum(Y==0)/len(Y)\n",
    "    \n",
    "    return probPos, probNeg, pPos, pNeg"
   ]
  },
  {
   "cell_type": "code",
   "execution_count": 6,
   "metadata": {},
   "outputs": [],
   "source": [
    "probP, probN, pPos, pNeg = calcularProbabilidades(Xtrain, Ytrain)"
   ]
  },
  {
   "cell_type": "code",
   "execution_count": 7,
   "metadata": {},
   "outputs": [],
   "source": [
    "def classificacao(x,probP,probN,pPos,pNeg):\n",
    "\n",
    "    classe = 0;\n",
    "    probPos= 0;\n",
    "    probNeg = 0;\n",
    "\n",
    "    x = x.toarray()\n",
    "    probPos = probP * (pPos[(x != 0)]).prod() * (1 - pPos[(x == 0)]).prod()\n",
    "    probNeg = probN * (pNeg[(x != 0)]).prod() * (1 - pNeg[(x == 0)]).prod()\n",
    "    \n",
    "    classe = int(probPos >= probNeg)\n",
    "\n",
    "    return classe"
   ]
  },
  {
   "cell_type": "code",
   "execution_count": 8,
   "metadata": {},
   "outputs": [],
   "source": [
    "def predicao(Xval, Yval, probP, probN, pPos, pNeg):\n",
    "    \n",
    "    Ypred = []\n",
    "    for i in range(Xval.shape[0]):\n",
    "        y = classificacao(Xval[i], probP,probN,pPos,pNeg)\n",
    "        Ypred.append(y)\n",
    "\n",
    "    acuracia = np.sum(Ypred==Yval)/len(Yval)\n",
    "    \n",
    "    return Ypred, acuracia"
   ]
  },
  {
   "cell_type": "code",
   "execution_count": 9,
   "metadata": {},
   "outputs": [
    {
     "name": "stdout",
     "output_type": "stream",
     "text": [
      "Acurácia é 75.0\n"
     ]
    }
   ],
   "source": [
    "Ypred, acuracia = predicao(Xval, Yval, probP, probN, pPos, pNeg)\n",
    "print(\"Acurácia é \" + str(acuracia*100))"
   ]
  },
  {
   "cell_type": "code",
   "execution_count": 10,
   "metadata": {},
   "outputs": [
    {
     "name": "stdout",
     "output_type": "stream",
     "text": [
      "[1 1 0 1 1 1 1 1 0 0 1 0 0 0 0 0 0 0 1 1 0 1 1 0 1 1 0 0 1 1 0 0 0 1 0 0 1\n",
      " 1 1 1 0 0 1 0 1 0 1 1 0 0 0 0 1 0 1 1 1 0 0 1 1 1 1 0 1 0 0 1 0 0 0 0 1 1\n",
      " 1 0 0 1 1 0 0 0 0 0 0 0 1 1 0 0 1 0 1 0 0 1 1 1 1 0 0 1 0 1 1 1 0 1 1 1 1\n",
      " 1 0 0 1 0 1 0 1 1 0 0 0 1 1 0 1 0 0 1 1 0 0 1 0 0 0 1 0 0 0 1 1 1 0 0 1 1\n",
      " 0 1 0 1 1 0 1 0 0 1 1 0 0 1 1 1 0 1 0 1 1 0 1 1 0 1 1 0 1 0 0 1 1 1 0 1 0\n",
      " 0 0 1 1 1 0 1 0 0 0 1 0 0 1 0 1 0 1 0 1 0 0 0 1 0 0 1 0 1 1 0 0 0 0 1 0 0\n",
      " 0 0 1 0 0 0 0 1 1 0 1 0 0 1 1 1 1 0 1 0 1 1 0 0 1 0 1 0 1 1 0 1 0 0 0 0 0\n",
      " 0 1 0 1 1 0 0 0 0 0 0 0 0 1 0 1 1 1 0 1 1 1 1 1 1 1 0 1 1 0 1 0 1 1 1 1 1\n",
      " 0 1 1 1 0 1 0 1 1 0 1 1 1 0 0 0 0 0 1 1 1 1 1 0 1 0 1 1 1 0 0 0 0 0 0 1 0\n",
      " 0 1 0 0 0 0 0 1 1 1 1 0 1 0 1 0 1 1 0 1 1 1 0 0 0 1 0 1 1 1 0 1 0 0 0 1 0\n",
      " 0 0 1 0 0 0 1 1 1 1 0 1 0 1 1 1 1 0 0 0 0 0 1 0 0 0 0 1 0 0]\n",
      "[0, 1, 0, 1, 0, 0, 1, 0, 0, 0, 1, 0, 0, 0, 0, 0, 0, 1, 1, 1, 0, 0, 1, 0, 1, 1, 0, 0, 0, 1, 0, 0, 0, 0, 0, 0, 1, 0, 0, 0, 0, 0, 1, 0, 1, 0, 1, 0, 0, 0, 0, 0, 1, 1, 1, 0, 1, 0, 0, 1, 1, 0, 1, 0, 0, 0, 1, 0, 1, 0, 0, 0, 1, 0, 1, 1, 0, 0, 0, 1, 0, 0, 0, 0, 0, 0, 1, 0, 0, 0, 1, 0, 0, 0, 0, 1, 1, 1, 1, 0, 0, 1, 0, 1, 0, 1, 1, 0, 1, 1, 1, 1, 0, 0, 1, 0, 1, 0, 0, 1, 0, 0, 0, 1, 0, 0, 1, 0, 0, 0, 1, 0, 0, 1, 0, 0, 0, 1, 0, 0, 0, 1, 1, 1, 0, 0, 1, 1, 0, 1, 0, 0, 0, 0, 1, 1, 0, 1, 1, 1, 0, 0, 1, 0, 0, 1, 0, 1, 1, 0, 1, 1, 0, 1, 1, 0, 0, 1, 0, 1, 0, 0, 0, 1, 0, 0, 0, 1, 1, 0, 0, 1, 0, 0, 0, 0, 0, 0, 0, 0, 0, 1, 1, 0, 1, 0, 0, 1, 1, 0, 0, 1, 0, 0, 0, 0, 0, 0, 0, 1, 0, 0, 0, 0, 1, 0, 0, 0, 0, 1, 0, 0, 0, 0, 0, 0, 1, 0, 0, 0, 1, 0, 1, 1, 1, 1, 0, 0, 1, 1, 0, 0, 1, 1, 0, 0, 0, 0, 0, 0, 0, 0, 0, 0, 1, 0, 0, 0, 1, 1, 0, 0, 1, 0, 1, 0, 1, 0, 1, 1, 0, 1, 1, 1, 0, 0, 0, 1, 0, 0, 0, 1, 1, 1, 1, 1, 0, 1, 1, 1, 1, 1, 1, 1, 1, 0, 0, 1, 1, 1, 0, 0, 0, 0, 1, 0, 0, 0, 1, 0, 1, 0, 0, 1, 1, 0, 0, 0, 0, 0, 1, 1, 1, 0, 1, 1, 0, 0, 0, 0, 1, 0, 1, 1, 0, 1, 0, 1, 0, 0, 0, 0, 1, 1, 1, 0, 1, 0, 1, 0, 1, 1, 0, 0, 1, 0, 0, 0, 0, 0, 0, 0, 0, 0, 1, 0, 0, 1, 1, 1, 0, 1, 1, 0, 0, 0, 1, 0, 0, 0, 0, 0, 0, 1, 0, 0, 0, 0, 0, 0]\n",
      "\n",
      "\tRevocacao   Precisao   F-medida   Classe\n",
      "\t0.859       0.713      0.779      0\n",
      "\t0.636       0.810      0.713      1\n",
      "\t------------------------------------------------\n",
      "\t0.747       0.762      0.754      Média macro\n",
      "\t0.750       0.750      0.750      Média micro\n",
      "\n",
      "\tAcuracia: 0.750\n"
     ]
    }
   ],
   "source": [
    "classes = np.unique(Y)\n",
    "print(Yval)\n",
    "print(Ypred)\n",
    "\n",
    "auxResults = anl.relatorioDesempenho(Yval, Ypred, classes, imprimeRelatorio=True)"
   ]
  },
  {
   "cell_type": "code",
   "execution_count": 11,
   "metadata": {},
   "outputs": [],
   "source": [
    "def curva_aprendizado(X, Y, Xval, Yval):\n",
    "   \n",
    "    \"\"\"\n",
    "    Funcao usada gerar a curva de aprendizado.\n",
    "  \n",
    "    Parametros\n",
    "    ----------\n",
    "  \n",
    "    X : matriz com os dados de treinamento\n",
    "  \n",
    "    Y : vetor com as classes dos dados de treinamento\n",
    "  \n",
    "    Xval : matriz com os dados de validação\n",
    "  \n",
    "    Yval : vetor com as classes dos dados de validação\n",
    "  \n",
    "    \"\"\"\n",
    "\n",
    "    # inicializa as listas que guardarao a performance no treinamento e na validacao\n",
    "    perf_train = []\n",
    "    perf_val = []\n",
    "\n",
    "    classes = np.unique(Y)\n",
    "    \n",
    "    for i in range(10, len(Y)):\n",
    "        \n",
    "        probP, probN, pPos, pNeg = calcularProbabilidades(X[:i], Y[:i])\n",
    "        \n",
    "        Ypred, acuracia = predicao(X[:i], Y[:i], probP, probN, pPos, pNeg)\n",
    "        perf_train.append(acuracia)\n",
    "\n",
    "        Ypred, acuracia = predicao(Xval, Yval, probP, probN, pPos, pNeg)\n",
    "        perf_val.append(acuracia)\n",
    "\n",
    "\n",
    "    ##################################################################################\n",
    "       \n",
    "    # Define o tamanho da figura \n",
    "    plt.figure(figsize=(20,12))\n",
    "\n",
    "    # Plota os dados\n",
    "    plt.plot(perf_train, color='blue', linestyle='-', linewidth=1.5, label='Treino') \n",
    "    plt.plot(perf_val, color='red', linestyle='-', linewidth=1.5, label='Validação')\n",
    "\n",
    "    # Define os nomes do eixo x e do eixo y\n",
    "    plt.xlabel(r'# Qtd. de dados de treinamento',fontsize='x-large') \n",
    "    plt.ylabel(r'Acuracia',fontsize='x-large') \n",
    "\n",
    "    # Define o título do gráfico\n",
    "    plt.title(r'Curva de aprendizado', fontsize='x-large')\n",
    "\n",
    "    # Acrescenta um grid no gráfico\n",
    "    plt.grid(axis='both')\n",
    "\n",
    "    # Plota a legenda\n",
    "    plt.legend()\n",
    "    \n",
    "    plt.show()"
   ]
  },
  {
   "cell_type": "code",
   "execution_count": 12,
   "metadata": {},
   "outputs": [],
   "source": [
    "#curva_aprendizado(Xtrain, Ytrain, Xval, Yval)"
   ]
  },
  {
   "cell_type": "code",
   "execution_count": null,
   "metadata": {},
   "outputs": [],
   "source": []
  },
  {
   "cell_type": "code",
   "execution_count": 13,
   "metadata": {},
   "outputs": [
    {
     "name": "stdout",
     "output_type": "stream",
     "text": [
      "\n",
      "-----------\n",
      "1-fold: \n",
      "-----------\n",
      "\n",
      "\n",
      "\tRevocacao   Precisao   F-medida   Classe\n",
      "\t0.866       0.686      0.766      0\n",
      "\t0.596       0.814      0.688      1\n",
      "\t------------------------------------------------\n",
      "\t0.731       0.750      0.740      Média macro\n",
      "\t0.733       0.733      0.733      Média micro\n",
      "\n",
      "\tAcuracia: 0.733\n",
      "\n",
      "-----------\n",
      "2-fold: \n",
      "-----------\n",
      "\n",
      "\n",
      "\tRevocacao   Precisao   F-medida   Classe\n",
      "\t0.886       0.687      0.774      0\n",
      "\t0.623       0.854      0.721      1\n",
      "\t------------------------------------------------\n",
      "\t0.755       0.771      0.762      Média macro\n",
      "\t0.750       0.750      0.750      Média micro\n",
      "\n",
      "\tAcuracia: 0.750\n",
      "\n",
      "-----------\n",
      "3-fold: \n",
      "-----------\n",
      "\n",
      "\n",
      "\tRevocacao   Precisao   F-medida   Classe\n",
      "\t0.859       0.676      0.757      0\n",
      "\t0.592       0.810      0.684      1\n",
      "\t------------------------------------------------\n",
      "\t0.726       0.743      0.734      Média macro\n",
      "\t0.725       0.725      0.725      Média micro\n",
      "\n",
      "\tAcuracia: 0.725\n",
      "\n",
      "-----------\n",
      "4-fold: \n",
      "-----------\n",
      "\n",
      "\n",
      "\tRevocacao   Precisao   F-medida   Classe\n",
      "\t0.896       0.679      0.773      0\n",
      "\t0.573       0.844      0.683      1\n",
      "\t------------------------------------------------\n",
      "\t0.734       0.762      0.748      Média macro\n",
      "\t0.735       0.735      0.735      Média micro\n",
      "\n",
      "\tAcuracia: 0.735\n",
      "\n",
      "-----------\n",
      "5-fold: \n",
      "-----------\n",
      "\n",
      "\n",
      "\tRevocacao   Precisao   F-medida   Classe\n",
      "\t0.859       0.713      0.779      0\n",
      "\t0.636       0.810      0.713      1\n",
      "\t------------------------------------------------\n",
      "\t0.747       0.762      0.754      Média macro\n",
      "\t0.750       0.750      0.750      Média micro\n",
      "\n",
      "\tAcuracia: 0.750\n",
      "\n",
      "-----------\n",
      "Media-fold: \n",
      "-----------\n",
      "\n",
      "\n",
      "\tRevocacao   Precisao   F-medida   Classe\n",
      "\t0.873       0.688      0.770      0\n",
      "\t0.604       0.827      0.698      1\n",
      "\t---------------------------------------------------------------------\n",
      "\t0.739       0.757      0.748      Média macro\n",
      "\t0.738       0.738      0.738      Média micro\n",
      "\n",
      "\tAcuracia: 0.738\n"
     ]
    }
   ],
   "source": [
    "import k_folds as kf\n",
    "fold = kf.stratified_kfolds(Y, 5, [0, 1])\n",
    "classes = [0,1]\n",
    "# cria uma lista vazia para guardar os resultados obtidos em cada fold\n",
    "resultados = []\n",
    "k = 1\n",
    "for train_index, test_index  in fold :\n",
    "    \n",
    "    print('\\n-----------\\n%d-fold: \\n-----------\\n' % (k) )\n",
    "    \n",
    "    Xtrain, Xval = X2[train_index,:], X2[test_index, :]\n",
    "    Ytrain, Yval = Y2[train_index], Y2[test_index]\n",
    "    \n",
    "    Xtrain, new_vocabulary, index = pp.chi2(Xtrain, Ytrain, vocabulary)\n",
    "    Xval = Xval[:, index]\n",
    "    \n",
    "    probP, probN, pPos, pNeg = calcularProbabilidades(Xtrain, Ytrain)\n",
    "    result, acuracia = predicao(Xval, Yval, probP, probN, pPos, pNeg)\n",
    "    #print(result)\n",
    "    #cm = kf.get_confusionMatrix(Yval, result, classes)\n",
    "    auxResults = anl.relatorioDesempenho(Yval,result, classes, imprimeRelatorio=True)\n",
    "    resultados.append( auxResults )\n",
    "    k+=1\n",
    "    \n",
    "kf.mediaFolds( resultados, [0,1] )  "
   ]
  },
  {
   "cell_type": "code",
   "execution_count": null,
   "metadata": {},
   "outputs": [],
   "source": []
  }
 ],
 "metadata": {
  "kernelspec": {
   "display_name": "Python 3",
   "language": "python",
   "name": "python3"
  },
  "language_info": {
   "codemirror_mode": {
    "name": "ipython",
    "version": 3
   },
   "file_extension": ".py",
   "mimetype": "text/x-python",
   "name": "python",
   "nbconvert_exporter": "python",
   "pygments_lexer": "ipython3",
   "version": "3.6.7"
  }
 },
 "nbformat": 4,
 "nbformat_minor": 2
}
